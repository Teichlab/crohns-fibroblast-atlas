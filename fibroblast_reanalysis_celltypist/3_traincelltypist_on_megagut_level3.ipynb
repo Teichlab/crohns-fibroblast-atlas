{
 "cells": [
  {
   "cell_type": "code",
   "execution_count": 1,
   "id": "pharmaceutical-visibility",
   "metadata": {
    "execution": {
     "iopub.execute_input": "2024-09-03T14:39:32.554764Z",
     "iopub.status.busy": "2024-09-03T14:39:32.554412Z",
     "iopub.status.idle": "2024-09-03T14:40:38.757514Z",
     "shell.execute_reply": "2024-09-03T14:40:38.756695Z"
    }
   },
   "outputs": [],
   "source": [
    "import scanpy as sc\n",
    "import pandas as pd\n",
    "import celltypist\n",
    "\n",
    "from celltypist import models"
   ]
  },
  {
   "cell_type": "markdown",
   "id": "expressed-standard",
   "metadata": {},
   "source": [
    "# Run notebook as LSF job\n",
    "bsub -q basement \\\n",
    "    -n 10 \\\n",
    "    -M 380GB -R \"select[mem>380GB] rusage[mem=380GB]\" \\\n",
    "    -o logs/%J_output.log -e logs/%J_error.log \\\n",
    "    jupyter nbconvert \\\n",
    "        --to notebook \\\n",
    "        --ExecutePreprocessor.kernel_name=scanpy \\\n",
    "        --clear-output \\\n",
    "        --execute 3_traincelltypist_on_megagut_level3.ipynb"
   ]
  },
  {
   "cell_type": "markdown",
   "id": "current-comment",
   "metadata": {},
   "source": [
    "# Train megagut CellTypist models"
   ]
  },
  {
   "cell_type": "code",
   "execution_count": 2,
   "id": "expired-channel",
   "metadata": {
    "execution": {
     "iopub.execute_input": "2024-09-03T14:40:38.761230Z",
     "iopub.status.busy": "2024-09-03T14:40:38.760682Z",
     "iopub.status.idle": "2024-09-03T14:43:46.390217Z",
     "shell.execute_reply": "2024-09-03T14:43:46.389364Z"
    }
   },
   "outputs": [],
   "source": [
    "# Load megagut object\n",
    "adata = sc.read_h5ad(\"/nfs/team205/ao15/Megagut/Annotations_v3/h5ad/pooled_healthy_disease.remapped.allgenes.fine_annot.no_doublets.20230322.h5ad\")"
   ]
  },
  {
   "cell_type": "code",
   "execution_count": 3,
   "id": "arabic-quest",
   "metadata": {
    "execution": {
     "iopub.execute_input": "2024-09-03T14:43:46.393835Z",
     "iopub.status.busy": "2024-09-03T14:43:46.393421Z",
     "iopub.status.idle": "2024-09-03T14:44:08.962520Z",
     "shell.execute_reply": "2024-09-03T14:44:08.961567Z"
    }
   },
   "outputs": [
    {
     "name": "stderr",
     "output_type": "stream",
     "text": [
      "/tmp/ipykernel_65878/2974779274.py:2: DtypeWarning: Columns (73,82,83,84,86,93,102,105,112,113,114,115,117,119) have mixed types. Specify dtype option on import or set low_memory=False.\n",
      "  adata.obs = pd.read_csv('/nfs/team205/ao15/Megagut/Annotations_v3/metadata/pooled_healthy_disease.remapped.allgenes.fine_annot.no_doublets.20230322.csv',index_col=0)\n"
     ]
    }
   ],
   "source": [
    "# parse metadata\n",
    "adata.obs = pd.read_csv('/nfs/team205/ao15/Megagut/Annotations_v3/metadata/pooled_healthy_disease.remapped.allgenes.fine_annot.no_doublets.20230322.csv',index_col=0)"
   ]
  },
  {
   "cell_type": "code",
   "execution_count": 4,
   "id": "distinguished-capability",
   "metadata": {
    "execution": {
     "iopub.execute_input": "2024-09-03T14:44:08.966357Z",
     "iopub.status.busy": "2024-09-03T14:44:08.965946Z",
     "iopub.status.idle": "2024-09-03T14:44:08.970026Z",
     "shell.execute_reply": "2024-09-03T14:44:08.969403Z"
    }
   },
   "outputs": [],
   "source": [
    "#adata"
   ]
  },
  {
   "cell_type": "code",
   "execution_count": 5,
   "id": "expanded-virtue",
   "metadata": {
    "execution": {
     "iopub.execute_input": "2024-09-03T14:44:08.972558Z",
     "iopub.status.busy": "2024-09-03T14:44:08.972136Z",
     "iopub.status.idle": "2024-09-03T14:44:08.983504Z",
     "shell.execute_reply": "2024-09-03T14:44:08.982849Z"
    }
   },
   "outputs": [],
   "source": [
    "#adata.obs.organ_broad.value_counts()"
   ]
  },
  {
   "cell_type": "code",
   "execution_count": 6,
   "id": "competent-digest",
   "metadata": {
    "execution": {
     "iopub.execute_input": "2024-09-03T14:44:08.986233Z",
     "iopub.status.busy": "2024-09-03T14:44:08.985861Z",
     "iopub.status.idle": "2024-09-03T14:44:09.324782Z",
     "shell.execute_reply": "2024-09-03T14:44:09.324160Z"
    }
   },
   "outputs": [],
   "source": [
    "# Subset data to small intestine\n",
    "adata = adata[adata.obs.organ_broad == 'lowerGI_small']"
   ]
  },
  {
   "cell_type": "code",
   "execution_count": 7,
   "id": "ceramic-trinidad",
   "metadata": {
    "execution": {
     "iopub.execute_input": "2024-09-03T14:44:09.327594Z",
     "iopub.status.busy": "2024-09-03T14:44:09.327210Z",
     "iopub.status.idle": "2024-09-03T14:44:09.333469Z",
     "shell.execute_reply": "2024-09-03T14:44:09.332911Z"
    }
   },
   "outputs": [
    {
     "data": {
      "text/plain": [
       "View of AnnData object with n_obs × n_vars = 480472 × 36601\n",
       "    obs: 'latent_cell_probability', 'latent_RT_efficiency', 'cecilia22_predH', 'cecilia22_predH_prob', 'cecilia22_predH_uncertain', 'cecilia22_predL', 'cecilia22_predL_prob', 'cecilia22_predL_uncertain', 'elmentaite21_pred', 'elmentaite21_pred_prob', 'elmentaite21_pred_uncertain', 'suo22_pred', 'suo22_pred_prob', 'suo22_pred_uncertain', 'n_counts', 'log1p_n_counts', 'n_genes', 'log1p_n_genes', 'percent_mito', 'n_counts_mito', 'percent_ribo', 'n_counts_ribo', 'percent_hb', 'n_counts_hb', 'percent_top50', 'n_counts_raw', 'log1p_n_counts_raw', 'n_genes_raw', 'log1p_n_genes_raw', 'percent_mito_raw', 'n_counts_mito_raw', 'percent_ribo_raw', 'n_counts_ribo_raw', 'percent_hb_raw', 'n_counts_hb_raw', 'percent_top50_raw', 'n_counts_spliced', 'log1p_n_counts_spliced', 'n_genes_spliced', 'log1p_n_genes_spliced', 'percent_mito_spliced', 'n_counts_mito_spliced', 'percent_ribo_spliced', 'n_counts_ribo_spliced', 'percent_hb_spliced', 'n_counts_hb_spliced', 'percent_top50_spliced', 'n_counts_unspliced', 'log1p_n_counts_unspliced', 'n_genes_unspliced', 'log1p_n_genes_unspliced', 'percent_mito_unspliced', 'n_counts_mito_unspliced', 'percent_ribo_unspliced', 'n_counts_ribo_unspliced', 'percent_hb_unspliced', 'n_counts_hb_unspliced', 'percent_top50_unspliced', 'percent_soup', 'percent_spliced', 'qc_cluster', 'pass_auto_filter_mito20', 'good_qc_cluster_mito20', 'pass_auto_filter_mito50', 'good_qc_cluster_mito50', 'pass_auto_filter_mito80', 'good_qc_cluster_mito80', 'pass_auto_filter', 'good_qc_cluster', 'pass_default', 'sampleID', 'sourceID', 'donorID_original', 'study', 'donorID_corrected', 'donorID_unified', 'donor_category', 'donor_disease', 'organ_original', 'organ_unified', 'organ_broad', 'age_original', 'age_unified', 'age_continuousadult', 'age_continuousdev', 'sex', 'sample_type', 'sample_category', 'sample_retrieval', 'tissue_fraction', 'cell_fraction', 'cell_fraction_unified', 'cell_sorting', 'technology', 'include_150722', 'cluster_scrublet_score', 'bh_pval', 'scrublet_score', 'scrublet_score_z', 'doublet', 'stringent_doublet', 'integration_grouping', '_scvi_batch', '_scvi_labels', 'broad_annot_20220914', 'martin19_pred', 'martin19_pred_prob', 'martin19_pred_uncertain', 'warner20_pred', 'warner20_pred_prob', 'warner20_pred_uncertain', 'broad_annot_20220917', 'donor_organ_lineage', 'fine_annot', 'fine_annot_original', 'level_1_annot', 'level_2_annot', 'level_3_annot', 'broad_predicted_labels', 'broad_predicted_labels_uncert', 'batch', 'organ_groups', 'control_vs_disease', 'disease'\n",
       "    var: 'gene_ids', 'feature_type', 'mito', 'ribo', 'hb', 'cc', 'ig', 'tcr', 'n_counts-0', 'n_counts_raw-0', 'n_counts_spliced-0', 'n_counts_unspliced-0', 'n_cells-0', 'n_cells_raw-0', 'n_cells_spliced-0', 'n_cells_unspliced-0', 'n_counts-1', 'n_counts_raw-1', 'n_counts_spliced-1', 'n_counts_unspliced-1', 'n_cells-1', 'n_cells_raw-1', 'n_cells_spliced-1', 'n_cells_unspliced-1'\n",
       "    uns: 'age_unified_colors', 'control_vs_disease_colors', 'disease_colors', 'level_1_annot_colors', 'level_3_annot_colors', 'neighbors', 'organ_groups_colors', 'organ_unified_colors', 'study_colors', 'umap'\n",
       "    obsm: 'X_mde', 'X_scANVI', 'X_umap', '_scvi_extra_continuous_covs'\n",
       "    obsp: 'connectivities', 'distances'"
      ]
     },
     "execution_count": 7,
     "metadata": {},
     "output_type": "execute_result"
    }
   ],
   "source": [
    "adata"
   ]
  },
  {
   "cell_type": "code",
   "execution_count": 8,
   "id": "advised-programmer",
   "metadata": {
    "execution": {
     "iopub.execute_input": "2024-09-03T14:44:09.335426Z",
     "iopub.status.busy": "2024-09-03T14:44:09.335128Z",
     "iopub.status.idle": "2024-09-03T14:44:37.493904Z",
     "shell.execute_reply": "2024-09-03T14:44:37.493002Z"
    }
   },
   "outputs": [],
   "source": [
    "# Normalize megagut\n",
    "sc.pp.normalize_per_cell(adata, counts_per_cell_after=10000)\n",
    "\n",
    "# Pseudo log transform\n",
    "sc.pp.log1p(adata)"
   ]
  },
  {
   "cell_type": "code",
   "execution_count": 9,
   "id": "variable-chain",
   "metadata": {
    "execution": {
     "iopub.execute_input": "2024-09-03T14:44:37.497287Z",
     "iopub.status.busy": "2024-09-03T14:44:37.496952Z",
     "iopub.status.idle": "2024-09-03T14:44:37.502120Z",
     "shell.execute_reply": "2024-09-03T14:44:37.501585Z"
    }
   },
   "outputs": [
    {
     "data": {
      "text/plain": [
       "AnnData object with n_obs × n_vars = 480472 × 36601\n",
       "    obs: 'latent_cell_probability', 'latent_RT_efficiency', 'cecilia22_predH', 'cecilia22_predH_prob', 'cecilia22_predH_uncertain', 'cecilia22_predL', 'cecilia22_predL_prob', 'cecilia22_predL_uncertain', 'elmentaite21_pred', 'elmentaite21_pred_prob', 'elmentaite21_pred_uncertain', 'suo22_pred', 'suo22_pred_prob', 'suo22_pred_uncertain', 'n_counts', 'log1p_n_counts', 'n_genes', 'log1p_n_genes', 'percent_mito', 'n_counts_mito', 'percent_ribo', 'n_counts_ribo', 'percent_hb', 'n_counts_hb', 'percent_top50', 'n_counts_raw', 'log1p_n_counts_raw', 'n_genes_raw', 'log1p_n_genes_raw', 'percent_mito_raw', 'n_counts_mito_raw', 'percent_ribo_raw', 'n_counts_ribo_raw', 'percent_hb_raw', 'n_counts_hb_raw', 'percent_top50_raw', 'n_counts_spliced', 'log1p_n_counts_spliced', 'n_genes_spliced', 'log1p_n_genes_spliced', 'percent_mito_spliced', 'n_counts_mito_spliced', 'percent_ribo_spliced', 'n_counts_ribo_spliced', 'percent_hb_spliced', 'n_counts_hb_spliced', 'percent_top50_spliced', 'n_counts_unspliced', 'log1p_n_counts_unspliced', 'n_genes_unspliced', 'log1p_n_genes_unspliced', 'percent_mito_unspliced', 'n_counts_mito_unspliced', 'percent_ribo_unspliced', 'n_counts_ribo_unspliced', 'percent_hb_unspliced', 'n_counts_hb_unspliced', 'percent_top50_unspliced', 'percent_soup', 'percent_spliced', 'qc_cluster', 'pass_auto_filter_mito20', 'good_qc_cluster_mito20', 'pass_auto_filter_mito50', 'good_qc_cluster_mito50', 'pass_auto_filter_mito80', 'good_qc_cluster_mito80', 'pass_auto_filter', 'good_qc_cluster', 'pass_default', 'sampleID', 'sourceID', 'donorID_original', 'study', 'donorID_corrected', 'donorID_unified', 'donor_category', 'donor_disease', 'organ_original', 'organ_unified', 'organ_broad', 'age_original', 'age_unified', 'age_continuousadult', 'age_continuousdev', 'sex', 'sample_type', 'sample_category', 'sample_retrieval', 'tissue_fraction', 'cell_fraction', 'cell_fraction_unified', 'cell_sorting', 'technology', 'include_150722', 'cluster_scrublet_score', 'bh_pval', 'scrublet_score', 'scrublet_score_z', 'doublet', 'stringent_doublet', 'integration_grouping', '_scvi_batch', '_scvi_labels', 'broad_annot_20220914', 'martin19_pred', 'martin19_pred_prob', 'martin19_pred_uncertain', 'warner20_pred', 'warner20_pred_prob', 'warner20_pred_uncertain', 'broad_annot_20220917', 'donor_organ_lineage', 'fine_annot', 'fine_annot_original', 'level_1_annot', 'level_2_annot', 'level_3_annot', 'broad_predicted_labels', 'broad_predicted_labels_uncert', 'batch', 'organ_groups', 'control_vs_disease', 'disease'\n",
       "    var: 'gene_ids', 'feature_type', 'mito', 'ribo', 'hb', 'cc', 'ig', 'tcr', 'n_counts-0', 'n_counts_raw-0', 'n_counts_spliced-0', 'n_counts_unspliced-0', 'n_cells-0', 'n_cells_raw-0', 'n_cells_spliced-0', 'n_cells_unspliced-0', 'n_counts-1', 'n_counts_raw-1', 'n_counts_spliced-1', 'n_counts_unspliced-1', 'n_cells-1', 'n_cells_raw-1', 'n_cells_spliced-1', 'n_cells_unspliced-1'\n",
       "    uns: 'age_unified_colors', 'control_vs_disease_colors', 'disease_colors', 'level_1_annot_colors', 'level_3_annot_colors', 'neighbors', 'organ_groups_colors', 'organ_unified_colors', 'study_colors', 'umap', 'log1p'\n",
       "    obsm: 'X_mde', 'X_scANVI', 'X_umap', '_scvi_extra_continuous_covs'\n",
       "    obsp: 'connectivities', 'distances'"
      ]
     },
     "execution_count": 9,
     "metadata": {},
     "output_type": "execute_result"
    }
   ],
   "source": [
    "adata"
   ]
  },
  {
   "cell_type": "code",
   "execution_count": 10,
   "id": "tested-connecticut",
   "metadata": {
    "execution": {
     "iopub.execute_input": "2024-09-03T14:44:37.504424Z",
     "iopub.status.busy": "2024-09-03T14:44:37.504104Z",
     "iopub.status.idle": "2024-09-03T14:44:37.573995Z",
     "shell.execute_reply": "2024-09-03T14:44:37.573386Z"
    }
   },
   "outputs": [
    {
     "data": {
      "text/plain": [
       "level_1_annot\n",
       "Mesenchymal       161386\n",
       "Epithelial        125209\n",
       "T and NK cells     94151\n",
       "B and B plasma     50928\n",
       "Myeloid            18373\n",
       "Neural             15906\n",
       "Endothelial        14519\n",
       "Name: count, dtype: int64"
      ]
     },
     "execution_count": 10,
     "metadata": {},
     "output_type": "execute_result"
    }
   ],
   "source": [
    "adata.obs.level_1_annot.value_counts(dropna=False)"
   ]
  },
  {
   "cell_type": "code",
   "execution_count": 11,
   "id": "continent-developer",
   "metadata": {
    "execution": {
     "iopub.execute_input": "2024-09-03T14:44:37.576459Z",
     "iopub.status.busy": "2024-09-03T14:44:37.576181Z",
     "iopub.status.idle": "2024-09-03T14:44:37.595796Z",
     "shell.execute_reply": "2024-09-03T14:44:37.595184Z"
    }
   },
   "outputs": [
    {
     "data": {
      "text/plain": [
       "level_2_annot\n",
       "NaN                       77668\n",
       "Absorptive                64938\n",
       "Fibroblast                63700\n",
       "Mesoderm                  53759\n",
       "Conventional_CD4          23579\n",
       "Mature_B                  18591\n",
       "Smooth_muscle             16925\n",
       "Conventional_CD8          16558\n",
       "Cycling_epithelia         13374\n",
       "Myofibroblast             12081\n",
       "B_plasma                  11230\n",
       "Vascular_endothelia       10862\n",
       "Secretory                 10205\n",
       "Transit_amplifying         9758\n",
       "Epithelial_progenitor      8705\n",
       "Macrophage                 8562\n",
       "Unconventional_T/ILC       7990\n",
       "Neuron_progenitor          7785\n",
       "Stem                       7292\n",
       "Pericyte                   5847\n",
       "Neuron                     4837\n",
       "Treg                       3856\n",
       "DC                         3595\n",
       "NK                         3207\n",
       "Glia                       3025\n",
       "Lymphoid_stromal_cell      2436\n",
       "Enteroendocrine            1664\n",
       "Mesothelium                1591\n",
       "Monocyte                   1464\n",
       "Lymphatic_endothelia       1399\n",
       "Intestinal_Cajal_cell       911\n",
       "Cycling_T/NK                674\n",
       "Immature_B                  656\n",
       "Granulocyte                 639\n",
       "Cycling_endothelia          595\n",
       "Microfold                   482\n",
       "Erythrocyte                  28\n",
       "Megakaryocyte/platelet        4\n",
       "Name: count, dtype: int64"
      ]
     },
     "execution_count": 11,
     "metadata": {},
     "output_type": "execute_result"
    }
   ],
   "source": [
    "adata.obs.level_2_annot.value_counts(dropna=False)"
   ]
  },
  {
   "cell_type": "code",
   "execution_count": 12,
   "id": "answering-forestry",
   "metadata": {
    "execution": {
     "iopub.execute_input": "2024-09-03T14:44:37.598115Z",
     "iopub.status.busy": "2024-09-03T14:44:37.597815Z",
     "iopub.status.idle": "2024-09-03T14:44:37.623475Z",
     "shell.execute_reply": "2024-09-03T14:44:37.622874Z"
    }
   },
   "outputs": [
    {
     "data": {
      "text/plain": [
       "level_3_annot\n",
       "Enterocyte                            67021\n",
       "Mesoderm_2                            40543\n",
       "Lamina_propria_fibroblast_ADAMDEC1    22545\n",
       "Trm_CD4                               16262\n",
       "B_naive                               15483\n",
       "                                      ...  \n",
       "Oesophagus_fibroblast                    42\n",
       "Erythrocytes                             32\n",
       "Immune_recruiting_pericyte               25\n",
       "Rectum_fibroblast                        22\n",
       "Megakaryocyte/platelet                    4\n",
       "Name: count, Length: 105, dtype: int64"
      ]
     },
     "execution_count": 12,
     "metadata": {},
     "output_type": "execute_result"
    }
   ],
   "source": [
    "adata.obs.level_3_annot.value_counts(dropna=False)"
   ]
  },
  {
   "cell_type": "code",
   "execution_count": 13,
   "id": "nearby-double",
   "metadata": {
    "execution": {
     "iopub.execute_input": "2024-09-03T14:44:37.625740Z",
     "iopub.status.busy": "2024-09-03T14:44:37.625470Z",
     "iopub.status.idle": "2024-09-03T14:44:37.631821Z",
     "shell.execute_reply": "2024-09-03T14:44:37.631283Z"
    }
   },
   "outputs": [],
   "source": [
    "# Check if labels contains missing values, which "
   ]
  },
  {
   "cell_type": "code",
   "execution_count": 14,
   "id": "framed-february",
   "metadata": {
    "execution": {
     "iopub.execute_input": "2024-09-03T14:44:37.634045Z",
     "iopub.status.busy": "2024-09-03T14:44:37.633728Z",
     "iopub.status.idle": "2024-09-03T14:44:37.680748Z",
     "shell.execute_reply": "2024-09-03T14:44:37.680088Z"
    }
   },
   "outputs": [
    {
     "data": {
      "text/plain": [
       "False"
      ]
     },
     "execution_count": 14,
     "metadata": {},
     "output_type": "execute_result"
    }
   ],
   "source": [
    "any(adata.obs.level_1_annot.isna())"
   ]
  },
  {
   "cell_type": "code",
   "execution_count": 15,
   "id": "boolean-healing",
   "metadata": {
    "execution": {
     "iopub.execute_input": "2024-09-03T14:44:37.683299Z",
     "iopub.status.busy": "2024-09-03T14:44:37.683023Z",
     "iopub.status.idle": "2024-09-03T14:44:37.722598Z",
     "shell.execute_reply": "2024-09-03T14:44:37.721958Z"
    }
   },
   "outputs": [
    {
     "data": {
      "text/plain": [
       "True"
      ]
     },
     "execution_count": 15,
     "metadata": {},
     "output_type": "execute_result"
    }
   ],
   "source": [
    "any(adata.obs.level_2_annot.isna())"
   ]
  },
  {
   "cell_type": "code",
   "execution_count": 16,
   "id": "automated-spoke",
   "metadata": {
    "execution": {
     "iopub.execute_input": "2024-09-03T14:44:37.726297Z",
     "iopub.status.busy": "2024-09-03T14:44:37.725996Z",
     "iopub.status.idle": "2024-09-03T14:44:37.770396Z",
     "shell.execute_reply": "2024-09-03T14:44:37.769757Z"
    }
   },
   "outputs": [
    {
     "data": {
      "text/plain": [
       "False"
      ]
     },
     "execution_count": 16,
     "metadata": {},
     "output_type": "execute_result"
    }
   ],
   "source": [
    "any(adata.obs.level_3_annot.isna())"
   ]
  },
  {
   "cell_type": "code",
   "execution_count": 17,
   "id": "crucial-performer",
   "metadata": {
    "execution": {
     "iopub.execute_input": "2024-09-03T14:44:37.772887Z",
     "iopub.status.busy": "2024-09-03T14:44:37.772597Z",
     "iopub.status.idle": "2024-09-03T14:44:37.779929Z",
     "shell.execute_reply": "2024-09-03T14:44:37.779279Z"
    }
   },
   "outputs": [],
   "source": [
    "#adata"
   ]
  },
  {
   "cell_type": "code",
   "execution_count": 18,
   "id": "banner-bracelet",
   "metadata": {
    "execution": {
     "iopub.execute_input": "2024-09-03T14:44:37.782493Z",
     "iopub.status.busy": "2024-09-03T14:44:37.782124Z",
     "iopub.status.idle": "2024-09-03T14:44:38.063731Z",
     "shell.execute_reply": "2024-09-03T14:44:38.063162Z"
    }
   },
   "outputs": [
    {
     "data": {
      "text/plain": [
       "View of AnnData object with n_obs × n_vars = 402804 × 36601\n",
       "    obs: 'latent_cell_probability', 'latent_RT_efficiency', 'cecilia22_predH', 'cecilia22_predH_prob', 'cecilia22_predH_uncertain', 'cecilia22_predL', 'cecilia22_predL_prob', 'cecilia22_predL_uncertain', 'elmentaite21_pred', 'elmentaite21_pred_prob', 'elmentaite21_pred_uncertain', 'suo22_pred', 'suo22_pred_prob', 'suo22_pred_uncertain', 'n_counts', 'log1p_n_counts', 'n_genes', 'log1p_n_genes', 'percent_mito', 'n_counts_mito', 'percent_ribo', 'n_counts_ribo', 'percent_hb', 'n_counts_hb', 'percent_top50', 'n_counts_raw', 'log1p_n_counts_raw', 'n_genes_raw', 'log1p_n_genes_raw', 'percent_mito_raw', 'n_counts_mito_raw', 'percent_ribo_raw', 'n_counts_ribo_raw', 'percent_hb_raw', 'n_counts_hb_raw', 'percent_top50_raw', 'n_counts_spliced', 'log1p_n_counts_spliced', 'n_genes_spliced', 'log1p_n_genes_spliced', 'percent_mito_spliced', 'n_counts_mito_spliced', 'percent_ribo_spliced', 'n_counts_ribo_spliced', 'percent_hb_spliced', 'n_counts_hb_spliced', 'percent_top50_spliced', 'n_counts_unspliced', 'log1p_n_counts_unspliced', 'n_genes_unspliced', 'log1p_n_genes_unspliced', 'percent_mito_unspliced', 'n_counts_mito_unspliced', 'percent_ribo_unspliced', 'n_counts_ribo_unspliced', 'percent_hb_unspliced', 'n_counts_hb_unspliced', 'percent_top50_unspliced', 'percent_soup', 'percent_spliced', 'qc_cluster', 'pass_auto_filter_mito20', 'good_qc_cluster_mito20', 'pass_auto_filter_mito50', 'good_qc_cluster_mito50', 'pass_auto_filter_mito80', 'good_qc_cluster_mito80', 'pass_auto_filter', 'good_qc_cluster', 'pass_default', 'sampleID', 'sourceID', 'donorID_original', 'study', 'donorID_corrected', 'donorID_unified', 'donor_category', 'donor_disease', 'organ_original', 'organ_unified', 'organ_broad', 'age_original', 'age_unified', 'age_continuousadult', 'age_continuousdev', 'sex', 'sample_type', 'sample_category', 'sample_retrieval', 'tissue_fraction', 'cell_fraction', 'cell_fraction_unified', 'cell_sorting', 'technology', 'include_150722', 'cluster_scrublet_score', 'bh_pval', 'scrublet_score', 'scrublet_score_z', 'doublet', 'stringent_doublet', 'integration_grouping', '_scvi_batch', '_scvi_labels', 'broad_annot_20220914', 'martin19_pred', 'martin19_pred_prob', 'martin19_pred_uncertain', 'warner20_pred', 'warner20_pred_prob', 'warner20_pred_uncertain', 'broad_annot_20220917', 'donor_organ_lineage', 'fine_annot', 'fine_annot_original', 'level_1_annot', 'level_2_annot', 'level_3_annot', 'broad_predicted_labels', 'broad_predicted_labels_uncert', 'batch', 'organ_groups', 'control_vs_disease', 'disease'\n",
       "    var: 'gene_ids', 'feature_type', 'mito', 'ribo', 'hb', 'cc', 'ig', 'tcr', 'n_counts-0', 'n_counts_raw-0', 'n_counts_spliced-0', 'n_counts_unspliced-0', 'n_cells-0', 'n_cells_raw-0', 'n_cells_spliced-0', 'n_cells_unspliced-0', 'n_counts-1', 'n_counts_raw-1', 'n_counts_spliced-1', 'n_counts_unspliced-1', 'n_cells-1', 'n_cells_raw-1', 'n_cells_spliced-1', 'n_cells_unspliced-1'\n",
       "    uns: 'age_unified_colors', 'control_vs_disease_colors', 'disease_colors', 'level_1_annot_colors', 'level_3_annot_colors', 'neighbors', 'organ_groups_colors', 'organ_unified_colors', 'study_colors', 'umap', 'log1p'\n",
       "    obsm: 'X_mde', 'X_scANVI', 'X_umap', '_scvi_extra_continuous_covs'\n",
       "    obsp: 'connectivities', 'distances'"
      ]
     },
     "execution_count": 18,
     "metadata": {},
     "output_type": "execute_result"
    }
   ],
   "source": [
    "adata[~adata.obs.level_2_annot.isna()]"
   ]
  },
  {
   "cell_type": "code",
   "execution_count": 19,
   "id": "immune-blade",
   "metadata": {
    "execution": {
     "iopub.execute_input": "2024-09-03T14:44:38.066123Z",
     "iopub.status.busy": "2024-09-03T14:44:38.065869Z",
     "iopub.status.idle": "2024-09-03T14:44:38.068726Z",
     "shell.execute_reply": "2024-09-03T14:44:38.068206Z"
    }
   },
   "outputs": [],
   "source": [
    "# model_lvl1 = celltypist.train(adata, labels='level_1_annot', n_jobs=10, feature_selection=False, )"
   ]
  },
  {
   "cell_type": "code",
   "execution_count": 20,
   "id": "orange-vinyl",
   "metadata": {
    "execution": {
     "iopub.execute_input": "2024-09-03T14:44:38.070837Z",
     "iopub.status.busy": "2024-09-03T14:44:38.070525Z",
     "iopub.status.idle": "2024-09-03T14:44:38.080245Z",
     "shell.execute_reply": "2024-09-03T14:44:38.079650Z"
    }
   },
   "outputs": [],
   "source": [
    "# # Save model\n",
    "# model_lvl1.write('celltypist/megagutSmallIntestine_lvl1.pkl')"
   ]
  },
  {
   "cell_type": "code",
   "execution_count": 21,
   "id": "dimensional-debut",
   "metadata": {
    "execution": {
     "iopub.execute_input": "2024-09-03T14:44:38.083037Z",
     "iopub.status.busy": "2024-09-03T14:44:38.082525Z",
     "iopub.status.idle": "2024-09-03T14:44:38.092372Z",
     "shell.execute_reply": "2024-09-03T14:44:38.091715Z"
    }
   },
   "outputs": [],
   "source": [
    "# # Exclude missing labels from training data\n",
    "# model_lvl2 = celltypist.train(adata[~adata.obs.level_2_annot.isna()], labels='level_2_annot', n_jobs=10, feature_selection=False)"
   ]
  },
  {
   "cell_type": "code",
   "execution_count": 22,
   "id": "proprietary-slope",
   "metadata": {
    "execution": {
     "iopub.execute_input": "2024-09-03T14:44:38.095292Z",
     "iopub.status.busy": "2024-09-03T14:44:38.094723Z",
     "iopub.status.idle": "2024-09-03T14:44:38.103407Z",
     "shell.execute_reply": "2024-09-03T14:44:38.102842Z"
    }
   },
   "outputs": [],
   "source": [
    "# model_lvl2.write('celltypist/megagutSmallIntestine_lvl2.pkl')"
   ]
  },
  {
   "cell_type": "code",
   "execution_count": 23,
   "id": "after-virus",
   "metadata": {
    "execution": {
     "iopub.execute_input": "2024-09-03T14:44:38.105742Z",
     "iopub.status.busy": "2024-09-03T14:44:38.105330Z",
     "iopub.status.idle": "2024-09-09T18:43:48.695948Z",
     "shell.execute_reply": "2024-09-09T18:43:48.694934Z"
    }
   },
   "outputs": [
    {
     "name": "stderr",
     "output_type": "stream",
     "text": [
      "🍳 Preparing data before training\n",
      "✂️ 1956 non-expressed genes are filtered out\n",
      "🔬 Input data has 480472 cells and 34645 genes\n",
      "⚖️ Scaling input data\n",
      "🏋️ Training data using logistic regression\n",
      "⚠️ Warning: it may take a long time to train this dataset with 480472 cells and 34645 genes, try to downsample cells and/or restrict genes to a subset (e.g., hvgs)\n",
      "✅ Model training done!\n"
     ]
    }
   ],
   "source": [
    "model_lvl3 = celltypist.train(adata, labels='level_3_annot', n_jobs=10, feature_selection=False)"
   ]
  },
  {
   "cell_type": "code",
   "execution_count": 24,
   "id": "satisfied-trailer",
   "metadata": {
    "execution": {
     "iopub.execute_input": "2024-09-09T18:43:48.765796Z",
     "iopub.status.busy": "2024-09-09T18:43:48.765027Z",
     "iopub.status.idle": "2024-09-09T18:43:48.841008Z",
     "shell.execute_reply": "2024-09-09T18:43:48.840350Z"
    }
   },
   "outputs": [],
   "source": [
    "model_lvl3.write('celltypist/megagutSmallIntestine_lvl3.pkl')"
   ]
  },
  {
   "cell_type": "code",
   "execution_count": 25,
   "id": "hollywood-public",
   "metadata": {
    "execution": {
     "iopub.execute_input": "2024-09-09T18:43:48.845120Z",
     "iopub.status.busy": "2024-09-09T18:43:48.844601Z",
     "iopub.status.idle": "2024-09-09T18:43:48.911994Z",
     "shell.execute_reply": "2024-09-09T18:43:48.911317Z"
    }
   },
   "outputs": [],
   "source": [
    "#model = models.Model.load(\"/nfs/team205/ao15/Megagut/Annotations_v3/make_celltypist_models/models/1_full_healthy_reference_all_ages_organs_finalmodel.pkl\")"
   ]
  },
  {
   "cell_type": "code",
   "execution_count": 26,
   "id": "nervous-queens",
   "metadata": {
    "execution": {
     "iopub.execute_input": "2024-09-09T18:43:48.914998Z",
     "iopub.status.busy": "2024-09-09T18:43:48.914437Z",
     "iopub.status.idle": "2024-09-09T18:43:48.924407Z",
     "shell.execute_reply": "2024-09-09T18:43:48.923830Z"
    }
   },
   "outputs": [],
   "source": [
    "#model.cell_types"
   ]
  },
  {
   "cell_type": "code",
   "execution_count": 27,
   "id": "harmful-meter",
   "metadata": {
    "execution": {
     "iopub.execute_input": "2024-09-09T18:43:48.927074Z",
     "iopub.status.busy": "2024-09-09T18:43:48.926826Z",
     "iopub.status.idle": "2024-09-09T18:43:48.937674Z",
     "shell.execute_reply": "2024-09-09T18:43:48.937088Z"
    }
   },
   "outputs": [
    {
     "name": "stdout",
     "output_type": "stream",
     "text": [
      "finished\n"
     ]
    }
   ],
   "source": [
    "print(\"finished\")"
   ]
  }
 ],
 "metadata": {
  "kernelspec": {
   "display_name": "ni_env2",
   "language": "python",
   "name": "ni_env2"
  },
  "language_info": {
   "codemirror_mode": {
    "name": "ipython",
    "version": 3
   },
   "file_extension": ".py",
   "mimetype": "text/x-python",
   "name": "python",
   "nbconvert_exporter": "python",
   "pygments_lexer": "ipython3",
   "version": "3.10.14"
  },
  "widgets": {
   "application/vnd.jupyter.widget-state+json": {
    "state": {},
    "version_major": 2,
    "version_minor": 0
   }
  }
 },
 "nbformat": 4,
 "nbformat_minor": 5
}
