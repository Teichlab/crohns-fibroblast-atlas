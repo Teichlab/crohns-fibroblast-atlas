{
 "cells": [
  {
   "cell_type": "code",
   "execution_count": 7,
   "id": "purple-reservation",
   "metadata": {},
   "outputs": [],
   "source": [
    "import scanpy as sc\n",
    "import pandas as pd\n",
    "import celltypist\n",
    "\n",
    "from celltypist import models"
   ]
  },
  {
   "cell_type": "markdown",
   "id": "middle-houston",
   "metadata": {},
   "source": [
    "# Run notebook as LSF job\n",
    "bsub -q week \\\n",
    "    -n 10 \\\n",
    "    -M 380GB -R \"select[mem>380GB] rusage[mem=380GB]\" \\\n",
    "    -o logs/%J_output.log -e logs/%J_error.log \\\n",
    "    jupyter nbconvert \\\n",
    "        --to notebook \\\n",
    "        --ExecutePreprocessor.kernel_name=scanpy \\\n",
    "        --clear-output \\\n",
    "        --execute 3_traincelltypist_on_megagut.ipynb"
   ]
  },
  {
   "cell_type": "markdown",
   "id": "informative-gospel",
   "metadata": {},
   "source": [
    "# Train megagut CellTypist models"
   ]
  },
  {
   "cell_type": "code",
   "execution_count": 8,
   "id": "turkish-equation",
   "metadata": {},
   "outputs": [],
   "source": [
    "# Load megagut object\n",
    "adata = sc.read_h5ad(\"/nfs/team205/ao15/Megagut/Annotations_v3/h5ad/pooled_healthy_disease.remapped.allgenes.fine_annot.no_doublets.20230322.h5ad\")"
   ]
  },
  {
   "cell_type": "code",
   "execution_count": 9,
   "id": "arabic-statistics",
   "metadata": {},
   "outputs": [
    {
     "name": "stderr",
     "output_type": "stream",
     "text": [
      "/tmp/ipykernel_1596/2974779274.py:2: DtypeWarning: Columns (73,82,83,84,86,93,102,105,112,113,114,115,117,119) have mixed types. Specify dtype option on import or set low_memory=False.\n",
      "  adata.obs = pd.read_csv('/nfs/team205/ao15/Megagut/Annotations_v3/metadata/pooled_healthy_disease.remapped.allgenes.fine_annot.no_doublets.20230322.csv',index_col=0)\n"
     ]
    }
   ],
   "source": [
    "# parse metadata\n",
    "adata.obs = pd.read_csv('/nfs/team205/ao15/Megagut/Annotations_v3/metadata/pooled_healthy_disease.remapped.allgenes.fine_annot.no_doublets.20230322.csv',index_col=0)"
   ]
  },
  {
   "cell_type": "code",
   "execution_count": 14,
   "id": "delayed-iceland",
   "metadata": {},
   "outputs": [],
   "source": [
    "#adata"
   ]
  },
  {
   "cell_type": "code",
   "execution_count": 15,
   "id": "qualified-amber",
   "metadata": {},
   "outputs": [],
   "source": [
    "#adata.obs.organ_broad.value_counts()"
   ]
  },
  {
   "cell_type": "code",
   "execution_count": 16,
   "id": "irish-pavilion",
   "metadata": {},
   "outputs": [],
   "source": [
    "# Subset data to small intestine\n",
    "adata = adata[adata.obs.organ_broad == 'lowerGI_small']"
   ]
  },
  {
   "cell_type": "code",
   "execution_count": 22,
   "id": "enormous-sewing",
   "metadata": {},
   "outputs": [
    {
     "data": {
      "text/plain": [
       "View of AnnData object with n_obs × n_vars = 480472 × 36601\n",
       "    obs: 'latent_cell_probability', 'latent_RT_efficiency', 'cecilia22_predH', 'cecilia22_predH_prob', 'cecilia22_predH_uncertain', 'cecilia22_predL', 'cecilia22_predL_prob', 'cecilia22_predL_uncertain', 'elmentaite21_pred', 'elmentaite21_pred_prob', 'elmentaite21_pred_uncertain', 'suo22_pred', 'suo22_pred_prob', 'suo22_pred_uncertain', 'n_counts', 'log1p_n_counts', 'n_genes', 'log1p_n_genes', 'percent_mito', 'n_counts_mito', 'percent_ribo', 'n_counts_ribo', 'percent_hb', 'n_counts_hb', 'percent_top50', 'n_counts_raw', 'log1p_n_counts_raw', 'n_genes_raw', 'log1p_n_genes_raw', 'percent_mito_raw', 'n_counts_mito_raw', 'percent_ribo_raw', 'n_counts_ribo_raw', 'percent_hb_raw', 'n_counts_hb_raw', 'percent_top50_raw', 'n_counts_spliced', 'log1p_n_counts_spliced', 'n_genes_spliced', 'log1p_n_genes_spliced', 'percent_mito_spliced', 'n_counts_mito_spliced', 'percent_ribo_spliced', 'n_counts_ribo_spliced', 'percent_hb_spliced', 'n_counts_hb_spliced', 'percent_top50_spliced', 'n_counts_unspliced', 'log1p_n_counts_unspliced', 'n_genes_unspliced', 'log1p_n_genes_unspliced', 'percent_mito_unspliced', 'n_counts_mito_unspliced', 'percent_ribo_unspliced', 'n_counts_ribo_unspliced', 'percent_hb_unspliced', 'n_counts_hb_unspliced', 'percent_top50_unspliced', 'percent_soup', 'percent_spliced', 'qc_cluster', 'pass_auto_filter_mito20', 'good_qc_cluster_mito20', 'pass_auto_filter_mito50', 'good_qc_cluster_mito50', 'pass_auto_filter_mito80', 'good_qc_cluster_mito80', 'pass_auto_filter', 'good_qc_cluster', 'pass_default', 'sampleID', 'sourceID', 'donorID_original', 'study', 'donorID_corrected', 'donorID_unified', 'donor_category', 'donor_disease', 'organ_original', 'organ_unified', 'organ_broad', 'age_original', 'age_unified', 'age_continuousadult', 'age_continuousdev', 'sex', 'sample_type', 'sample_category', 'sample_retrieval', 'tissue_fraction', 'cell_fraction', 'cell_fraction_unified', 'cell_sorting', 'technology', 'include_150722', 'cluster_scrublet_score', 'bh_pval', 'scrublet_score', 'scrublet_score_z', 'doublet', 'stringent_doublet', 'integration_grouping', '_scvi_batch', '_scvi_labels', 'broad_annot_20220914', 'martin19_pred', 'martin19_pred_prob', 'martin19_pred_uncertain', 'warner20_pred', 'warner20_pred_prob', 'warner20_pred_uncertain', 'broad_annot_20220917', 'donor_organ_lineage', 'fine_annot', 'fine_annot_original', 'level_1_annot', 'level_2_annot', 'level_3_annot', 'broad_predicted_labels', 'broad_predicted_labels_uncert', 'batch', 'organ_groups', 'control_vs_disease', 'disease'\n",
       "    var: 'gene_ids', 'feature_type', 'mito', 'ribo', 'hb', 'cc', 'ig', 'tcr', 'n_counts-0', 'n_counts_raw-0', 'n_counts_spliced-0', 'n_counts_unspliced-0', 'n_cells-0', 'n_cells_raw-0', 'n_cells_spliced-0', 'n_cells_unspliced-0', 'n_counts-1', 'n_counts_raw-1', 'n_counts_spliced-1', 'n_counts_unspliced-1', 'n_cells-1', 'n_cells_raw-1', 'n_cells_spliced-1', 'n_cells_unspliced-1'\n",
       "    uns: 'age_unified_colors', 'control_vs_disease_colors', 'disease_colors', 'level_1_annot_colors', 'level_3_annot_colors', 'neighbors', 'organ_groups_colors', 'organ_unified_colors', 'study_colors', 'umap'\n",
       "    obsm: 'X_mde', 'X_scANVI', 'X_umap', '_scvi_extra_continuous_covs'\n",
       "    obsp: 'connectivities', 'distances'"
      ]
     },
     "execution_count": 22,
     "metadata": {},
     "output_type": "execute_result"
    }
   ],
   "source": [
    "adata"
   ]
  },
  {
   "cell_type": "code",
   "execution_count": 4,
   "id": "focal-shaft",
   "metadata": {},
   "outputs": [],
   "source": [
    "# Normalize megagut\n",
    "sc.pp.normalize_per_cell(adata, counts_per_cell_after=10000)\n",
    "\n",
    "# Pseudo log transform\n",
    "sc.pp.log1p(adata)"
   ]
  },
  {
   "cell_type": "code",
   "execution_count": 18,
   "id": "sophisticated-evening",
   "metadata": {},
   "outputs": [
    {
     "data": {
      "text/plain": [
       "View of AnnData object with n_obs × n_vars = 480472 × 36601\n",
       "    obs: 'latent_cell_probability', 'latent_RT_efficiency', 'cecilia22_predH', 'cecilia22_predH_prob', 'cecilia22_predH_uncertain', 'cecilia22_predL', 'cecilia22_predL_prob', 'cecilia22_predL_uncertain', 'elmentaite21_pred', 'elmentaite21_pred_prob', 'elmentaite21_pred_uncertain', 'suo22_pred', 'suo22_pred_prob', 'suo22_pred_uncertain', 'n_counts', 'log1p_n_counts', 'n_genes', 'log1p_n_genes', 'percent_mito', 'n_counts_mito', 'percent_ribo', 'n_counts_ribo', 'percent_hb', 'n_counts_hb', 'percent_top50', 'n_counts_raw', 'log1p_n_counts_raw', 'n_genes_raw', 'log1p_n_genes_raw', 'percent_mito_raw', 'n_counts_mito_raw', 'percent_ribo_raw', 'n_counts_ribo_raw', 'percent_hb_raw', 'n_counts_hb_raw', 'percent_top50_raw', 'n_counts_spliced', 'log1p_n_counts_spliced', 'n_genes_spliced', 'log1p_n_genes_spliced', 'percent_mito_spliced', 'n_counts_mito_spliced', 'percent_ribo_spliced', 'n_counts_ribo_spliced', 'percent_hb_spliced', 'n_counts_hb_spliced', 'percent_top50_spliced', 'n_counts_unspliced', 'log1p_n_counts_unspliced', 'n_genes_unspliced', 'log1p_n_genes_unspliced', 'percent_mito_unspliced', 'n_counts_mito_unspliced', 'percent_ribo_unspliced', 'n_counts_ribo_unspliced', 'percent_hb_unspliced', 'n_counts_hb_unspliced', 'percent_top50_unspliced', 'percent_soup', 'percent_spliced', 'qc_cluster', 'pass_auto_filter_mito20', 'good_qc_cluster_mito20', 'pass_auto_filter_mito50', 'good_qc_cluster_mito50', 'pass_auto_filter_mito80', 'good_qc_cluster_mito80', 'pass_auto_filter', 'good_qc_cluster', 'pass_default', 'sampleID', 'sourceID', 'donorID_original', 'study', 'donorID_corrected', 'donorID_unified', 'donor_category', 'donor_disease', 'organ_original', 'organ_unified', 'organ_broad', 'age_original', 'age_unified', 'age_continuousadult', 'age_continuousdev', 'sex', 'sample_type', 'sample_category', 'sample_retrieval', 'tissue_fraction', 'cell_fraction', 'cell_fraction_unified', 'cell_sorting', 'technology', 'include_150722', 'cluster_scrublet_score', 'bh_pval', 'scrublet_score', 'scrublet_score_z', 'doublet', 'stringent_doublet', 'integration_grouping', '_scvi_batch', '_scvi_labels', 'broad_annot_20220914', 'martin19_pred', 'martin19_pred_prob', 'martin19_pred_uncertain', 'warner20_pred', 'warner20_pred_prob', 'warner20_pred_uncertain', 'broad_annot_20220917', 'donor_organ_lineage', 'fine_annot', 'fine_annot_original', 'level_1_annot', 'level_2_annot', 'level_3_annot', 'broad_predicted_labels', 'broad_predicted_labels_uncert', 'batch', 'organ_groups', 'control_vs_disease', 'disease'\n",
       "    var: 'gene_ids', 'feature_type', 'mito', 'ribo', 'hb', 'cc', 'ig', 'tcr', 'n_counts-0', 'n_counts_raw-0', 'n_counts_spliced-0', 'n_counts_unspliced-0', 'n_cells-0', 'n_cells_raw-0', 'n_cells_spliced-0', 'n_cells_unspliced-0', 'n_counts-1', 'n_counts_raw-1', 'n_counts_spliced-1', 'n_counts_unspliced-1', 'n_cells-1', 'n_cells_raw-1', 'n_cells_spliced-1', 'n_cells_unspliced-1'\n",
       "    uns: 'age_unified_colors', 'control_vs_disease_colors', 'disease_colors', 'level_1_annot_colors', 'level_3_annot_colors', 'neighbors', 'organ_groups_colors', 'organ_unified_colors', 'study_colors', 'umap'\n",
       "    obsm: 'X_mde', 'X_scANVI', 'X_umap', '_scvi_extra_continuous_covs'\n",
       "    obsp: 'connectivities', 'distances'"
      ]
     },
     "execution_count": 18,
     "metadata": {},
     "output_type": "execute_result"
    }
   ],
   "source": [
    "adata"
   ]
  },
  {
   "cell_type": "code",
   "execution_count": 23,
   "id": "mineral-radius",
   "metadata": {},
   "outputs": [
    {
     "data": {
      "text/plain": [
       "level_1_annot\n",
       "Mesenchymal       161386\n",
       "Epithelial        125209\n",
       "T and NK cells     94151\n",
       "B and B plasma     50928\n",
       "Myeloid            18373\n",
       "Neural             15906\n",
       "Endothelial        14519\n",
       "Name: count, dtype: int64"
      ]
     },
     "execution_count": 23,
     "metadata": {},
     "output_type": "execute_result"
    }
   ],
   "source": [
    "adata.obs.level_1_annot.value_counts(dropna=False)"
   ]
  },
  {
   "cell_type": "code",
   "execution_count": 24,
   "id": "worthy-spice",
   "metadata": {},
   "outputs": [
    {
     "data": {
      "text/plain": [
       "level_2_annot\n",
       "NaN                       77668\n",
       "Absorptive                64938\n",
       "Fibroblast                63700\n",
       "Mesoderm                  53759\n",
       "Conventional_CD4          23579\n",
       "Mature_B                  18591\n",
       "Smooth_muscle             16925\n",
       "Conventional_CD8          16558\n",
       "Cycling_epithelia         13374\n",
       "Myofibroblast             12081\n",
       "B_plasma                  11230\n",
       "Vascular_endothelia       10862\n",
       "Secretory                 10205\n",
       "Transit_amplifying         9758\n",
       "Epithelial_progenitor      8705\n",
       "Macrophage                 8562\n",
       "Unconventional_T/ILC       7990\n",
       "Neuron_progenitor          7785\n",
       "Stem                       7292\n",
       "Pericyte                   5847\n",
       "Neuron                     4837\n",
       "Treg                       3856\n",
       "DC                         3595\n",
       "NK                         3207\n",
       "Glia                       3025\n",
       "Lymphoid_stromal_cell      2436\n",
       "Enteroendocrine            1664\n",
       "Mesothelium                1591\n",
       "Monocyte                   1464\n",
       "Lymphatic_endothelia       1399\n",
       "Intestinal_Cajal_cell       911\n",
       "Cycling_T/NK                674\n",
       "Immature_B                  656\n",
       "Granulocyte                 639\n",
       "Cycling_endothelia          595\n",
       "Microfold                   482\n",
       "Erythrocyte                  28\n",
       "Megakaryocyte/platelet        4\n",
       "Name: count, dtype: int64"
      ]
     },
     "execution_count": 24,
     "metadata": {},
     "output_type": "execute_result"
    }
   ],
   "source": [
    "adata.obs.level_2_annot.value_counts(dropna=False)"
   ]
  },
  {
   "cell_type": "code",
   "execution_count": 25,
   "id": "peaceful-labor",
   "metadata": {},
   "outputs": [
    {
     "data": {
      "text/plain": [
       "level_3_annot\n",
       "Enterocyte                            67021\n",
       "Mesoderm_2                            40543\n",
       "Lamina_propria_fibroblast_ADAMDEC1    22545\n",
       "Trm_CD4                               16262\n",
       "B_naive                               15483\n",
       "                                      ...  \n",
       "Oesophagus_fibroblast                    42\n",
       "Erythrocytes                             32\n",
       "Immune_recruiting_pericyte               25\n",
       "Rectum_fibroblast                        22\n",
       "Megakaryocyte/platelet                    4\n",
       "Name: count, Length: 105, dtype: int64"
      ]
     },
     "execution_count": 25,
     "metadata": {},
     "output_type": "execute_result"
    }
   ],
   "source": [
    "adata.obs.level_3_annot.value_counts(dropna=False)"
   ]
  },
  {
   "cell_type": "code",
   "execution_count": null,
   "id": "turned-occasion",
   "metadata": {},
   "outputs": [],
   "source": [
    "# Check if labels contains missing values, which "
   ]
  },
  {
   "cell_type": "code",
   "execution_count": 34,
   "id": "pharmaceutical-addition",
   "metadata": {},
   "outputs": [
    {
     "data": {
      "text/plain": [
       "False"
      ]
     },
     "execution_count": 34,
     "metadata": {},
     "output_type": "execute_result"
    }
   ],
   "source": [
    "any(adata.obs.level_1_annot.isna())"
   ]
  },
  {
   "cell_type": "code",
   "execution_count": 35,
   "id": "intermediate-ivory",
   "metadata": {},
   "outputs": [
    {
     "data": {
      "text/plain": [
       "True"
      ]
     },
     "execution_count": 35,
     "metadata": {},
     "output_type": "execute_result"
    }
   ],
   "source": [
    "any(adata.obs.level_2_annot.isna())"
   ]
  },
  {
   "cell_type": "code",
   "execution_count": 33,
   "id": "combined-month",
   "metadata": {},
   "outputs": [
    {
     "data": {
      "text/plain": [
       "False"
      ]
     },
     "execution_count": 33,
     "metadata": {},
     "output_type": "execute_result"
    }
   ],
   "source": [
    "any(adata.obs.level_3_annot.isna())"
   ]
  },
  {
   "cell_type": "code",
   "execution_count": 39,
   "id": "enabling-edmonton",
   "metadata": {},
   "outputs": [],
   "source": [
    "#adata"
   ]
  },
  {
   "cell_type": "code",
   "execution_count": 37,
   "id": "sweet-cleveland",
   "metadata": {},
   "outputs": [
    {
     "data": {
      "text/plain": [
       "View of AnnData object with n_obs × n_vars = 402804 × 36601\n",
       "    obs: 'latent_cell_probability', 'latent_RT_efficiency', 'cecilia22_predH', 'cecilia22_predH_prob', 'cecilia22_predH_uncertain', 'cecilia22_predL', 'cecilia22_predL_prob', 'cecilia22_predL_uncertain', 'elmentaite21_pred', 'elmentaite21_pred_prob', 'elmentaite21_pred_uncertain', 'suo22_pred', 'suo22_pred_prob', 'suo22_pred_uncertain', 'n_counts', 'log1p_n_counts', 'n_genes', 'log1p_n_genes', 'percent_mito', 'n_counts_mito', 'percent_ribo', 'n_counts_ribo', 'percent_hb', 'n_counts_hb', 'percent_top50', 'n_counts_raw', 'log1p_n_counts_raw', 'n_genes_raw', 'log1p_n_genes_raw', 'percent_mito_raw', 'n_counts_mito_raw', 'percent_ribo_raw', 'n_counts_ribo_raw', 'percent_hb_raw', 'n_counts_hb_raw', 'percent_top50_raw', 'n_counts_spliced', 'log1p_n_counts_spliced', 'n_genes_spliced', 'log1p_n_genes_spliced', 'percent_mito_spliced', 'n_counts_mito_spliced', 'percent_ribo_spliced', 'n_counts_ribo_spliced', 'percent_hb_spliced', 'n_counts_hb_spliced', 'percent_top50_spliced', 'n_counts_unspliced', 'log1p_n_counts_unspliced', 'n_genes_unspliced', 'log1p_n_genes_unspliced', 'percent_mito_unspliced', 'n_counts_mito_unspliced', 'percent_ribo_unspliced', 'n_counts_ribo_unspliced', 'percent_hb_unspliced', 'n_counts_hb_unspliced', 'percent_top50_unspliced', 'percent_soup', 'percent_spliced', 'qc_cluster', 'pass_auto_filter_mito20', 'good_qc_cluster_mito20', 'pass_auto_filter_mito50', 'good_qc_cluster_mito50', 'pass_auto_filter_mito80', 'good_qc_cluster_mito80', 'pass_auto_filter', 'good_qc_cluster', 'pass_default', 'sampleID', 'sourceID', 'donorID_original', 'study', 'donorID_corrected', 'donorID_unified', 'donor_category', 'donor_disease', 'organ_original', 'organ_unified', 'organ_broad', 'age_original', 'age_unified', 'age_continuousadult', 'age_continuousdev', 'sex', 'sample_type', 'sample_category', 'sample_retrieval', 'tissue_fraction', 'cell_fraction', 'cell_fraction_unified', 'cell_sorting', 'technology', 'include_150722', 'cluster_scrublet_score', 'bh_pval', 'scrublet_score', 'scrublet_score_z', 'doublet', 'stringent_doublet', 'integration_grouping', '_scvi_batch', '_scvi_labels', 'broad_annot_20220914', 'martin19_pred', 'martin19_pred_prob', 'martin19_pred_uncertain', 'warner20_pred', 'warner20_pred_prob', 'warner20_pred_uncertain', 'broad_annot_20220917', 'donor_organ_lineage', 'fine_annot', 'fine_annot_original', 'level_1_annot', 'level_2_annot', 'level_3_annot', 'broad_predicted_labels', 'broad_predicted_labels_uncert', 'batch', 'organ_groups', 'control_vs_disease', 'disease'\n",
       "    var: 'gene_ids', 'feature_type', 'mito', 'ribo', 'hb', 'cc', 'ig', 'tcr', 'n_counts-0', 'n_counts_raw-0', 'n_counts_spliced-0', 'n_counts_unspliced-0', 'n_cells-0', 'n_cells_raw-0', 'n_cells_spliced-0', 'n_cells_unspliced-0', 'n_counts-1', 'n_counts_raw-1', 'n_counts_spliced-1', 'n_counts_unspliced-1', 'n_cells-1', 'n_cells_raw-1', 'n_cells_spliced-1', 'n_cells_unspliced-1'\n",
       "    uns: 'age_unified_colors', 'control_vs_disease_colors', 'disease_colors', 'level_1_annot_colors', 'level_3_annot_colors', 'neighbors', 'organ_groups_colors', 'organ_unified_colors', 'study_colors', 'umap'\n",
       "    obsm: 'X_mde', 'X_scANVI', 'X_umap', '_scvi_extra_continuous_covs'\n",
       "    obsp: 'connectivities', 'distances'"
      ]
     },
     "execution_count": 37,
     "metadata": {},
     "output_type": "execute_result"
    }
   ],
   "source": [
    "adata[~adata.obs.level_2_annot.isna()]"
   ]
  },
  {
   "cell_type": "code",
   "execution_count": null,
   "id": "technical-variation",
   "metadata": {},
   "outputs": [
    {
     "name": "stderr",
     "output_type": "stream",
     "text": [
      "🍳 Preparing data before training\n"
     ]
    }
   ],
   "source": [
    "model_lvl1 = celltypist.train(adata, labels='level_1_annot', n_jobs=10, feature_selection=False, )"
   ]
  },
  {
   "cell_type": "code",
   "execution_count": null,
   "id": "distant-hamilton",
   "metadata": {},
   "outputs": [],
   "source": [
    "# Save model\n",
    "model_lvl1.write('celltypist/megagutSmallIntestine_lvl1.pkl')"
   ]
  },
  {
   "cell_type": "code",
   "execution_count": null,
   "id": "dimensional-financing",
   "metadata": {},
   "outputs": [],
   "source": [
    "# Exclude missing labels from training data\n",
    "model_lvl2 = celltypist.train(adata[~adata.obs.level_2_annot.isna()], labels='level_2_annot', n_jobs=10, feature_selection=False)"
   ]
  },
  {
   "cell_type": "code",
   "execution_count": null,
   "id": "strange-transmission",
   "metadata": {},
   "outputs": [],
   "source": [
    "model_lvl2.write('celltypist/megagutSmallIntestine_lvl2.pkl')"
   ]
  },
  {
   "cell_type": "code",
   "execution_count": null,
   "id": "lightweight-japanese",
   "metadata": {},
   "outputs": [],
   "source": [
    "model_lvl3 = celltypist.train(adata, labels='level_3_annot', n_jobs=10, feature_selection=False)"
   ]
  },
  {
   "cell_type": "code",
   "execution_count": null,
   "id": "exceptional-right",
   "metadata": {},
   "outputs": [],
   "source": [
    "model_lvl3.write('celltypist/megagutSmallIntestine_lvl3.pkl')"
   ]
  },
  {
   "cell_type": "code",
   "execution_count": 5,
   "id": "permanent-think",
   "metadata": {},
   "outputs": [],
   "source": [
    "#model = models.Model.load(\"/nfs/team205/ao15/Megagut/Annotations_v3/make_celltypist_models/models/1_full_healthy_reference_all_ages_organs_finalmodel.pkl\")"
   ]
  },
  {
   "cell_type": "code",
   "execution_count": 6,
   "id": "continuous-pointer",
   "metadata": {},
   "outputs": [],
   "source": [
    "#model.cell_types"
   ]
  },
  {
   "cell_type": "code",
   "execution_count": null,
   "id": "changed-serial",
   "metadata": {},
   "outputs": [],
   "source": [
    "print(\"finished\")"
   ]
  }
 ],
 "metadata": {
  "kernelspec": {
   "display_name": "ni_env2",
   "language": "python",
   "name": "ni_env2"
  },
  "language_info": {
   "codemirror_mode": {
    "name": "ipython",
    "version": 3
   },
   "file_extension": ".py",
   "mimetype": "text/x-python",
   "name": "python",
   "nbconvert_exporter": "python",
   "pygments_lexer": "ipython3",
   "version": "3.10.9"
  },
  "widgets": {
   "application/vnd.jupyter.widget-state+json": {
    "state": {},
    "version_major": 2,
    "version_minor": 0
   }
  }
 },
 "nbformat": 4,
 "nbformat_minor": 5
}
