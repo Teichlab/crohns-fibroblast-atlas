{
 "cells": [
  {
   "cell_type": "code",
   "execution_count": 66,
   "id": "european-discovery",
   "metadata": {},
   "outputs": [],
   "source": [
    "library(data.table)\n",
    "library(ggplot2)"
   ]
  },
  {
   "cell_type": "code",
   "execution_count": 3,
   "id": "featured-shell",
   "metadata": {},
   "outputs": [],
   "source": [
    "files = list.files(\"bulkATAC_DE\")"
   ]
  },
  {
   "cell_type": "code",
   "execution_count": 8,
   "id": "measured-interview",
   "metadata": {},
   "outputs": [],
   "source": [
    "# exclude combinatorial treatments\n",
    "files = files[!grepl(\"_\", files)]"
   ]
  },
  {
   "cell_type": "code",
   "execution_count": null,
   "id": "empty-miami",
   "metadata": {},
   "outputs": [],
   "source": []
  },
  {
   "cell_type": "code",
   "execution_count": 27,
   "id": "recreational-steel",
   "metadata": {},
   "outputs": [
    {
     "name": "stderr",
     "output_type": "stream",
     "text": [
      "Warning message in fread(paste0(\"bulkATAC_DE/\", f)):\n",
      "“Detected 6 column names but the data has 7 columns (i.e. invalid file). Added 1 extra default column name for the first column which is guessed to be row names or an index. Use setnames() afterwards if this guess is not correct, or fix the file write command that created the file to create a valid file.”\n",
      "Warning message in fread(paste0(\"bulkATAC_DE/\", f)):\n",
      "“Detected 6 column names but the data has 7 columns (i.e. invalid file). Added 1 extra default column name for the first column which is guessed to be row names or an index. Use setnames() afterwards if this guess is not correct, or fix the file write command that created the file to create a valid file.”\n",
      "Warning message in fread(paste0(\"bulkATAC_DE/\", f)):\n",
      "“Detected 6 column names but the data has 7 columns (i.e. invalid file). Added 1 extra default column name for the first column which is guessed to be row names or an index. Use setnames() afterwards if this guess is not correct, or fix the file write command that created the file to create a valid file.”\n",
      "Warning message in fread(paste0(\"bulkATAC_DE/\", f)):\n",
      "“Detected 6 column names but the data has 7 columns (i.e. invalid file). Added 1 extra default column name for the first column which is guessed to be row names or an index. Use setnames() afterwards if this guess is not correct, or fix the file write command that created the file to create a valid file.”\n",
      "Warning message in fread(paste0(\"bulkATAC_DE/\", f)):\n",
      "“Detected 6 column names but the data has 7 columns (i.e. invalid file). Added 1 extra default column name for the first column which is guessed to be row names or an index. Use setnames() afterwards if this guess is not correct, or fix the file write command that created the file to create a valid file.”\n",
      "Warning message in fread(paste0(\"bulkATAC_DE/\", f)):\n",
      "“Detected 6 column names but the data has 7 columns (i.e. invalid file). Added 1 extra default column name for the first column which is guessed to be row names or an index. Use setnames() afterwards if this guess is not correct, or fix the file write command that created the file to create a valid file.”\n",
      "Warning message in fread(paste0(\"bulkATAC_DE/\", f)):\n",
      "“Detected 6 column names but the data has 7 columns (i.e. invalid file). Added 1 extra default column name for the first column which is guessed to be row names or an index. Use setnames() afterwards if this guess is not correct, or fix the file write command that created the file to create a valid file.”\n",
      "Warning message in fread(paste0(\"bulkATAC_DE/\", f)):\n",
      "“Detected 6 column names but the data has 7 columns (i.e. invalid file). Added 1 extra default column name for the first column which is guessed to be row names or an index. Use setnames() afterwards if this guess is not correct, or fix the file write command that created the file to create a valid file.”\n",
      "Warning message in fread(paste0(\"bulkATAC_DE/\", f)):\n",
      "“Detected 6 column names but the data has 7 columns (i.e. invalid file). Added 1 extra default column name for the first column which is guessed to be row names or an index. Use setnames() afterwards if this guess is not correct, or fix the file write command that created the file to create a valid file.”\n",
      "Warning message in fread(paste0(\"bulkATAC_DE/\", f)):\n",
      "“Detected 6 column names but the data has 7 columns (i.e. invalid file). Added 1 extra default column name for the first column which is guessed to be row names or an index. Use setnames() afterwards if this guess is not correct, or fix the file write command that created the file to create a valid file.”\n"
     ]
    }
   ],
   "source": [
    "d = lapply(files, function(f) {\n",
    "    tab = fread(paste0(\"bulkATAC_DE/\", f))\n",
    "    \n",
    "    treatment = strsplit(f, \"[.]\")[[1]][1]\n",
    "    tab$treatment = treatment\n",
    "    return(tab)\n",
    "})"
   ]
  },
  {
   "cell_type": "code",
   "execution_count": 31,
   "id": "given-church",
   "metadata": {},
   "outputs": [],
   "source": [
    "# Combine differential expression statistics tables\n",
    "d = rbindlist(d)"
   ]
  },
  {
   "cell_type": "code",
   "execution_count": 37,
   "id": "infrared-lesbian",
   "metadata": {},
   "outputs": [
    {
     "data": {
      "text/html": [
       "29551"
      ],
      "text/latex": [
       "29551"
      ],
      "text/markdown": [
       "29551"
      ],
      "text/plain": [
       "[1] 29551"
      ]
     },
     "metadata": {},
     "output_type": "display_data"
    }
   ],
   "source": [
    "# Filter significant \n",
    "sum(d$padj < 0.01 & abs(d$log2FoldChange) > 1.0, na.rm=TRUE)"
   ]
  },
  {
   "cell_type": "code",
   "execution_count": 32,
   "id": "generic-client",
   "metadata": {},
   "outputs": [
    {
     "data": {
      "text/html": [
       "<table class=\"dataframe\">\n",
       "<caption>A data.table: 6 × 8</caption>\n",
       "<thead>\n",
       "\t<tr><th scope=col>V1</th><th scope=col>baseMean</th><th scope=col>log2FoldChange</th><th scope=col>lfcSE</th><th scope=col>stat</th><th scope=col>pvalue</th><th scope=col>padj</th><th scope=col>treatment</th></tr>\n",
       "\t<tr><th scope=col>&lt;chr&gt;</th><th scope=col>&lt;dbl&gt;</th><th scope=col>&lt;dbl&gt;</th><th scope=col>&lt;dbl&gt;</th><th scope=col>&lt;dbl&gt;</th><th scope=col>&lt;dbl&gt;</th><th scope=col>&lt;dbl&gt;</th><th scope=col>&lt;chr&gt;</th></tr>\n",
       "</thead>\n",
       "<tbody>\n",
       "\t<tr><td>chr12:112978182-112978682,OAS2,Promoter</td><td>5613.687</td><td>3.201410</td><td>0.16709390</td><td>19.15935</td><td>8.088135e-82</td><td>1.187913e-76</td><td>IFNa</td></tr>\n",
       "\t<tr><td>chr19:17405416-17405916,BST2,Promoter  </td><td>3253.271</td><td>3.549434</td><td>0.19423293</td><td>18.27411</td><td>1.330462e-74</td><td>9.770311e-70</td><td>IFNa</td></tr>\n",
       "\t<tr><td>chr8:143026243-143026743,LY6E-DT,Distal</td><td>6298.065</td><td>2.119271</td><td>0.11848939</td><td>17.88575</td><td>1.522983e-71</td><td>7.456067e-67</td><td>IFNa</td></tr>\n",
       "\t<tr><td>chr10:89310018-89310518,IFIT2,Intronic </td><td>1901.075</td><td>3.711045</td><td>0.23822145</td><td>15.57813</td><td>1.025048e-54</td><td>3.763744e-50</td><td>IFNa</td></tr>\n",
       "\t<tr><td>chr21:41425999-41426499,MX1,Exonic     </td><td>3732.942</td><td>2.446378</td><td>0.17238757</td><td>14.19115</td><td>1.039390e-45</td><td>3.053124e-41</td><td>IFNa</td></tr>\n",
       "\t<tr><td>chr1:1013058-1013558,AGRN,Intronic     </td><td>9585.103</td><td>1.370347</td><td>0.09886264</td><td>13.86112</td><td>1.089539e-43</td><td>2.667028e-39</td><td>IFNa</td></tr>\n",
       "</tbody>\n",
       "</table>\n"
      ],
      "text/latex": [
       "A data.table: 6 × 8\n",
       "\\begin{tabular}{llllllll}\n",
       " V1 & baseMean & log2FoldChange & lfcSE & stat & pvalue & padj & treatment\\\\\n",
       " <chr> & <dbl> & <dbl> & <dbl> & <dbl> & <dbl> & <dbl> & <chr>\\\\\n",
       "\\hline\n",
       "\t chr12:112978182-112978682,OAS2,Promoter & 5613.687 & 3.201410 & 0.16709390 & 19.15935 & 8.088135e-82 & 1.187913e-76 & IFNa\\\\\n",
       "\t chr19:17405416-17405916,BST2,Promoter   & 3253.271 & 3.549434 & 0.19423293 & 18.27411 & 1.330462e-74 & 9.770311e-70 & IFNa\\\\\n",
       "\t chr8:143026243-143026743,LY6E-DT,Distal & 6298.065 & 2.119271 & 0.11848939 & 17.88575 & 1.522983e-71 & 7.456067e-67 & IFNa\\\\\n",
       "\t chr10:89310018-89310518,IFIT2,Intronic  & 1901.075 & 3.711045 & 0.23822145 & 15.57813 & 1.025048e-54 & 3.763744e-50 & IFNa\\\\\n",
       "\t chr21:41425999-41426499,MX1,Exonic      & 3732.942 & 2.446378 & 0.17238757 & 14.19115 & 1.039390e-45 & 3.053124e-41 & IFNa\\\\\n",
       "\t chr1:1013058-1013558,AGRN,Intronic      & 9585.103 & 1.370347 & 0.09886264 & 13.86112 & 1.089539e-43 & 2.667028e-39 & IFNa\\\\\n",
       "\\end{tabular}\n"
      ],
      "text/markdown": [
       "\n",
       "A data.table: 6 × 8\n",
       "\n",
       "| V1 &lt;chr&gt; | baseMean &lt;dbl&gt; | log2FoldChange &lt;dbl&gt; | lfcSE &lt;dbl&gt; | stat &lt;dbl&gt; | pvalue &lt;dbl&gt; | padj &lt;dbl&gt; | treatment &lt;chr&gt; |\n",
       "|---|---|---|---|---|---|---|---|\n",
       "| chr12:112978182-112978682,OAS2,Promoter | 5613.687 | 3.201410 | 0.16709390 | 19.15935 | 8.088135e-82 | 1.187913e-76 | IFNa |\n",
       "| chr19:17405416-17405916,BST2,Promoter   | 3253.271 | 3.549434 | 0.19423293 | 18.27411 | 1.330462e-74 | 9.770311e-70 | IFNa |\n",
       "| chr8:143026243-143026743,LY6E-DT,Distal | 6298.065 | 2.119271 | 0.11848939 | 17.88575 | 1.522983e-71 | 7.456067e-67 | IFNa |\n",
       "| chr10:89310018-89310518,IFIT2,Intronic  | 1901.075 | 3.711045 | 0.23822145 | 15.57813 | 1.025048e-54 | 3.763744e-50 | IFNa |\n",
       "| chr21:41425999-41426499,MX1,Exonic      | 3732.942 | 2.446378 | 0.17238757 | 14.19115 | 1.039390e-45 | 3.053124e-41 | IFNa |\n",
       "| chr1:1013058-1013558,AGRN,Intronic      | 9585.103 | 1.370347 | 0.09886264 | 13.86112 | 1.089539e-43 | 2.667028e-39 | IFNa |\n",
       "\n"
      ],
      "text/plain": [
       "  V1                                      baseMean log2FoldChange lfcSE     \n",
       "1 chr12:112978182-112978682,OAS2,Promoter 5613.687 3.201410       0.16709390\n",
       "2 chr19:17405416-17405916,BST2,Promoter   3253.271 3.549434       0.19423293\n",
       "3 chr8:143026243-143026743,LY6E-DT,Distal 6298.065 2.119271       0.11848939\n",
       "4 chr10:89310018-89310518,IFIT2,Intronic  1901.075 3.711045       0.23822145\n",
       "5 chr21:41425999-41426499,MX1,Exonic      3732.942 2.446378       0.17238757\n",
       "6 chr1:1013058-1013558,AGRN,Intronic      9585.103 1.370347       0.09886264\n",
       "  stat     pvalue       padj         treatment\n",
       "1 19.15935 8.088135e-82 1.187913e-76 IFNa     \n",
       "2 18.27411 1.330462e-74 9.770311e-70 IFNa     \n",
       "3 17.88575 1.522983e-71 7.456067e-67 IFNa     \n",
       "4 15.57813 1.025048e-54 3.763744e-50 IFNa     \n",
       "5 14.19115 1.039390e-45 3.053124e-41 IFNa     \n",
       "6 13.86112 1.089539e-43 2.667028e-39 IFNa     "
      ]
     },
     "metadata": {},
     "output_type": "display_data"
    }
   ],
   "source": [
    "head(d)"
   ]
  },
  {
   "cell_type": "code",
   "execution_count": 38,
   "id": "personalized-strength",
   "metadata": {},
   "outputs": [],
   "source": [
    "d = d[d$padj < 0.01 & abs(d$log2FoldChange) > 1.0, ]"
   ]
  },
  {
   "cell_type": "code",
   "execution_count": 58,
   "id": "super-manitoba",
   "metadata": {},
   "outputs": [],
   "source": [
    "counts_up = table(d$treatment[d$log2FoldChange > 0])"
   ]
  },
  {
   "cell_type": "code",
   "execution_count": 59,
   "id": "proper-binding",
   "metadata": {},
   "outputs": [],
   "source": [
    "counts_down = table(d$treatment[d$log2FoldChange < 0])"
   ]
  },
  {
   "cell_type": "code",
   "execution_count": 60,
   "id": "permanent-conference",
   "metadata": {},
   "outputs": [
    {
     "data": {
      "text/plain": [
       "\n",
       " IFNa  IFNg  IL13 IL17A  IL1B  IL22   IL6   OSM TGFb1  TNFa \n",
       "  430  2817   605    19  3192     1     1  1925  2418  5234 "
      ]
     },
     "metadata": {},
     "output_type": "display_data"
    }
   ],
   "source": [
    "counts_up"
   ]
  },
  {
   "cell_type": "code",
   "execution_count": 61,
   "id": "patient-responsibility",
   "metadata": {},
   "outputs": [],
   "source": [
    "counts_up = data.frame(counts_up)\n",
    "colnames(counts_up) = c(\"stimulation\", \"n\")\n",
    "counts_up$dir = \"open\""
   ]
  },
  {
   "cell_type": "code",
   "execution_count": 62,
   "id": "placed-collaboration",
   "metadata": {},
   "outputs": [],
   "source": [
    "counts_down = data.frame(counts_down)\n",
    "colnames(counts_down) = c(\"stimulation\", \"n\")\n",
    "counts_down$dir = \"close\""
   ]
  },
  {
   "cell_type": "code",
   "execution_count": 65,
   "id": "basic-services",
   "metadata": {},
   "outputs": [],
   "source": [
    "counts = rbind(counts_up, counts_down)"
   ]
  },
  {
   "cell_type": "code",
   "execution_count": 67,
   "id": "oriented-programmer",
   "metadata": {},
   "outputs": [],
   "source": [
    "counts$stimulation = factor(counts$stimulation, levels=c(\"IFNa\",\"IFNg\", \"IL13\", \"IL17A\", \"IL1B\",\"IL22\", \"IL6\", \"OSM\", \"TGFb1\", \"TNFa\", \"unstimulated\"))"
   ]
  },
  {
   "cell_type": "code",
   "execution_count": 68,
   "id": "every-above",
   "metadata": {},
   "outputs": [
    {
     "data": {
      "text/html": [
       "<table class=\"dataframe\">\n",
       "<caption>A data.frame: 20 × 3</caption>\n",
       "<thead>\n",
       "\t<tr><th scope=col>stimulation</th><th scope=col>n</th><th scope=col>dir</th></tr>\n",
       "\t<tr><th scope=col>&lt;fct&gt;</th><th scope=col>&lt;int&gt;</th><th scope=col>&lt;chr&gt;</th></tr>\n",
       "</thead>\n",
       "<tbody>\n",
       "\t<tr><td>IFNa </td><td> 430</td><td>open </td></tr>\n",
       "\t<tr><td>IFNg </td><td>2817</td><td>open </td></tr>\n",
       "\t<tr><td>IL13 </td><td> 605</td><td>open </td></tr>\n",
       "\t<tr><td>IL17A</td><td>  19</td><td>open </td></tr>\n",
       "\t<tr><td>IL1B </td><td>3192</td><td>open </td></tr>\n",
       "\t<tr><td>IL22 </td><td>   1</td><td>open </td></tr>\n",
       "\t<tr><td>IL6  </td><td>   1</td><td>open </td></tr>\n",
       "\t<tr><td>OSM  </td><td>1925</td><td>open </td></tr>\n",
       "\t<tr><td>TGFb1</td><td>2418</td><td>open </td></tr>\n",
       "\t<tr><td>TNFa </td><td>5234</td><td>open </td></tr>\n",
       "\t<tr><td>IFNa </td><td> 490</td><td>close</td></tr>\n",
       "\t<tr><td>IFNg </td><td> 314</td><td>close</td></tr>\n",
       "\t<tr><td>IL13 </td><td> 622</td><td>close</td></tr>\n",
       "\t<tr><td>IL17A</td><td>   3</td><td>close</td></tr>\n",
       "\t<tr><td>IL1B </td><td>3457</td><td>close</td></tr>\n",
       "\t<tr><td>IL22 </td><td>   3</td><td>close</td></tr>\n",
       "\t<tr><td>IL6  </td><td>  17</td><td>close</td></tr>\n",
       "\t<tr><td>OSM  </td><td>2764</td><td>close</td></tr>\n",
       "\t<tr><td>TGFb1</td><td>2036</td><td>close</td></tr>\n",
       "\t<tr><td>TNFa </td><td>3203</td><td>close</td></tr>\n",
       "</tbody>\n",
       "</table>\n"
      ],
      "text/latex": [
       "A data.frame: 20 × 3\n",
       "\\begin{tabular}{lll}\n",
       " stimulation & n & dir\\\\\n",
       " <fct> & <int> & <chr>\\\\\n",
       "\\hline\n",
       "\t IFNa  &  430 & open \\\\\n",
       "\t IFNg  & 2817 & open \\\\\n",
       "\t IL13  &  605 & open \\\\\n",
       "\t IL17A &   19 & open \\\\\n",
       "\t IL1B  & 3192 & open \\\\\n",
       "\t IL22  &    1 & open \\\\\n",
       "\t IL6   &    1 & open \\\\\n",
       "\t OSM   & 1925 & open \\\\\n",
       "\t TGFb1 & 2418 & open \\\\\n",
       "\t TNFa  & 5234 & open \\\\\n",
       "\t IFNa  &  490 & close\\\\\n",
       "\t IFNg  &  314 & close\\\\\n",
       "\t IL13  &  622 & close\\\\\n",
       "\t IL17A &    3 & close\\\\\n",
       "\t IL1B  & 3457 & close\\\\\n",
       "\t IL22  &    3 & close\\\\\n",
       "\t IL6   &   17 & close\\\\\n",
       "\t OSM   & 2764 & close\\\\\n",
       "\t TGFb1 & 2036 & close\\\\\n",
       "\t TNFa  & 3203 & close\\\\\n",
       "\\end{tabular}\n"
      ],
      "text/markdown": [
       "\n",
       "A data.frame: 20 × 3\n",
       "\n",
       "| stimulation &lt;fct&gt; | n &lt;int&gt; | dir &lt;chr&gt; |\n",
       "|---|---|---|\n",
       "| IFNa  |  430 | open  |\n",
       "| IFNg  | 2817 | open  |\n",
       "| IL13  |  605 | open  |\n",
       "| IL17A |   19 | open  |\n",
       "| IL1B  | 3192 | open  |\n",
       "| IL22  |    1 | open  |\n",
       "| IL6   |    1 | open  |\n",
       "| OSM   | 1925 | open  |\n",
       "| TGFb1 | 2418 | open  |\n",
       "| TNFa  | 5234 | open  |\n",
       "| IFNa  |  490 | close |\n",
       "| IFNg  |  314 | close |\n",
       "| IL13  |  622 | close |\n",
       "| IL17A |    3 | close |\n",
       "| IL1B  | 3457 | close |\n",
       "| IL22  |    3 | close |\n",
       "| IL6   |   17 | close |\n",
       "| OSM   | 2764 | close |\n",
       "| TGFb1 | 2036 | close |\n",
       "| TNFa  | 3203 | close |\n",
       "\n"
      ],
      "text/plain": [
       "   stimulation n    dir  \n",
       "1  IFNa         430 open \n",
       "2  IFNg        2817 open \n",
       "3  IL13         605 open \n",
       "4  IL17A         19 open \n",
       "5  IL1B        3192 open \n",
       "6  IL22           1 open \n",
       "7  IL6            1 open \n",
       "8  OSM         1925 open \n",
       "9  TGFb1       2418 open \n",
       "10 TNFa        5234 open \n",
       "11 IFNa         490 close\n",
       "12 IFNg         314 close\n",
       "13 IL13         622 close\n",
       "14 IL17A          3 close\n",
       "15 IL1B        3457 close\n",
       "16 IL22           3 close\n",
       "17 IL6           17 close\n",
       "18 OSM         2764 close\n",
       "19 TGFb1       2036 close\n",
       "20 TNFa        3203 close"
      ]
     },
     "metadata": {},
     "output_type": "display_data"
    }
   ],
   "source": [
    "counts"
   ]
  },
  {
   "cell_type": "code",
   "execution_count": 101,
   "id": "peaceful-netscape",
   "metadata": {},
   "outputs": [
    {
     "data": {
      "image/png": "[encoded data removed]",
      "text/plain": [
       "plot without title"
      ]
     },
     "metadata": {
      "image/png": {
       "height": 180,
       "width": 240
      }
     },
     "output_type": "display_data"
    }
   ],
   "source": [
    "width = 4; height = 3\n",
    "options(repr.plot.width = width, repr.plot.height = height)\n",
    "\n",
    "\n",
    "ggplot(counts, aes(x=stimulation, y=n, fill=stimulation)) +\n",
    "    facet_grid(dir~.) +\n",
    "    geom_bar(stat=\"identity\") +\n",
    "    scale_fill_manual(values=c(\"purple3\", \"yellow2\",\"red\",\"green\",\"tan\",\"turquoise\",'brown',\"magenta\",\"blue\",'cyan',\"black\"))+\n",
    "    theme_minimal() +\n",
    "    ylab(\"Sig. peaks (FDR<0.01, |log2FC| > 1)\") +\n",
    "    theme(axis.text.x = element_text(angle = 90, vjust = 0.5, hjust=1))\n",
    "\n",
    "ggsave(\"figures_2/bulkATACcytokines_barplot.pdf\", width=width, height=height)"
   ]
  },
  {
   "cell_type": "code",
   "execution_count": null,
   "id": "individual-dispatch",
   "metadata": {},
   "outputs": [],
   "source": []
  }
 ],
 "metadata": {
  "kernelspec": {
   "display_name": "R 4.2",
   "language": "R",
   "name": "ir42"
  },
  "language_info": {
   "codemirror_mode": "r",
   "file_extension": ".r",
   "mimetype": "text/x-r-source",
   "name": "R",
   "pygments_lexer": "r",
   "version": "4.2.2"
  },
  "widgets": {
   "application/vnd.jupyter.widget-state+json": {
    "state": {},
    "version_major": 2,
    "version_minor": 0
   }
  }
 },
 "nbformat": 4,
 "nbformat_minor": 5
}
