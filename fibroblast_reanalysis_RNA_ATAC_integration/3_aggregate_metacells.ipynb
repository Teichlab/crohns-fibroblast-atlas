{
 "cells": [
  {
   "cell_type": "code",
   "execution_count": 1,
   "id": "union-market",
   "metadata": {},
   "outputs": [],
   "source": [
    "import pandas as pd\n",
    "import scanpy as sc\n",
    "import seaborn as sns\n",
    "import numpy as np\n",
    "\n",
    "import SEACells"
   ]
  },
  {
   "cell_type": "markdown",
   "id": "flexible-feedback",
   "metadata": {},
   "source": [
    "# Load SEAcells summary from RNA + ATAC integration"
   ]
  },
  {
   "cell_type": "code",
   "execution_count": 2,
   "id": "textile-coordination",
   "metadata": {},
   "outputs": [],
   "source": [
    "metacell_summary = pd.read_csv(\"results/SEACells_summary.csv\")\n",
    "metacells = pd.read_csv(\"results/SEACells.csv\")"
   ]
  },
  {
   "cell_type": "code",
   "execution_count": 3,
   "id": "labeled-theorem",
   "metadata": {},
   "outputs": [
    {
     "data": {
      "text/html": [
       "<div>\n",
       "<style scoped>\n",
       "    .dataframe tbody tr th:only-of-type {\n",
       "        vertical-align: middle;\n",
       "    }\n",
       "\n",
       "    .dataframe tbody tr th {\n",
       "        vertical-align: top;\n",
       "    }\n",
       "\n",
       "    .dataframe thead th {\n",
       "        text-align: right;\n",
       "    }\n",
       "</style>\n",
       "<table border=\"1\" class=\"dataframe\">\n",
       "  <thead>\n",
       "    <tr style=\"text-align: right;\">\n",
       "      <th></th>\n",
       "      <th>index</th>\n",
       "      <th>source</th>\n",
       "      <th>annot1</th>\n",
       "      <th>sample_id</th>\n",
       "      <th>SEACell_type</th>\n",
       "    </tr>\n",
       "  </thead>\n",
       "  <tbody>\n",
       "    <tr>\n",
       "      <th>0</th>\n",
       "      <td>A09#GAGAACGTCCCAATGA-1</td>\n",
       "      <td>ATAC</td>\n",
       "      <td>S1</td>\n",
       "      <td>A09</td>\n",
       "      <td>S1_SEACell-134</td>\n",
       "    </tr>\n",
       "    <tr>\n",
       "      <th>1</th>\n",
       "      <td>A07#AGTGTACCACACATTG-1</td>\n",
       "      <td>ATAC</td>\n",
       "      <td>S1</td>\n",
       "      <td>A07</td>\n",
       "      <td>S1_SEACell-61</td>\n",
       "    </tr>\n",
       "    <tr>\n",
       "      <th>2</th>\n",
       "      <td>GATCATGCAGTCTACA-R04</td>\n",
       "      <td>RNA</td>\n",
       "      <td>S1</td>\n",
       "      <td>R04</td>\n",
       "      <td>S1_SEACell-94</td>\n",
       "    </tr>\n",
       "    <tr>\n",
       "      <th>3</th>\n",
       "      <td>A11#GAATCTGAGAGCAGCT-1</td>\n",
       "      <td>ATAC</td>\n",
       "      <td>S1</td>\n",
       "      <td>A11</td>\n",
       "      <td>S1_SEACell-66</td>\n",
       "    </tr>\n",
       "    <tr>\n",
       "      <th>4</th>\n",
       "      <td>A07#ACAATCGGTACCCACG-1</td>\n",
       "      <td>ATAC</td>\n",
       "      <td>S1</td>\n",
       "      <td>A07</td>\n",
       "      <td>S1_SEACell-251</td>\n",
       "    </tr>\n",
       "    <tr>\n",
       "      <th>...</th>\n",
       "      <td>...</td>\n",
       "      <td>...</td>\n",
       "      <td>...</td>\n",
       "      <td>...</td>\n",
       "      <td>...</td>\n",
       "    </tr>\n",
       "    <tr>\n",
       "      <th>83230</th>\n",
       "      <td>GGTGAAGCACAAGCCC-R04</td>\n",
       "      <td>RNA</td>\n",
       "      <td>PC</td>\n",
       "      <td>R04</td>\n",
       "      <td>PC_SEACell-20</td>\n",
       "    </tr>\n",
       "    <tr>\n",
       "      <th>83231</th>\n",
       "      <td>CAACCAACAATACGAA-R05</td>\n",
       "      <td>RNA</td>\n",
       "      <td>PC</td>\n",
       "      <td>R05</td>\n",
       "      <td>PC_SEACell-4</td>\n",
       "    </tr>\n",
       "    <tr>\n",
       "      <th>83232</th>\n",
       "      <td>A05#ACCATCCTCTTAAGCG-1</td>\n",
       "      <td>ATAC</td>\n",
       "      <td>PC</td>\n",
       "      <td>A05</td>\n",
       "      <td>PC_SEACell-24</td>\n",
       "    </tr>\n",
       "    <tr>\n",
       "      <th>83233</th>\n",
       "      <td>NX18#CTCACCACAATAGTGA-1</td>\n",
       "      <td>ATAC</td>\n",
       "      <td>PC</td>\n",
       "      <td>NX18</td>\n",
       "      <td>PC_SEACell-22</td>\n",
       "    </tr>\n",
       "    <tr>\n",
       "      <th>83234</th>\n",
       "      <td>NX18#GGGTGTCAGTGCTAGG-1</td>\n",
       "      <td>ATAC</td>\n",
       "      <td>PC</td>\n",
       "      <td>NX18</td>\n",
       "      <td>PC_SEACell-2</td>\n",
       "    </tr>\n",
       "  </tbody>\n",
       "</table>\n",
       "<p>83235 rows × 5 columns</p>\n",
       "</div>"
      ],
      "text/plain": [
       "                         index source annot1 sample_id    SEACell_type\n",
       "0       A09#GAGAACGTCCCAATGA-1   ATAC     S1       A09  S1_SEACell-134\n",
       "1       A07#AGTGTACCACACATTG-1   ATAC     S1       A07   S1_SEACell-61\n",
       "2         GATCATGCAGTCTACA-R04    RNA     S1       R04   S1_SEACell-94\n",
       "3       A11#GAATCTGAGAGCAGCT-1   ATAC     S1       A11   S1_SEACell-66\n",
       "4       A07#ACAATCGGTACCCACG-1   ATAC     S1       A07  S1_SEACell-251\n",
       "...                        ...    ...    ...       ...             ...\n",
       "83230     GGTGAAGCACAAGCCC-R04    RNA     PC       R04   PC_SEACell-20\n",
       "83231     CAACCAACAATACGAA-R05    RNA     PC       R05    PC_SEACell-4\n",
       "83232   A05#ACCATCCTCTTAAGCG-1   ATAC     PC       A05   PC_SEACell-24\n",
       "83233  NX18#CTCACCACAATAGTGA-1   ATAC     PC      NX18   PC_SEACell-22\n",
       "83234  NX18#GGGTGTCAGTGCTAGG-1   ATAC     PC      NX18    PC_SEACell-2\n",
       "\n",
       "[83235 rows x 5 columns]"
      ]
     },
     "execution_count": 3,
     "metadata": {},
     "output_type": "execute_result"
    }
   ],
   "source": [
    "metacells"
   ]
  },
  {
   "cell_type": "code",
   "execution_count": 4,
   "id": "outer-equilibrium",
   "metadata": {},
   "outputs": [],
   "source": [
    "metacells.index = metacells['index']\n",
    "metacells = metacells.drop(columns='index')"
   ]
  },
  {
   "cell_type": "code",
   "execution_count": 5,
   "id": "dutch-design",
   "metadata": {},
   "outputs": [
    {
     "data": {
      "text/html": [
       "<div>\n",
       "<style scoped>\n",
       "    .dataframe tbody tr th:only-of-type {\n",
       "        vertical-align: middle;\n",
       "    }\n",
       "\n",
       "    .dataframe tbody tr th {\n",
       "        vertical-align: top;\n",
       "    }\n",
       "\n",
       "    .dataframe thead th {\n",
       "        text-align: right;\n",
       "    }\n",
       "</style>\n",
       "<table border=\"1\" class=\"dataframe\">\n",
       "  <thead>\n",
       "    <tr style=\"text-align: right;\">\n",
       "      <th></th>\n",
       "      <th>source</th>\n",
       "      <th>annot1</th>\n",
       "      <th>sample_id</th>\n",
       "      <th>SEACell_type</th>\n",
       "    </tr>\n",
       "    <tr>\n",
       "      <th>index</th>\n",
       "      <th></th>\n",
       "      <th></th>\n",
       "      <th></th>\n",
       "      <th></th>\n",
       "    </tr>\n",
       "  </thead>\n",
       "  <tbody>\n",
       "    <tr>\n",
       "      <th>A09#GAGAACGTCCCAATGA-1</th>\n",
       "      <td>ATAC</td>\n",
       "      <td>S1</td>\n",
       "      <td>A09</td>\n",
       "      <td>S1_SEACell-134</td>\n",
       "    </tr>\n",
       "    <tr>\n",
       "      <th>A07#AGTGTACCACACATTG-1</th>\n",
       "      <td>ATAC</td>\n",
       "      <td>S1</td>\n",
       "      <td>A07</td>\n",
       "      <td>S1_SEACell-61</td>\n",
       "    </tr>\n",
       "    <tr>\n",
       "      <th>GATCATGCAGTCTACA-R04</th>\n",
       "      <td>RNA</td>\n",
       "      <td>S1</td>\n",
       "      <td>R04</td>\n",
       "      <td>S1_SEACell-94</td>\n",
       "    </tr>\n",
       "    <tr>\n",
       "      <th>A11#GAATCTGAGAGCAGCT-1</th>\n",
       "      <td>ATAC</td>\n",
       "      <td>S1</td>\n",
       "      <td>A11</td>\n",
       "      <td>S1_SEACell-66</td>\n",
       "    </tr>\n",
       "    <tr>\n",
       "      <th>A07#ACAATCGGTACCCACG-1</th>\n",
       "      <td>ATAC</td>\n",
       "      <td>S1</td>\n",
       "      <td>A07</td>\n",
       "      <td>S1_SEACell-251</td>\n",
       "    </tr>\n",
       "    <tr>\n",
       "      <th>...</th>\n",
       "      <td>...</td>\n",
       "      <td>...</td>\n",
       "      <td>...</td>\n",
       "      <td>...</td>\n",
       "    </tr>\n",
       "    <tr>\n",
       "      <th>GGTGAAGCACAAGCCC-R04</th>\n",
       "      <td>RNA</td>\n",
       "      <td>PC</td>\n",
       "      <td>R04</td>\n",
       "      <td>PC_SEACell-20</td>\n",
       "    </tr>\n",
       "    <tr>\n",
       "      <th>CAACCAACAATACGAA-R05</th>\n",
       "      <td>RNA</td>\n",
       "      <td>PC</td>\n",
       "      <td>R05</td>\n",
       "      <td>PC_SEACell-4</td>\n",
       "    </tr>\n",
       "    <tr>\n",
       "      <th>A05#ACCATCCTCTTAAGCG-1</th>\n",
       "      <td>ATAC</td>\n",
       "      <td>PC</td>\n",
       "      <td>A05</td>\n",
       "      <td>PC_SEACell-24</td>\n",
       "    </tr>\n",
       "    <tr>\n",
       "      <th>NX18#CTCACCACAATAGTGA-1</th>\n",
       "      <td>ATAC</td>\n",
       "      <td>PC</td>\n",
       "      <td>NX18</td>\n",
       "      <td>PC_SEACell-22</td>\n",
       "    </tr>\n",
       "    <tr>\n",
       "      <th>NX18#GGGTGTCAGTGCTAGG-1</th>\n",
       "      <td>ATAC</td>\n",
       "      <td>PC</td>\n",
       "      <td>NX18</td>\n",
       "      <td>PC_SEACell-2</td>\n",
       "    </tr>\n",
       "  </tbody>\n",
       "</table>\n",
       "<p>83235 rows × 4 columns</p>\n",
       "</div>"
      ],
      "text/plain": [
       "                        source annot1 sample_id    SEACell_type\n",
       "index                                                          \n",
       "A09#GAGAACGTCCCAATGA-1    ATAC     S1       A09  S1_SEACell-134\n",
       "A07#AGTGTACCACACATTG-1    ATAC     S1       A07   S1_SEACell-61\n",
       "GATCATGCAGTCTACA-R04       RNA     S1       R04   S1_SEACell-94\n",
       "A11#GAATCTGAGAGCAGCT-1    ATAC     S1       A11   S1_SEACell-66\n",
       "A07#ACAATCGGTACCCACG-1    ATAC     S1       A07  S1_SEACell-251\n",
       "...                        ...    ...       ...             ...\n",
       "GGTGAAGCACAAGCCC-R04       RNA     PC       R04   PC_SEACell-20\n",
       "CAACCAACAATACGAA-R05       RNA     PC       R05    PC_SEACell-4\n",
       "A05#ACCATCCTCTTAAGCG-1    ATAC     PC       A05   PC_SEACell-24\n",
       "NX18#CTCACCACAATAGTGA-1   ATAC     PC      NX18   PC_SEACell-22\n",
       "NX18#GGGTGTCAGTGCTAGG-1   ATAC     PC      NX18    PC_SEACell-2\n",
       "\n",
       "[83235 rows x 4 columns]"
      ]
     },
     "execution_count": 5,
     "metadata": {},
     "output_type": "execute_result"
    }
   ],
   "source": [
    "metacells"
   ]
  },
  {
   "cell_type": "code",
   "execution_count": 6,
   "id": "casual-inspector",
   "metadata": {},
   "outputs": [],
   "source": [
    "metacell_summary.index = metacell_summary.SEACell_type"
   ]
  },
  {
   "cell_type": "code",
   "execution_count": 7,
   "id": "thermal-prison",
   "metadata": {},
   "outputs": [],
   "source": [
    "metacell_summary = metacell_summary.drop(columns=[\"SEACell\"])"
   ]
  },
  {
   "cell_type": "code",
   "execution_count": 8,
   "id": "studied-chrome",
   "metadata": {},
   "outputs": [],
   "source": [
    "metacell_summary = metacell_summary.rename(columns={\"source\": \"SEACell_primary_source\", \"source_purity\": \"SEACell_primary_source_purity\"})"
   ]
  },
  {
   "cell_type": "code",
   "execution_count": 9,
   "id": "developed-coalition",
   "metadata": {},
   "outputs": [
    {
     "data": {
      "text/html": [
       "<div>\n",
       "<style scoped>\n",
       "    .dataframe tbody tr th:only-of-type {\n",
       "        vertical-align: middle;\n",
       "    }\n",
       "\n",
       "    .dataframe tbody tr th {\n",
       "        vertical-align: top;\n",
       "    }\n",
       "\n",
       "    .dataframe thead th {\n",
       "        text-align: right;\n",
       "    }\n",
       "</style>\n",
       "<table border=\"1\" class=\"dataframe\">\n",
       "  <thead>\n",
       "    <tr style=\"text-align: right;\">\n",
       "      <th></th>\n",
       "      <th>SEACell_primary_source</th>\n",
       "      <th>SEACell_primary_source_purity</th>\n",
       "      <th>annot1</th>\n",
       "      <th>SEACell_type</th>\n",
       "    </tr>\n",
       "    <tr>\n",
       "      <th>SEACell_type</th>\n",
       "      <th></th>\n",
       "      <th></th>\n",
       "      <th></th>\n",
       "      <th></th>\n",
       "    </tr>\n",
       "  </thead>\n",
       "  <tbody>\n",
       "    <tr>\n",
       "      <th>S1_SEACell-0</th>\n",
       "      <td>ATAC</td>\n",
       "      <td>0.772727</td>\n",
       "      <td>S1</td>\n",
       "      <td>S1_SEACell-0</td>\n",
       "    </tr>\n",
       "    <tr>\n",
       "      <th>S1_SEACell-1</th>\n",
       "      <td>ATAC</td>\n",
       "      <td>0.987654</td>\n",
       "      <td>S1</td>\n",
       "      <td>S1_SEACell-1</td>\n",
       "    </tr>\n",
       "    <tr>\n",
       "      <th>S1_SEACell-10</th>\n",
       "      <td>ATAC</td>\n",
       "      <td>0.600000</td>\n",
       "      <td>S1</td>\n",
       "      <td>S1_SEACell-10</td>\n",
       "    </tr>\n",
       "    <tr>\n",
       "      <th>S1_SEACell-100</th>\n",
       "      <td>ATAC</td>\n",
       "      <td>0.616162</td>\n",
       "      <td>S1</td>\n",
       "      <td>S1_SEACell-100</td>\n",
       "    </tr>\n",
       "    <tr>\n",
       "      <th>S1_SEACell-101</th>\n",
       "      <td>ATAC</td>\n",
       "      <td>0.860759</td>\n",
       "      <td>S1</td>\n",
       "      <td>S1_SEACell-101</td>\n",
       "    </tr>\n",
       "    <tr>\n",
       "      <th>...</th>\n",
       "      <td>...</td>\n",
       "      <td>...</td>\n",
       "      <td>...</td>\n",
       "      <td>...</td>\n",
       "    </tr>\n",
       "    <tr>\n",
       "      <th>PC_SEACell-5</th>\n",
       "      <td>ATAC</td>\n",
       "      <td>0.653061</td>\n",
       "      <td>PC</td>\n",
       "      <td>PC_SEACell-5</td>\n",
       "    </tr>\n",
       "    <tr>\n",
       "      <th>PC_SEACell-6</th>\n",
       "      <td>RNA</td>\n",
       "      <td>0.671958</td>\n",
       "      <td>PC</td>\n",
       "      <td>PC_SEACell-6</td>\n",
       "    </tr>\n",
       "    <tr>\n",
       "      <th>PC_SEACell-7</th>\n",
       "      <td>ATAC</td>\n",
       "      <td>0.658824</td>\n",
       "      <td>PC</td>\n",
       "      <td>PC_SEACell-7</td>\n",
       "    </tr>\n",
       "    <tr>\n",
       "      <th>PC_SEACell-8</th>\n",
       "      <td>RNA</td>\n",
       "      <td>0.622378</td>\n",
       "      <td>PC</td>\n",
       "      <td>PC_SEACell-8</td>\n",
       "    </tr>\n",
       "    <tr>\n",
       "      <th>PC_SEACell-9</th>\n",
       "      <td>ATAC</td>\n",
       "      <td>0.592593</td>\n",
       "      <td>PC</td>\n",
       "      <td>PC_SEACell-9</td>\n",
       "    </tr>\n",
       "  </tbody>\n",
       "</table>\n",
       "<p>1109 rows × 4 columns</p>\n",
       "</div>"
      ],
      "text/plain": [
       "               SEACell_primary_source  SEACell_primary_source_purity annot1  \\\n",
       "SEACell_type                                                                  \n",
       "S1_SEACell-0                     ATAC                       0.772727     S1   \n",
       "S1_SEACell-1                     ATAC                       0.987654     S1   \n",
       "S1_SEACell-10                    ATAC                       0.600000     S1   \n",
       "S1_SEACell-100                   ATAC                       0.616162     S1   \n",
       "S1_SEACell-101                   ATAC                       0.860759     S1   \n",
       "...                               ...                            ...    ...   \n",
       "PC_SEACell-5                     ATAC                       0.653061     PC   \n",
       "PC_SEACell-6                      RNA                       0.671958     PC   \n",
       "PC_SEACell-7                     ATAC                       0.658824     PC   \n",
       "PC_SEACell-8                      RNA                       0.622378     PC   \n",
       "PC_SEACell-9                     ATAC                       0.592593     PC   \n",
       "\n",
       "                  SEACell_type  \n",
       "SEACell_type                    \n",
       "S1_SEACell-0      S1_SEACell-0  \n",
       "S1_SEACell-1      S1_SEACell-1  \n",
       "S1_SEACell-10    S1_SEACell-10  \n",
       "S1_SEACell-100  S1_SEACell-100  \n",
       "S1_SEACell-101  S1_SEACell-101  \n",
       "...                        ...  \n",
       "PC_SEACell-5      PC_SEACell-5  \n",
       "PC_SEACell-6      PC_SEACell-6  \n",
       "PC_SEACell-7      PC_SEACell-7  \n",
       "PC_SEACell-8      PC_SEACell-8  \n",
       "PC_SEACell-9      PC_SEACell-9  \n",
       "\n",
       "[1109 rows x 4 columns]"
      ]
     },
     "execution_count": 9,
     "metadata": {},
     "output_type": "execute_result"
    }
   ],
   "source": [
    "metacell_summary"
   ]
  },
  {
   "cell_type": "code",
   "execution_count": null,
   "id": "elegant-nursing",
   "metadata": {},
   "outputs": [],
   "source": []
  },
  {
   "cell_type": "code",
   "execution_count": 10,
   "id": "convinced-luther",
   "metadata": {},
   "outputs": [
    {
     "data": {
      "text/html": [
       "<div>\n",
       "<style scoped>\n",
       "    .dataframe tbody tr th:only-of-type {\n",
       "        vertical-align: middle;\n",
       "    }\n",
       "\n",
       "    .dataframe tbody tr th {\n",
       "        vertical-align: top;\n",
       "    }\n",
       "\n",
       "    .dataframe thead th {\n",
       "        text-align: right;\n",
       "    }\n",
       "</style>\n",
       "<table border=\"1\" class=\"dataframe\">\n",
       "  <thead>\n",
       "    <tr style=\"text-align: right;\">\n",
       "      <th></th>\n",
       "      <th>SEACell_primary_source</th>\n",
       "      <th>SEACell_primary_source_purity</th>\n",
       "      <th>annot1</th>\n",
       "      <th>SEACell_type</th>\n",
       "    </tr>\n",
       "    <tr>\n",
       "      <th>SEACell_type</th>\n",
       "      <th></th>\n",
       "      <th></th>\n",
       "      <th></th>\n",
       "      <th></th>\n",
       "    </tr>\n",
       "  </thead>\n",
       "  <tbody>\n",
       "    <tr>\n",
       "      <th>S1_SEACell-0</th>\n",
       "      <td>ATAC</td>\n",
       "      <td>0.772727</td>\n",
       "      <td>S1</td>\n",
       "      <td>S1_SEACell-0</td>\n",
       "    </tr>\n",
       "    <tr>\n",
       "      <th>S1_SEACell-10</th>\n",
       "      <td>ATAC</td>\n",
       "      <td>0.600000</td>\n",
       "      <td>S1</td>\n",
       "      <td>S1_SEACell-10</td>\n",
       "    </tr>\n",
       "    <tr>\n",
       "      <th>S1_SEACell-100</th>\n",
       "      <td>ATAC</td>\n",
       "      <td>0.616162</td>\n",
       "      <td>S1</td>\n",
       "      <td>S1_SEACell-100</td>\n",
       "    </tr>\n",
       "    <tr>\n",
       "      <th>S1_SEACell-101</th>\n",
       "      <td>ATAC</td>\n",
       "      <td>0.860759</td>\n",
       "      <td>S1</td>\n",
       "      <td>S1_SEACell-101</td>\n",
       "    </tr>\n",
       "    <tr>\n",
       "      <th>S1_SEACell-103</th>\n",
       "      <td>ATAC</td>\n",
       "      <td>0.789474</td>\n",
       "      <td>S1</td>\n",
       "      <td>S1_SEACell-103</td>\n",
       "    </tr>\n",
       "    <tr>\n",
       "      <th>...</th>\n",
       "      <td>...</td>\n",
       "      <td>...</td>\n",
       "      <td>...</td>\n",
       "      <td>...</td>\n",
       "    </tr>\n",
       "    <tr>\n",
       "      <th>PC_SEACell-5</th>\n",
       "      <td>ATAC</td>\n",
       "      <td>0.653061</td>\n",
       "      <td>PC</td>\n",
       "      <td>PC_SEACell-5</td>\n",
       "    </tr>\n",
       "    <tr>\n",
       "      <th>PC_SEACell-6</th>\n",
       "      <td>RNA</td>\n",
       "      <td>0.671958</td>\n",
       "      <td>PC</td>\n",
       "      <td>PC_SEACell-6</td>\n",
       "    </tr>\n",
       "    <tr>\n",
       "      <th>PC_SEACell-7</th>\n",
       "      <td>ATAC</td>\n",
       "      <td>0.658824</td>\n",
       "      <td>PC</td>\n",
       "      <td>PC_SEACell-7</td>\n",
       "    </tr>\n",
       "    <tr>\n",
       "      <th>PC_SEACell-8</th>\n",
       "      <td>RNA</td>\n",
       "      <td>0.622378</td>\n",
       "      <td>PC</td>\n",
       "      <td>PC_SEACell-8</td>\n",
       "    </tr>\n",
       "    <tr>\n",
       "      <th>PC_SEACell-9</th>\n",
       "      <td>ATAC</td>\n",
       "      <td>0.592593</td>\n",
       "      <td>PC</td>\n",
       "      <td>PC_SEACell-9</td>\n",
       "    </tr>\n",
       "  </tbody>\n",
       "</table>\n",
       "<p>790 rows × 4 columns</p>\n",
       "</div>"
      ],
      "text/plain": [
       "               SEACell_primary_source  SEACell_primary_source_purity annot1  \\\n",
       "SEACell_type                                                                  \n",
       "S1_SEACell-0                     ATAC                       0.772727     S1   \n",
       "S1_SEACell-10                    ATAC                       0.600000     S1   \n",
       "S1_SEACell-100                   ATAC                       0.616162     S1   \n",
       "S1_SEACell-101                   ATAC                       0.860759     S1   \n",
       "S1_SEACell-103                   ATAC                       0.789474     S1   \n",
       "...                               ...                            ...    ...   \n",
       "PC_SEACell-5                     ATAC                       0.653061     PC   \n",
       "PC_SEACell-6                      RNA                       0.671958     PC   \n",
       "PC_SEACell-7                     ATAC                       0.658824     PC   \n",
       "PC_SEACell-8                      RNA                       0.622378     PC   \n",
       "PC_SEACell-9                     ATAC                       0.592593     PC   \n",
       "\n",
       "                  SEACell_type  \n",
       "SEACell_type                    \n",
       "S1_SEACell-0      S1_SEACell-0  \n",
       "S1_SEACell-10    S1_SEACell-10  \n",
       "S1_SEACell-100  S1_SEACell-100  \n",
       "S1_SEACell-101  S1_SEACell-101  \n",
       "S1_SEACell-103  S1_SEACell-103  \n",
       "...                        ...  \n",
       "PC_SEACell-5      PC_SEACell-5  \n",
       "PC_SEACell-6      PC_SEACell-6  \n",
       "PC_SEACell-7      PC_SEACell-7  \n",
       "PC_SEACell-8      PC_SEACell-8  \n",
       "PC_SEACell-9      PC_SEACell-9  \n",
       "\n",
       "[790 rows x 4 columns]"
      ]
     },
     "execution_count": 10,
     "metadata": {},
     "output_type": "execute_result"
    }
   ],
   "source": [
    "# Filter cells with balanced ATAC and RNA contribution at threshold\n",
    "metacell_summary[metacell_summary.SEACell_primary_source_purity  < 0.9]"
   ]
  },
  {
   "cell_type": "markdown",
   "id": "three-principal",
   "metadata": {},
   "source": [
    "# Load raw count data"
   ]
  },
  {
   "cell_type": "markdown",
   "id": "unauthorized-factory",
   "metadata": {},
   "source": [
    "## ATAC"
   ]
  },
  {
   "cell_type": "code",
   "execution_count": 11,
   "id": "artistic-offense",
   "metadata": {},
   "outputs": [],
   "source": [
    "atac = sc.read('../fibroblast_reanalysis/data/scATAC_PeakMatrix_fibro.processed.h5ad')"
   ]
  },
  {
   "cell_type": "code",
   "execution_count": 12,
   "id": "advisory-sensitivity",
   "metadata": {},
   "outputs": [
    {
     "data": {
      "text/plain": [
       "AnnData object with n_obs × n_vars = 56689 × 407383\n",
       "    obs: 'BlacklistRatio', 'DoubletEnrichment', 'DoubletScore', 'nDiFrags', 'nFrags', 'nMonoFrags', 'nMultiFrags', 'NucleosomeRatio', 'PromoterRatio', 'ReadsInBlacklist', 'ReadsInPromoter', 'ReadsInTSS', 'Sample_x', 'TSSEnrichment', 'Clusters', 'predictedCell_Un', 'predictedGroup_Un', 'predictedScore_Un', 'predictedCell_Co', 'predictedGroup_Co', 'predictedScore_Co', 'Clusters_hm', 'predictedCell_Un_hm', 'predictedGroup_Un_hm', 'predictedScore_Un_hm', 'predictedCell_Co_hm', 'predictedGroup_Co_hm', 'predictedScore_Co_hm', 'predictedCell', 'predictedGroup', 'predictedScore', 'Annot', 'Clusters1', 'ReadsInPeaks', 'FRIP', 'GEX_SID', 'ATAC_SID', 'GEX', 'ATAC', 'Sample_y', 'DOB', 'Gender', 'date', 'age_years', 'state', 'disease', 'site_taken_fine', 'site_taken_broad', 'sorted', 'Nancy_histologic_score', 'slide_look_other', 'whole_tissue_signature', 'scSeq', 'bulkSeq', 'n_counts', 'log1p_n_counts', 'n_genes', 'log1p_n_genes', 'percent_mito', 'n_counts_mito', 'percent_ribo', 'n_counts_ribo', 'percent_hb', 'n_counts_hb', 'percent_top50', 'scrublet_score_z', 'leiden_bk_r0_3', 'leiden_bk_r0_5', 'leiden_bk_r0_7', 'leiden_bk_split1', 'leiden_bk_split2', 'annot1'\n",
       "    var: 'idx', 'cc', 'mito', 'ribo', 'hb', 'n_counts', 'n_cells', 'highly_variable', 'means', 'dispersions', 'dispersions_norm', 'highly_variable_nbatches', 'highly_variable_intersection', 'hvg_full'\n",
       "    uns: 'annot1_colors', 'leiden', 'neighbors', 'neighbors_bk', 'pca', 'rank_genes_groups', 'umap'\n",
       "    obsm: 'X_pca', 'X_umap', 'X_umap_bk'\n",
       "    varm: 'PCs'\n",
       "    obsp: 'connectivities', 'distances'"
      ]
     },
     "execution_count": 12,
     "metadata": {},
     "output_type": "execute_result"
    }
   ],
   "source": [
    "atac"
   ]
  },
  {
   "cell_type": "code",
   "execution_count": 13,
   "id": "twenty-bernard",
   "metadata": {},
   "outputs": [
    {
     "data": {
      "text/plain": [
       "S1     18132\n",
       "S3     15791\n",
       "S2      7452\n",
       "S5      4881\n",
       "MF1     4135\n",
       "S3x     3819\n",
       "PC      1678\n",
       "S4       801\n",
       "MF2        0\n",
       "Name: annot1, dtype: int64"
      ]
     },
     "execution_count": 13,
     "metadata": {},
     "output_type": "execute_result"
    }
   ],
   "source": [
    "atac.obs.annot1.value_counts()"
   ]
  },
  {
   "cell_type": "code",
   "execution_count": 14,
   "id": "visible-system",
   "metadata": {},
   "outputs": [
    {
     "name": "stdout",
     "output_type": "stream",
     "text": [
      "  (1, 3)\t6.7662582\n",
      "  (2, 2)\t5.086071\n",
      "  (3, 2)\t2.5430355\n",
      "  (5, 3)\t6.7662582\n",
      "  (5, 7)\t3.181742\n",
      "  (6, 3)\t3.3831291\n",
      "  (8, 2)\t5.086071\n"
     ]
    }
   ],
   "source": [
    "print(atac.X[1:10, 1:10])"
   ]
  },
  {
   "cell_type": "code",
   "execution_count": 15,
   "id": "large-surveillance",
   "metadata": {},
   "outputs": [
    {
     "name": "stdout",
     "output_type": "stream",
     "text": [
      "  (1, 3)\t2.0\n",
      "  (2, 2)\t2.0\n",
      "  (3, 2)\t1.0\n",
      "  (5, 7)\t2.0\n",
      "  (5, 3)\t2.0\n",
      "  (6, 3)\t1.0\n",
      "  (8, 2)\t2.0\n"
     ]
    }
   ],
   "source": [
    "print(atac.raw.X[1:10, 1:10])"
   ]
  },
  {
   "cell_type": "code",
   "execution_count": 16,
   "id": "meaningful-bookmark",
   "metadata": {},
   "outputs": [],
   "source": [
    "# # Subset data\n",
    "# select_cells = ['S1', 'S2', 'S3', 'S3x', 'S4', 'S5', 'MF1', 'MF2', 'PC']\n",
    "# atac = atac[atac.obs.annot1.isin(select_cells)]\n",
    "\n",
    "# atac.obs.annot1 = atac.obs.annot1.cat.add_categories('MF2')  # add missing category (such that coloring scheme aligns with scRNA-seq data)\n",
    "\n",
    "# # Reorder annotation labels\n",
    "# atac.obs.annot1 = atac.obs.annot1.cat.reorder_categories([\n",
    "#     'S1', 'S2', 'S3', 'S3x', 'S4', 'S5', 'MF1', 'MF2', 'PC'  # data does not contain MF2\n",
    "# ])"
   ]
  },
  {
   "cell_type": "code",
   "execution_count": 17,
   "id": "modern-ozone",
   "metadata": {},
   "outputs": [],
   "source": [
    "# atac"
   ]
  },
  {
   "cell_type": "code",
   "execution_count": 18,
   "id": "worldwide-buddy",
   "metadata": {},
   "outputs": [],
   "source": [
    "# Add SEAcells column\n",
    "atac.obs = atac.obs.join(metacells[['SEACell_type']])"
   ]
  },
  {
   "cell_type": "markdown",
   "id": "engaged-friendship",
   "metadata": {},
   "source": [
    "## RNA"
   ]
  },
  {
   "cell_type": "code",
   "execution_count": 19,
   "id": "tribal-thread",
   "metadata": {},
   "outputs": [
    {
     "name": "stdout",
     "output_type": "stream",
     "text": [
      "WARNING: Your filename has more than two extensions: ['.raw', '.fibroblasts', '.h5ad'].\n",
      "Only considering the two last: ['.fibroblasts', '.h5ad'].\n",
      "WARNING: Your filename has more than two extensions: ['.raw', '.fibroblasts', '.h5ad'].\n",
      "Only considering the two last: ['.fibroblasts', '.h5ad'].\n"
     ]
    }
   ],
   "source": [
    "rna = sc.read('../data/rna/scRNA_batch1_2.raw.fibroblasts.h5ad')"
   ]
  },
  {
   "cell_type": "code",
   "execution_count": 20,
   "id": "vocal-offer",
   "metadata": {},
   "outputs": [
    {
     "data": {
      "text/plain": [
       "AnnData object with n_obs × n_vars = 26727 × 17707\n",
       "    obs: 'doublet_bh_pval_x', 'n_counts_x', 'sample_id_x', 'scrublet_score_x', 'GEX_SID_x', 'ATAC_SID_x', 'GEX_x', 'ATAC_x', 'Sample_x', 'DOB_x', 'Gender_x', 'date_x', 'age_years_x', 'state_x', 'disease_x', 'site_taken_fine_x', 'site_taken_broad_x', 'sorted_x', 'Nancy_histologic_score_x', 'slide_look_other_x', 'whole_tissue_signature_x', 'scSeq_x', 'bulkSeq_x', 'log1p_n_counts_x', 'n_genes_x', 'log1p_n_genes_x', 'percent_mito_x', 'percent_ribo_x', 'percent_hb_x', 'percent_top50_x', 'doublet_bh_pval_y', 'n_counts_y', 'sample_id_y', 'scrublet_score_y', 'log1p_n_counts_y', 'n_genes_y', 'log1p_n_genes_y', 'percent_mito_y', 'percent_ribo_y', 'percent_hb_y', 'percent_top50_y', 'GEX_SID_y', 'ATAC_SID_y', 'GEX_y', 'ATAC_y', 'Sample_y', 'DOB_y', 'Gender_y', 'date_y', 'age_years_y', 'state_y', 'disease_y', 'site_taken_fine_y', 'site_taken_broad_y', 'sorted_y', 'Nancy_histologic_score_y', 'slide_look_other_y', 'whole_tissue_signature_y', 'scSeq_y', 'bulkSeq_y', 'annot_batch1_lr', 'annot_batch1_lr_prob', 'annot_batch2_lr', 'annot_batch2_lr_prob', 'leiden_bk_r0_1', 'leiden_bk_r0_3', 'leiden_bk_r0_5', 'is_doublet', 'leiden_bk_split1', 'leiden_bk_split2', 'leiden_bk_split3', 'annot1', 'leiden_bk_split4', 'annot_gut_lr', 'annot_gut_lr_prob', 'broad_annot1'\n",
       "    var: 'gene_ids', 'mito', 'ribo', 'hb', 'n_counts', 'n_cells'"
      ]
     },
     "execution_count": 20,
     "metadata": {},
     "output_type": "execute_result"
    }
   ],
   "source": [
    "rna"
   ]
  },
  {
   "cell_type": "code",
   "execution_count": 21,
   "id": "based-aging",
   "metadata": {},
   "outputs": [
    {
     "data": {
      "text/plain": [
       "S3     8295\n",
       "S1     5644\n",
       "S3x    3175\n",
       "S5     3103\n",
       "S2     3029\n",
       "MF1    1401\n",
       "PC     1200\n",
       "S4      699\n",
       "MF2     181\n",
       "Name: annot1, dtype: int64"
      ]
     },
     "execution_count": 21,
     "metadata": {},
     "output_type": "execute_result"
    }
   ],
   "source": [
    "rna.obs.annot1.value_counts()"
   ]
  },
  {
   "cell_type": "code",
   "execution_count": 22,
   "id": "adjusted-shannon",
   "metadata": {},
   "outputs": [
    {
     "name": "stdout",
     "output_type": "stream",
     "text": [
      "  (12, 6)\t1.0\n",
      "  (13, 7)\t1.0\n",
      "  (15, 7)\t1.0\n",
      "  (15, 5)\t1.0\n",
      "  (16, 3)\t1.0\n",
      "  (18, 6)\t1.0\n"
     ]
    }
   ],
   "source": [
    "print(rna.X[1:20, 1:10])"
   ]
  },
  {
   "cell_type": "code",
   "execution_count": 23,
   "id": "religious-mayor",
   "metadata": {},
   "outputs": [],
   "source": [
    "# Add SEAcells column\n",
    "rna.obs = rna.obs.join(metacells[['SEACell_type']])"
   ]
  },
  {
   "cell_type": "code",
   "execution_count": 24,
   "id": "innocent-cabinet",
   "metadata": {},
   "outputs": [
    {
     "data": {
      "text/html": [
       "<div>\n",
       "<style scoped>\n",
       "    .dataframe tbody tr th:only-of-type {\n",
       "        vertical-align: middle;\n",
       "    }\n",
       "\n",
       "    .dataframe tbody tr th {\n",
       "        vertical-align: top;\n",
       "    }\n",
       "\n",
       "    .dataframe thead th {\n",
       "        text-align: right;\n",
       "    }\n",
       "</style>\n",
       "<table border=\"1\" class=\"dataframe\">\n",
       "  <thead>\n",
       "    <tr style=\"text-align: right;\">\n",
       "      <th></th>\n",
       "      <th>doublet_bh_pval_x</th>\n",
       "      <th>n_counts_x</th>\n",
       "      <th>sample_id_x</th>\n",
       "      <th>scrublet_score_x</th>\n",
       "      <th>GEX_SID_x</th>\n",
       "      <th>ATAC_SID_x</th>\n",
       "      <th>GEX_x</th>\n",
       "      <th>ATAC_x</th>\n",
       "      <th>Sample_x</th>\n",
       "      <th>DOB_x</th>\n",
       "      <th>...</th>\n",
       "      <th>is_doublet</th>\n",
       "      <th>leiden_bk_split1</th>\n",
       "      <th>leiden_bk_split2</th>\n",
       "      <th>leiden_bk_split3</th>\n",
       "      <th>annot1</th>\n",
       "      <th>leiden_bk_split4</th>\n",
       "      <th>annot_gut_lr</th>\n",
       "      <th>annot_gut_lr_prob</th>\n",
       "      <th>broad_annot1</th>\n",
       "      <th>SEACell_type</th>\n",
       "    </tr>\n",
       "    <tr>\n",
       "      <th>index</th>\n",
       "      <th></th>\n",
       "      <th></th>\n",
       "      <th></th>\n",
       "      <th></th>\n",
       "      <th></th>\n",
       "      <th></th>\n",
       "      <th></th>\n",
       "      <th></th>\n",
       "      <th></th>\n",
       "      <th></th>\n",
       "      <th></th>\n",
       "      <th></th>\n",
       "      <th></th>\n",
       "      <th></th>\n",
       "      <th></th>\n",
       "      <th></th>\n",
       "      <th></th>\n",
       "      <th></th>\n",
       "      <th></th>\n",
       "      <th></th>\n",
       "      <th></th>\n",
       "    </tr>\n",
       "  </thead>\n",
       "  <tbody>\n",
       "    <tr>\n",
       "      <th>AAACCCATCGTGCTCT-R01</th>\n",
       "      <td>0.737696</td>\n",
       "      <td>1890.0</td>\n",
       "      <td>R01</td>\n",
       "      <td>0.286344</td>\n",
       "      <td>R01</td>\n",
       "      <td>A01</td>\n",
       "      <td>GX46</td>\n",
       "      <td>NX02</td>\n",
       "      <td>110544</td>\n",
       "      <td>24/10/1951</td>\n",
       "      <td>...</td>\n",
       "      <td>False</td>\n",
       "      <td>6</td>\n",
       "      <td>6</td>\n",
       "      <td>6</td>\n",
       "      <td>S2</td>\n",
       "      <td>6</td>\n",
       "      <td>WNT5B+ 1</td>\n",
       "      <td>0.253333</td>\n",
       "      <td>S2</td>\n",
       "      <td>S2_SEACell-8</td>\n",
       "    </tr>\n",
       "    <tr>\n",
       "      <th>AAACGAACATGTTACG-R01</th>\n",
       "      <td>0.737696</td>\n",
       "      <td>2811.0</td>\n",
       "      <td>R01</td>\n",
       "      <td>0.192308</td>\n",
       "      <td>R01</td>\n",
       "      <td>A01</td>\n",
       "      <td>GX46</td>\n",
       "      <td>NX02</td>\n",
       "      <td>110544</td>\n",
       "      <td>24/10/1951</td>\n",
       "      <td>...</td>\n",
       "      <td>False</td>\n",
       "      <td>1</td>\n",
       "      <td>1</td>\n",
       "      <td>1</td>\n",
       "      <td>S1</td>\n",
       "      <td>1</td>\n",
       "      <td>WNT2B+ Fos-hi</td>\n",
       "      <td>0.514190</td>\n",
       "      <td>S1</td>\n",
       "      <td>S1_SEACell-65</td>\n",
       "    </tr>\n",
       "    <tr>\n",
       "      <th>AAACGAAGTTCCGTTC-R01</th>\n",
       "      <td>0.737696</td>\n",
       "      <td>1707.0</td>\n",
       "      <td>R01</td>\n",
       "      <td>0.167630</td>\n",
       "      <td>R01</td>\n",
       "      <td>A01</td>\n",
       "      <td>GX46</td>\n",
       "      <td>NX02</td>\n",
       "      <td>110544</td>\n",
       "      <td>24/10/1951</td>\n",
       "      <td>...</td>\n",
       "      <td>False</td>\n",
       "      <td>4</td>\n",
       "      <td>4</td>\n",
       "      <td>4</td>\n",
       "      <td>S3x</td>\n",
       "      <td>4</td>\n",
       "      <td>WNT2B+ Fos-hi</td>\n",
       "      <td>0.294068</td>\n",
       "      <td>S3x</td>\n",
       "      <td>S3x_SEACell-36</td>\n",
       "    </tr>\n",
       "    <tr>\n",
       "      <th>AAACGCTGTCGTTGGC-R01</th>\n",
       "      <td>0.737696</td>\n",
       "      <td>1959.0</td>\n",
       "      <td>R01</td>\n",
       "      <td>0.029213</td>\n",
       "      <td>R01</td>\n",
       "      <td>A01</td>\n",
       "      <td>GX46</td>\n",
       "      <td>NX02</td>\n",
       "      <td>110544</td>\n",
       "      <td>24/10/1951</td>\n",
       "      <td>...</td>\n",
       "      <td>False</td>\n",
       "      <td>4</td>\n",
       "      <td>4</td>\n",
       "      <td>4</td>\n",
       "      <td>S3x</td>\n",
       "      <td>4</td>\n",
       "      <td>RSPO3+</td>\n",
       "      <td>0.274607</td>\n",
       "      <td>S3x</td>\n",
       "      <td>S3x_SEACell-75</td>\n",
       "    </tr>\n",
       "    <tr>\n",
       "      <th>AAAGAACCACAAGGTG-R01</th>\n",
       "      <td>0.737696</td>\n",
       "      <td>2126.0</td>\n",
       "      <td>R01</td>\n",
       "      <td>0.122970</td>\n",
       "      <td>R01</td>\n",
       "      <td>A01</td>\n",
       "      <td>GX46</td>\n",
       "      <td>NX02</td>\n",
       "      <td>110544</td>\n",
       "      <td>24/10/1951</td>\n",
       "      <td>...</td>\n",
       "      <td>False</td>\n",
       "      <td>1</td>\n",
       "      <td>1</td>\n",
       "      <td>1</td>\n",
       "      <td>S1</td>\n",
       "      <td>1</td>\n",
       "      <td>WNT2B+ Fos-hi</td>\n",
       "      <td>0.303378</td>\n",
       "      <td>S1</td>\n",
       "      <td>S1_SEACell-62</td>\n",
       "    </tr>\n",
       "    <tr>\n",
       "      <th>...</th>\n",
       "      <td>...</td>\n",
       "      <td>...</td>\n",
       "      <td>...</td>\n",
       "      <td>...</td>\n",
       "      <td>...</td>\n",
       "      <td>...</td>\n",
       "      <td>...</td>\n",
       "      <td>...</td>\n",
       "      <td>...</td>\n",
       "      <td>...</td>\n",
       "      <td>...</td>\n",
       "      <td>...</td>\n",
       "      <td>...</td>\n",
       "      <td>...</td>\n",
       "      <td>...</td>\n",
       "      <td>...</td>\n",
       "      <td>...</td>\n",
       "      <td>...</td>\n",
       "      <td>...</td>\n",
       "      <td>...</td>\n",
       "      <td>...</td>\n",
       "    </tr>\n",
       "    <tr>\n",
       "      <th>TTTGGTTCATTCGATG-R13</th>\n",
       "      <td>0.863149</td>\n",
       "      <td>2774.0</td>\n",
       "      <td>R13</td>\n",
       "      <td>0.067358</td>\n",
       "      <td>R13</td>\n",
       "      <td>A13</td>\n",
       "      <td>GX43</td>\n",
       "      <td>NX82</td>\n",
       "      <td>113395</td>\n",
       "      <td>8/12/1976</td>\n",
       "      <td>...</td>\n",
       "      <td>False</td>\n",
       "      <td>4</td>\n",
       "      <td>4</td>\n",
       "      <td>4</td>\n",
       "      <td>S3x</td>\n",
       "      <td>4</td>\n",
       "      <td>RSPO3+</td>\n",
       "      <td>0.200662</td>\n",
       "      <td>S3x</td>\n",
       "      <td>S3x_SEACell-57</td>\n",
       "    </tr>\n",
       "    <tr>\n",
       "      <th>TTTGGTTGTACTAGCT-R13</th>\n",
       "      <td>0.863149</td>\n",
       "      <td>5568.0</td>\n",
       "      <td>R13</td>\n",
       "      <td>0.142857</td>\n",
       "      <td>R13</td>\n",
       "      <td>A13</td>\n",
       "      <td>GX43</td>\n",
       "      <td>NX82</td>\n",
       "      <td>113395</td>\n",
       "      <td>8/12/1976</td>\n",
       "      <td>...</td>\n",
       "      <td>False</td>\n",
       "      <td>0,0</td>\n",
       "      <td>0,0</td>\n",
       "      <td>0,0</td>\n",
       "      <td>S3</td>\n",
       "      <td>0,0</td>\n",
       "      <td>RSPO3+</td>\n",
       "      <td>0.231953</td>\n",
       "      <td>S3</td>\n",
       "      <td>S3_SEACell-129</td>\n",
       "    </tr>\n",
       "    <tr>\n",
       "      <th>TTTGGTTTCGTGGACC-R13</th>\n",
       "      <td>0.863149</td>\n",
       "      <td>4897.0</td>\n",
       "      <td>R13</td>\n",
       "      <td>0.073171</td>\n",
       "      <td>R13</td>\n",
       "      <td>A13</td>\n",
       "      <td>GX43</td>\n",
       "      <td>NX82</td>\n",
       "      <td>113395</td>\n",
       "      <td>8/12/1976</td>\n",
       "      <td>...</td>\n",
       "      <td>False</td>\n",
       "      <td>0,0</td>\n",
       "      <td>0,0</td>\n",
       "      <td>0,0</td>\n",
       "      <td>S3</td>\n",
       "      <td>0,0</td>\n",
       "      <td>RSPO3+</td>\n",
       "      <td>0.272154</td>\n",
       "      <td>S3</td>\n",
       "      <td>S3_SEACell-220</td>\n",
       "    </tr>\n",
       "    <tr>\n",
       "      <th>TTTGTTGGTCACTACA-R13</th>\n",
       "      <td>0.863149</td>\n",
       "      <td>4030.0</td>\n",
       "      <td>R13</td>\n",
       "      <td>0.117967</td>\n",
       "      <td>R13</td>\n",
       "      <td>A13</td>\n",
       "      <td>GX43</td>\n",
       "      <td>NX82</td>\n",
       "      <td>113395</td>\n",
       "      <td>8/12/1976</td>\n",
       "      <td>...</td>\n",
       "      <td>False</td>\n",
       "      <td>0,0</td>\n",
       "      <td>0,0</td>\n",
       "      <td>0,0</td>\n",
       "      <td>S3</td>\n",
       "      <td>0,0</td>\n",
       "      <td>RSPO3+</td>\n",
       "      <td>0.148830</td>\n",
       "      <td>S3</td>\n",
       "      <td>S3_SEACell-120</td>\n",
       "    </tr>\n",
       "    <tr>\n",
       "      <th>TTTGTTGTCCTCTTTC-R13</th>\n",
       "      <td>0.808476</td>\n",
       "      <td>1754.0</td>\n",
       "      <td>R13</td>\n",
       "      <td>0.117967</td>\n",
       "      <td>R13</td>\n",
       "      <td>A13</td>\n",
       "      <td>GX43</td>\n",
       "      <td>NX82</td>\n",
       "      <td>113395</td>\n",
       "      <td>8/12/1976</td>\n",
       "      <td>...</td>\n",
       "      <td>False</td>\n",
       "      <td>6</td>\n",
       "      <td>6</td>\n",
       "      <td>6</td>\n",
       "      <td>S2</td>\n",
       "      <td>6</td>\n",
       "      <td>WNT2B+ Fos-hi</td>\n",
       "      <td>0.221720</td>\n",
       "      <td>S2</td>\n",
       "      <td>S2_SEACell-8</td>\n",
       "    </tr>\n",
       "  </tbody>\n",
       "</table>\n",
       "<p>26727 rows × 77 columns</p>\n",
       "</div>"
      ],
      "text/plain": [
       "                      doublet_bh_pval_x  n_counts_x sample_id_x  \\\n",
       "index                                                             \n",
       "AAACCCATCGTGCTCT-R01           0.737696      1890.0         R01   \n",
       "AAACGAACATGTTACG-R01           0.737696      2811.0         R01   \n",
       "AAACGAAGTTCCGTTC-R01           0.737696      1707.0         R01   \n",
       "AAACGCTGTCGTTGGC-R01           0.737696      1959.0         R01   \n",
       "AAAGAACCACAAGGTG-R01           0.737696      2126.0         R01   \n",
       "...                                 ...         ...         ...   \n",
       "TTTGGTTCATTCGATG-R13           0.863149      2774.0         R13   \n",
       "TTTGGTTGTACTAGCT-R13           0.863149      5568.0         R13   \n",
       "TTTGGTTTCGTGGACC-R13           0.863149      4897.0         R13   \n",
       "TTTGTTGGTCACTACA-R13           0.863149      4030.0         R13   \n",
       "TTTGTTGTCCTCTTTC-R13           0.808476      1754.0         R13   \n",
       "\n",
       "                      scrublet_score_x GEX_SID_x ATAC_SID_x GEX_x ATAC_x  \\\n",
       "index                                                                      \n",
       "AAACCCATCGTGCTCT-R01          0.286344       R01        A01  GX46   NX02   \n",
       "AAACGAACATGTTACG-R01          0.192308       R01        A01  GX46   NX02   \n",
       "AAACGAAGTTCCGTTC-R01          0.167630       R01        A01  GX46   NX02   \n",
       "AAACGCTGTCGTTGGC-R01          0.029213       R01        A01  GX46   NX02   \n",
       "AAAGAACCACAAGGTG-R01          0.122970       R01        A01  GX46   NX02   \n",
       "...                                ...       ...        ...   ...    ...   \n",
       "TTTGGTTCATTCGATG-R13          0.067358       R13        A13  GX43   NX82   \n",
       "TTTGGTTGTACTAGCT-R13          0.142857       R13        A13  GX43   NX82   \n",
       "TTTGGTTTCGTGGACC-R13          0.073171       R13        A13  GX43   NX82   \n",
       "TTTGTTGGTCACTACA-R13          0.117967       R13        A13  GX43   NX82   \n",
       "TTTGTTGTCCTCTTTC-R13          0.117967       R13        A13  GX43   NX82   \n",
       "\n",
       "                      Sample_x       DOB_x  ... is_doublet leiden_bk_split1  \\\n",
       "index                                       ...                               \n",
       "AAACCCATCGTGCTCT-R01    110544  24/10/1951  ...      False                6   \n",
       "AAACGAACATGTTACG-R01    110544  24/10/1951  ...      False                1   \n",
       "AAACGAAGTTCCGTTC-R01    110544  24/10/1951  ...      False                4   \n",
       "AAACGCTGTCGTTGGC-R01    110544  24/10/1951  ...      False                4   \n",
       "AAAGAACCACAAGGTG-R01    110544  24/10/1951  ...      False                1   \n",
       "...                        ...         ...  ...        ...              ...   \n",
       "TTTGGTTCATTCGATG-R13    113395   8/12/1976  ...      False                4   \n",
       "TTTGGTTGTACTAGCT-R13    113395   8/12/1976  ...      False              0,0   \n",
       "TTTGGTTTCGTGGACC-R13    113395   8/12/1976  ...      False              0,0   \n",
       "TTTGTTGGTCACTACA-R13    113395   8/12/1976  ...      False              0,0   \n",
       "TTTGTTGTCCTCTTTC-R13    113395   8/12/1976  ...      False                6   \n",
       "\n",
       "                      leiden_bk_split2 leiden_bk_split3 annot1  \\\n",
       "index                                                            \n",
       "AAACCCATCGTGCTCT-R01                 6                6     S2   \n",
       "AAACGAACATGTTACG-R01                 1                1     S1   \n",
       "AAACGAAGTTCCGTTC-R01                 4                4    S3x   \n",
       "AAACGCTGTCGTTGGC-R01                 4                4    S3x   \n",
       "AAAGAACCACAAGGTG-R01                 1                1     S1   \n",
       "...                                ...              ...    ...   \n",
       "TTTGGTTCATTCGATG-R13                 4                4    S3x   \n",
       "TTTGGTTGTACTAGCT-R13               0,0              0,0     S3   \n",
       "TTTGGTTTCGTGGACC-R13               0,0              0,0     S3   \n",
       "TTTGTTGGTCACTACA-R13               0,0              0,0     S3   \n",
       "TTTGTTGTCCTCTTTC-R13                 6                6     S2   \n",
       "\n",
       "                     leiden_bk_split4   annot_gut_lr annot_gut_lr_prob  \\\n",
       "index                                                                    \n",
       "AAACCCATCGTGCTCT-R01                6       WNT5B+ 1          0.253333   \n",
       "AAACGAACATGTTACG-R01                1  WNT2B+ Fos-hi          0.514190   \n",
       "AAACGAAGTTCCGTTC-R01                4  WNT2B+ Fos-hi          0.294068   \n",
       "AAACGCTGTCGTTGGC-R01                4         RSPO3+          0.274607   \n",
       "AAAGAACCACAAGGTG-R01                1  WNT2B+ Fos-hi          0.303378   \n",
       "...                               ...            ...               ...   \n",
       "TTTGGTTCATTCGATG-R13                4         RSPO3+          0.200662   \n",
       "TTTGGTTGTACTAGCT-R13              0,0         RSPO3+          0.231953   \n",
       "TTTGGTTTCGTGGACC-R13              0,0         RSPO3+          0.272154   \n",
       "TTTGTTGGTCACTACA-R13              0,0         RSPO3+          0.148830   \n",
       "TTTGTTGTCCTCTTTC-R13                6  WNT2B+ Fos-hi          0.221720   \n",
       "\n",
       "                      broad_annot1    SEACell_type  \n",
       "index                                               \n",
       "AAACCCATCGTGCTCT-R01            S2    S2_SEACell-8  \n",
       "AAACGAACATGTTACG-R01            S1   S1_SEACell-65  \n",
       "AAACGAAGTTCCGTTC-R01           S3x  S3x_SEACell-36  \n",
       "AAACGCTGTCGTTGGC-R01           S3x  S3x_SEACell-75  \n",
       "AAAGAACCACAAGGTG-R01            S1   S1_SEACell-62  \n",
       "...                            ...             ...  \n",
       "TTTGGTTCATTCGATG-R13           S3x  S3x_SEACell-57  \n",
       "TTTGGTTGTACTAGCT-R13            S3  S3_SEACell-129  \n",
       "TTTGGTTTCGTGGACC-R13            S3  S3_SEACell-220  \n",
       "TTTGTTGGTCACTACA-R13            S3  S3_SEACell-120  \n",
       "TTTGTTGTCCTCTTTC-R13            S2    S2_SEACell-8  \n",
       "\n",
       "[26727 rows x 77 columns]"
      ]
     },
     "execution_count": 24,
     "metadata": {},
     "output_type": "execute_result"
    }
   ],
   "source": [
    "rna.obs"
   ]
  },
  {
   "cell_type": "code",
   "execution_count": 25,
   "id": "consolidated-champagne",
   "metadata": {},
   "outputs": [
    {
     "data": {
      "text/plain": [
       "<Axes: xlabel='SEACell_type', ylabel='Count'>"
      ]
     },
     "execution_count": 25,
     "metadata": {},
     "output_type": "execute_result"
    },
    {
     "data": {
      "image/png": "[encoded data removed]",
      "text/plain": [
       "<Figure size 400x400 with 1 Axes>"
      ]
     },
     "metadata": {},
     "output_type": "display_data"
    }
   ],
   "source": [
    "sns.histplot(rna.obs.SEACell_type.value_counts())"
   ]
  },
  {
   "cell_type": "code",
   "execution_count": 26,
   "id": "changed-grace",
   "metadata": {},
   "outputs": [
    {
     "data": {
      "text/plain": [
       "<Axes: xlabel='SEACell_type', ylabel='Count'>"
      ]
     },
     "execution_count": 26,
     "metadata": {},
     "output_type": "execute_result"
    },
    {
     "data": {
      "image/png": "[encoded data removed]",
      "text/plain": [
       "<Figure size 400x400 with 1 Axes>"
      ]
     },
     "metadata": {},
     "output_type": "display_data"
    }
   ],
   "source": [
    "sns.histplot(atac.obs.SEACell_type.value_counts())"
   ]
  },
  {
   "cell_type": "code",
   "execution_count": 27,
   "id": "stylish-nomination",
   "metadata": {},
   "outputs": [],
   "source": [
    "#atac.obs"
   ]
  },
  {
   "cell_type": "markdown",
   "id": "earned-sixth",
   "metadata": {},
   "source": [
    "# Aggregate raw counts by SEAcells"
   ]
  },
  {
   "cell_type": "code",
   "execution_count": 28,
   "id": "acoustic-vintage",
   "metadata": {},
   "outputs": [
    {
     "name": "stderr",
     "output_type": "stream",
     "text": [
      "100%|██████████| 1108/1108 [00:23<00:00, 47.64it/s]\n"
     ]
    }
   ],
   "source": [
    "seacell_atac = SEACells.core.summarize_by_SEACell(atac, SEACells_label='SEACell_type', summarize_layer='raw')"
   ]
  },
  {
   "cell_type": "code",
   "execution_count": 29,
   "id": "chubby-debut",
   "metadata": {},
   "outputs": [],
   "source": [
    "rna.raw = rna  # summarize_by_SEACell expects raw counts in this format"
   ]
  },
  {
   "cell_type": "code",
   "execution_count": 30,
   "id": "boxed-reunion",
   "metadata": {},
   "outputs": [
    {
     "name": "stderr",
     "output_type": "stream",
     "text": [
      "100%|██████████| 1046/1046 [00:19<00:00, 52.46it/s]\n"
     ]
    }
   ],
   "source": [
    "seacell_rna = SEACells.core.summarize_by_SEACell(rna, SEACells_label='SEACell_type', summarize_layer='raw')"
   ]
  },
  {
   "cell_type": "code",
   "execution_count": 31,
   "id": "incredible-jacket",
   "metadata": {},
   "outputs": [
    {
     "data": {
      "text/plain": [
       "AnnData object with n_obs × n_vars = 1108 × 407383\n",
       "    layers: 'raw'"
      ]
     },
     "execution_count": 31,
     "metadata": {},
     "output_type": "execute_result"
    }
   ],
   "source": [
    "seacell_atac"
   ]
  },
  {
   "cell_type": "code",
   "execution_count": 32,
   "id": "stuffed-manor",
   "metadata": {},
   "outputs": [
    {
     "data": {
      "text/plain": [
       "AnnData object with n_obs × n_vars = 1046 × 17707\n",
       "    layers: 'raw'"
      ]
     },
     "execution_count": 32,
     "metadata": {},
     "output_type": "execute_result"
    }
   ],
   "source": [
    "seacell_rna"
   ]
  },
  {
   "cell_type": "code",
   "execution_count": 33,
   "id": "statistical-northern",
   "metadata": {},
   "outputs": [],
   "source": [
    "#print(seacell_atac.X[1:10, 1:10])"
   ]
  },
  {
   "cell_type": "code",
   "execution_count": 34,
   "id": "appointed-merchant",
   "metadata": {},
   "outputs": [],
   "source": [
    "#print(rna.X[1:20, 1:10])"
   ]
  },
  {
   "cell_type": "markdown",
   "id": "usual-blocking",
   "metadata": {},
   "source": [
    "## Append metacell summary statistics"
   ]
  },
  {
   "cell_type": "code",
   "execution_count": 35,
   "id": "threaded-limit",
   "metadata": {},
   "outputs": [],
   "source": [
    "#seacell_rna.obs"
   ]
  },
  {
   "cell_type": "code",
   "execution_count": 36,
   "id": "occasional-danish",
   "metadata": {},
   "outputs": [],
   "source": [
    "seacell_rna.obs = seacell_rna.obs.join(metacell_summary)"
   ]
  },
  {
   "cell_type": "code",
   "execution_count": 37,
   "id": "mediterranean-stevens",
   "metadata": {},
   "outputs": [],
   "source": [
    "seacell_atac.obs = seacell_atac.obs.join(metacell_summary)"
   ]
  },
  {
   "cell_type": "code",
   "execution_count": 38,
   "id": "brown-volleyball",
   "metadata": {},
   "outputs": [],
   "source": [
    "#seacell_atac.obs"
   ]
  },
  {
   "cell_type": "markdown",
   "id": "settled-coordinate",
   "metadata": {},
   "source": [
    "### Filter metacells"
   ]
  },
  {
   "cell_type": "code",
   "execution_count": 39,
   "id": "legal-tampa",
   "metadata": {},
   "outputs": [],
   "source": [
    "# Exclude metacells with >=10% coverage in ATAC or RNA\n",
    "include_metacells = metacell_summary.SEACell_type[metacell_summary.SEACell_primary_source_purity  < 0.9]"
   ]
  },
  {
   "cell_type": "code",
   "execution_count": 40,
   "id": "brown-summit",
   "metadata": {},
   "outputs": [
    {
     "data": {
      "text/html": [
       "<div>\n",
       "<style scoped>\n",
       "    .dataframe tbody tr th:only-of-type {\n",
       "        vertical-align: middle;\n",
       "    }\n",
       "\n",
       "    .dataframe tbody tr th {\n",
       "        vertical-align: top;\n",
       "    }\n",
       "\n",
       "    .dataframe thead th {\n",
       "        text-align: right;\n",
       "    }\n",
       "</style>\n",
       "<table border=\"1\" class=\"dataframe\">\n",
       "  <thead>\n",
       "    <tr style=\"text-align: right;\">\n",
       "      <th></th>\n",
       "      <th>SEACell_primary_source</th>\n",
       "      <th>SEACell_primary_source_purity</th>\n",
       "      <th>annot1</th>\n",
       "      <th>SEACell_type</th>\n",
       "    </tr>\n",
       "  </thead>\n",
       "  <tbody>\n",
       "    <tr>\n",
       "      <th>S2_SEACell-8</th>\n",
       "      <td>ATAC</td>\n",
       "      <td>0.579439</td>\n",
       "      <td>S2</td>\n",
       "      <td>S2_SEACell-8</td>\n",
       "    </tr>\n",
       "    <tr>\n",
       "      <th>S1_SEACell-65</th>\n",
       "      <td>ATAC</td>\n",
       "      <td>0.531915</td>\n",
       "      <td>S1</td>\n",
       "      <td>S1_SEACell-65</td>\n",
       "    </tr>\n",
       "    <tr>\n",
       "      <th>S3x_SEACell-36</th>\n",
       "      <td>ATAC</td>\n",
       "      <td>0.694118</td>\n",
       "      <td>S3x</td>\n",
       "      <td>S3x_SEACell-36</td>\n",
       "    </tr>\n",
       "    <tr>\n",
       "      <th>S3x_SEACell-75</th>\n",
       "      <td>ATAC</td>\n",
       "      <td>0.760417</td>\n",
       "      <td>S3x</td>\n",
       "      <td>S3x_SEACell-75</td>\n",
       "    </tr>\n",
       "    <tr>\n",
       "      <th>S1_SEACell-62</th>\n",
       "      <td>RNA</td>\n",
       "      <td>0.680000</td>\n",
       "      <td>S1</td>\n",
       "      <td>S1_SEACell-62</td>\n",
       "    </tr>\n",
       "    <tr>\n",
       "      <th>...</th>\n",
       "      <td>...</td>\n",
       "      <td>...</td>\n",
       "      <td>...</td>\n",
       "      <td>...</td>\n",
       "    </tr>\n",
       "    <tr>\n",
       "      <th>S1_SEACell-16</th>\n",
       "      <td>ATAC</td>\n",
       "      <td>0.982036</td>\n",
       "      <td>S1</td>\n",
       "      <td>S1_SEACell-16</td>\n",
       "    </tr>\n",
       "    <tr>\n",
       "      <th>S3_SEACell-105</th>\n",
       "      <td>ATAC</td>\n",
       "      <td>0.954545</td>\n",
       "      <td>S3</td>\n",
       "      <td>S3_SEACell-105</td>\n",
       "    </tr>\n",
       "    <tr>\n",
       "      <th>S1_SEACell-174</th>\n",
       "      <td>ATAC</td>\n",
       "      <td>0.936170</td>\n",
       "      <td>S1</td>\n",
       "      <td>S1_SEACell-174</td>\n",
       "    </tr>\n",
       "    <tr>\n",
       "      <th>S1_SEACell-207</th>\n",
       "      <td>ATAC</td>\n",
       "      <td>0.980769</td>\n",
       "      <td>S1</td>\n",
       "      <td>S1_SEACell-207</td>\n",
       "    </tr>\n",
       "    <tr>\n",
       "      <th>MF1_SEACell-45</th>\n",
       "      <td>ATAC</td>\n",
       "      <td>0.973684</td>\n",
       "      <td>MF1</td>\n",
       "      <td>MF1_SEACell-45</td>\n",
       "    </tr>\n",
       "  </tbody>\n",
       "</table>\n",
       "<p>1046 rows × 4 columns</p>\n",
       "</div>"
      ],
      "text/plain": [
       "               SEACell_primary_source  SEACell_primary_source_purity annot1  \\\n",
       "S2_SEACell-8                     ATAC                       0.579439     S2   \n",
       "S1_SEACell-65                    ATAC                       0.531915     S1   \n",
       "S3x_SEACell-36                   ATAC                       0.694118    S3x   \n",
       "S3x_SEACell-75                   ATAC                       0.760417    S3x   \n",
       "S1_SEACell-62                     RNA                       0.680000     S1   \n",
       "...                               ...                            ...    ...   \n",
       "S1_SEACell-16                    ATAC                       0.982036     S1   \n",
       "S3_SEACell-105                   ATAC                       0.954545     S3   \n",
       "S1_SEACell-174                   ATAC                       0.936170     S1   \n",
       "S1_SEACell-207                   ATAC                       0.980769     S1   \n",
       "MF1_SEACell-45                   ATAC                       0.973684    MF1   \n",
       "\n",
       "                  SEACell_type  \n",
       "S2_SEACell-8      S2_SEACell-8  \n",
       "S1_SEACell-65    S1_SEACell-65  \n",
       "S3x_SEACell-36  S3x_SEACell-36  \n",
       "S3x_SEACell-75  S3x_SEACell-75  \n",
       "S1_SEACell-62    S1_SEACell-62  \n",
       "...                        ...  \n",
       "S1_SEACell-16    S1_SEACell-16  \n",
       "S3_SEACell-105  S3_SEACell-105  \n",
       "S1_SEACell-174  S1_SEACell-174  \n",
       "S1_SEACell-207  S1_SEACell-207  \n",
       "MF1_SEACell-45  MF1_SEACell-45  \n",
       "\n",
       "[1046 rows x 4 columns]"
      ]
     },
     "execution_count": 40,
     "metadata": {},
     "output_type": "execute_result"
    }
   ],
   "source": [
    "seacell_rna.obs"
   ]
  },
  {
   "cell_type": "code",
   "execution_count": 41,
   "id": "composed-anger",
   "metadata": {},
   "outputs": [],
   "source": [
    "seacell_atac = seacell_atac[seacell_atac.obs.index.isin(include_metacells)]"
   ]
  },
  {
   "cell_type": "code",
   "execution_count": 42,
   "id": "promising-assist",
   "metadata": {},
   "outputs": [
    {
     "data": {
      "text/plain": [
       "View of AnnData object with n_obs × n_vars = 790 × 407383\n",
       "    obs: 'SEACell_primary_source', 'SEACell_primary_source_purity', 'annot1', 'SEACell_type'\n",
       "    layers: 'raw'"
      ]
     },
     "execution_count": 42,
     "metadata": {},
     "output_type": "execute_result"
    }
   ],
   "source": [
    "seacell_atac"
   ]
  },
  {
   "cell_type": "code",
   "execution_count": 43,
   "id": "graphic-algorithm",
   "metadata": {},
   "outputs": [],
   "source": [
    "seacell_rna = seacell_rna[seacell_rna.obs.index.isin(include_metacells)]"
   ]
  },
  {
   "cell_type": "code",
   "execution_count": 44,
   "id": "great-speech",
   "metadata": {},
   "outputs": [
    {
     "data": {
      "text/plain": [
       "View of AnnData object with n_obs × n_vars = 790 × 17707\n",
       "    obs: 'SEACell_primary_source', 'SEACell_primary_source_purity', 'annot1', 'SEACell_type'\n",
       "    layers: 'raw'"
      ]
     },
     "execution_count": 44,
     "metadata": {},
     "output_type": "execute_result"
    }
   ],
   "source": [
    "seacell_rna"
   ]
  },
  {
   "cell_type": "markdown",
   "id": "christian-equality",
   "metadata": {},
   "source": [
    "### Align metacells by ID"
   ]
  },
  {
   "cell_type": "code",
   "execution_count": 45,
   "id": "ordered-worth",
   "metadata": {},
   "outputs": [],
   "source": [
    "# Reorder such that metacells match"
   ]
  },
  {
   "cell_type": "code",
   "execution_count": 46,
   "id": "opening-theology",
   "metadata": {},
   "outputs": [],
   "source": [
    "# Reorder ATAC object to match RNA\n",
    "seacell_atac = seacell_atac[seacell_rna.obs.index]"
   ]
  },
  {
   "cell_type": "code",
   "execution_count": 47,
   "id": "automated-quantum",
   "metadata": {},
   "outputs": [
    {
     "data": {
      "text/plain": [
       "True"
      ]
     },
     "execution_count": 47,
     "metadata": {},
     "output_type": "execute_result"
    }
   ],
   "source": [
    "# Test if index matches\n",
    "(seacell_atac.obs.index == seacell_rna.obs.index).all()"
   ]
  },
  {
   "cell_type": "code",
   "execution_count": 48,
   "id": "artificial-replication",
   "metadata": {},
   "outputs": [
    {
     "data": {
      "text/plain": [
       "Index(['S2_SEACell-8', 'S1_SEACell-65', 'S3x_SEACell-36', 'S3x_SEACell-75',\n",
       "       'S1_SEACell-62', 'S2_SEACell-3', 'S3_SEACell-102', 'S1_SEACell-276',\n",
       "       'S2_SEACell-20', 'S2_SEACell-107',\n",
       "       ...\n",
       "       'S3_SEACell-269', 'S3_SEACell-205', 'S3x_SEACell-30', 'S3_SEACell-218',\n",
       "       'S3_SEACell-318', 'S3_SEACell-315', 'S3_SEACell-254', 'S3_SEACell-248',\n",
       "       'S3_SEACell-245', 'S2_SEACell-61'],\n",
       "      dtype='object', length=790)"
      ]
     },
     "execution_count": 48,
     "metadata": {},
     "output_type": "execute_result"
    }
   ],
   "source": [
    "seacell_atac.obs.index"
   ]
  },
  {
   "cell_type": "code",
   "execution_count": 49,
   "id": "current-pencil",
   "metadata": {},
   "outputs": [
    {
     "data": {
      "text/plain": [
       "Index(['S2_SEACell-8', 'S1_SEACell-65', 'S3x_SEACell-36', 'S3x_SEACell-75',\n",
       "       'S1_SEACell-62', 'S2_SEACell-3', 'S3_SEACell-102', 'S1_SEACell-276',\n",
       "       'S2_SEACell-20', 'S2_SEACell-107',\n",
       "       ...\n",
       "       'S3_SEACell-269', 'S3_SEACell-205', 'S3x_SEACell-30', 'S3_SEACell-218',\n",
       "       'S3_SEACell-318', 'S3_SEACell-315', 'S3_SEACell-254', 'S3_SEACell-248',\n",
       "       'S3_SEACell-245', 'S2_SEACell-61'],\n",
       "      dtype='object', length=790)"
      ]
     },
     "execution_count": 49,
     "metadata": {},
     "output_type": "execute_result"
    }
   ],
   "source": [
    "seacell_rna.obs.index"
   ]
  },
  {
   "cell_type": "code",
   "execution_count": 50,
   "id": "religious-mediterranean",
   "metadata": {},
   "outputs": [],
   "source": [
    "#seacell_rna.var"
   ]
  },
  {
   "cell_type": "code",
   "execution_count": 51,
   "id": "missing-termination",
   "metadata": {},
   "outputs": [],
   "source": [
    "#metacell_summary"
   ]
  },
  {
   "cell_type": "markdown",
   "id": "liberal-painting",
   "metadata": {},
   "source": [
    "### Write raw counts metacell objects"
   ]
  },
  {
   "cell_type": "code",
   "execution_count": 52,
   "id": "revised-norfolk",
   "metadata": {},
   "outputs": [
    {
     "name": "stdout",
     "output_type": "stream",
     "text": [
      "  (0, 2)\t2.0\n",
      "  (0, 3)\t3.0\n",
      "  (1, 1)\t4.0\n",
      "  (1, 2)\t5.0\n",
      "  (1, 3)\t5.0\n",
      "  (2, 2)\t9.0\n",
      "  (2, 3)\t3.0\n",
      "  (3, 1)\t2.0\n",
      "  (3, 2)\t3.0\n",
      "  (3, 3)\t3.0\n"
     ]
    }
   ],
   "source": [
    "# Test if counts data\n",
    "print(seacell_atac.X[1:5, 1:5])"
   ]
  },
  {
   "cell_type": "code",
   "execution_count": 53,
   "id": "monetary-boutique",
   "metadata": {},
   "outputs": [
    {
     "name": "stdout",
     "output_type": "stream",
     "text": [
      "  (0, 0)\t1.0\n",
      "  (0, 2)\t1.0\n",
      "  (2, 0)\t2.0\n",
      "  (3, 0)\t1.0\n"
     ]
    }
   ],
   "source": [
    "print(seacell_rna.X[1:5, 1:5])"
   ]
  },
  {
   "cell_type": "code",
   "execution_count": 54,
   "id": "august-cursor",
   "metadata": {},
   "outputs": [
    {
     "name": "stderr",
     "output_type": "stream",
     "text": [
      "/home/jovyan/my-conda-envs/seacells/lib/python3.8/site-packages/anndata/_core/anndata.py:1230: ImplicitModificationWarning: Trying to modify attribute `.obs` of view, initializing view as actual.\n",
      "  df[key] = c\n",
      "/home/jovyan/my-conda-envs/seacells/lib/python3.8/site-packages/anndata/_core/anndata.py:1230: ImplicitModificationWarning: Trying to modify attribute `.obs` of view, initializing view as actual.\n",
      "  df[key] = c\n",
      "/home/jovyan/my-conda-envs/seacells/lib/python3.8/site-packages/anndata/_core/anndata.py:1230: ImplicitModificationWarning: Trying to modify attribute `.obs` of view, initializing view as actual.\n",
      "  df[key] = c\n",
      "/home/jovyan/my-conda-envs/seacells/lib/python3.8/site-packages/anndata/_core/anndata.py:1230: ImplicitModificationWarning: Trying to modify attribute `.obs` of view, initializing view as actual.\n",
      "  df[key] = c\n"
     ]
    }
   ],
   "source": [
    "seacell_rna.write_h5ad(\"metacells/scRNA_batch1_2.raw.fibroblasts.metacells.h5ad\")\n",
    "seacell_atac.write_h5ad(\"metacells/scATAC_PeakMatrix_fibro.processed.metacells.h5ad\")\n"
   ]
  }
 ],
 "metadata": {
  "kernelspec": {
   "display_name": "seacells",
   "language": "python",
   "name": "seacells"
  },
  "language_info": {
   "codemirror_mode": {
    "name": "ipython",
    "version": 3
   },
   "file_extension": ".py",
   "mimetype": "text/x-python",
   "name": "python",
   "nbconvert_exporter": "python",
   "pygments_lexer": "ipython3",
   "version": "3.8.18"
  },
  "widgets": {
   "application/vnd.jupyter.widget-state+json": {
    "state": {},
    "version_major": 2,
    "version_minor": 0
   }
  }
 },
 "nbformat": 4,
 "nbformat_minor": 5
}
