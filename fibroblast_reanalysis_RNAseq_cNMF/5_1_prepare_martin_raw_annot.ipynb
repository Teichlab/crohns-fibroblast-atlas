{
 "cells": [
  {
   "cell_type": "code",
   "execution_count": 1,
   "id": "excessive-jerusalem",
   "metadata": {},
   "outputs": [],
   "source": [
    "import pandas as pd\n",
    "import numpy as np\n",
    "import scanpy as sc\n",
    "\n",
    "import scipy  # for io.mmread\n",
    "\n",
    "#from os import listdir\n",
    "import glob\n",
    "import os\n",
    "import re\n",
    "import seaborn"
   ]
  },
  {
   "cell_type": "code",
   "execution_count": 2,
   "id": "surface-buffer",
   "metadata": {},
   "outputs": [],
   "source": [
    "# Download data\n",
    "# cd /lustre/scratch126/cellgen/team205/sk29/matthias_fb/data/external/martin19_raw\n",
    "# wget -O GSE134809_RAW.tar \"https://www.ncbi.nlm.nih.gov/geo/download/?acc=GSE134809&format=file\"\n",
    "# tar -xvkf GSE134809_RAW.tar"
   ]
  },
  {
   "cell_type": "markdown",
   "id": "noted-biology",
   "metadata": {},
   "source": [
    "# Parse raw counts matrices"
   ]
  },
  {
   "cell_type": "code",
   "execution_count": 3,
   "id": "dominant-florist",
   "metadata": {},
   "outputs": [],
   "source": [
    "# List of downloaded files\n",
    "file_paths = glob.glob(\"../data/external/martin19_raw/*_matrix.mtx.gz\")"
   ]
  },
  {
   "cell_type": "code",
   "execution_count": 4,
   "id": "falling-surname",
   "metadata": {},
   "outputs": [
    {
     "data": {
      "text/plain": [
       "['GSM3972009_69_matrix.mtx.gz',\n",
       " 'GSM3972021_186_matrix.mtx.gz',\n",
       " 'GSM3972020_181_matrix.mtx.gz',\n",
       " 'GSM3972025_192_matrix.mtx.gz',\n",
       " 'GSM3972017_158_matrix.mtx.gz',\n",
       " 'GSM3972019_180_matrix.mtx.gz',\n",
       " 'GSM3972011_122_matrix.mtx.gz',\n",
       " 'GSM3972029_208_matrix.mtx.gz',\n",
       " 'GSM4761139_134_matrix.mtx.gz',\n",
       " 'GSM4761144_194_matrix.mtx.gz',\n",
       " 'GSM3972018_159_matrix.mtx.gz',\n",
       " 'GSM4761140_157_matrix.mtx.gz',\n",
       " 'GSM3972022_187_matrix.mtx.gz',\n",
       " 'GSM4761137_126_matrix.mtx.gz',\n",
       " 'GSM3972026_193_matrix.mtx.gz',\n",
       " 'GSM3972016_138_matrix.mtx.gz',\n",
       " 'GSM4761141_179_matrix.mtx.gz',\n",
       " 'GSM3972027_195_matrix.mtx.gz',\n",
       " 'GSM4761138_127_matrix.mtx.gz',\n",
       " 'GSM4761142_185_matrix.mtx.gz',\n",
       " 'GSM3972014_129_matrix.mtx.gz',\n",
       " 'GSM3972012_123_matrix.mtx.gz',\n",
       " 'GSM4761143_191_matrix.mtx.gz',\n",
       " 'GSM3972013_128_matrix.mtx.gz',\n",
       " 'GSM3972030_209_matrix.mtx.gz',\n",
       " 'GSM3972015_135_matrix.mtx.gz',\n",
       " 'GSM3972023_189_matrix.mtx.gz',\n",
       " 'GSM3972028_196_matrix.mtx.gz',\n",
       " 'GSM3972024_190_matrix.mtx.gz',\n",
       " 'GSM4761136_67_matrix.mtx.gz',\n",
       " 'GSM3972010_68_matrix.mtx.gz']"
      ]
     },
     "execution_count": 4,
     "metadata": {},
     "output_type": "execute_result"
    }
   ],
   "source": [
    "# file basenames\n",
    "file_base = [os.path.basename(f) for f in file_paths]\n",
    "file_base"
   ]
  },
  {
   "cell_type": "code",
   "execution_count": 5,
   "id": "institutional-sarah",
   "metadata": {},
   "outputs": [
    {
     "data": {
      "text/plain": [
       "['GSM3972009_69',\n",
       " 'GSM3972021_186',\n",
       " 'GSM3972020_181',\n",
       " 'GSM3972025_192',\n",
       " 'GSM3972017_158',\n",
       " 'GSM3972019_180',\n",
       " 'GSM3972011_122',\n",
       " 'GSM3972029_208',\n",
       " 'GSM4761139_134',\n",
       " 'GSM4761144_194',\n",
       " 'GSM3972018_159',\n",
       " 'GSM4761140_157',\n",
       " 'GSM3972022_187',\n",
       " 'GSM4761137_126',\n",
       " 'GSM3972026_193',\n",
       " 'GSM3972016_138',\n",
       " 'GSM4761141_179',\n",
       " 'GSM3972027_195',\n",
       " 'GSM4761138_127',\n",
       " 'GSM4761142_185',\n",
       " 'GSM3972014_129',\n",
       " 'GSM3972012_123',\n",
       " 'GSM4761143_191',\n",
       " 'GSM3972013_128',\n",
       " 'GSM3972030_209',\n",
       " 'GSM3972015_135',\n",
       " 'GSM3972023_189',\n",
       " 'GSM3972028_196',\n",
       " 'GSM3972024_190',\n",
       " 'GSM4761136_67',\n",
       " 'GSM3972010_68']"
      ]
     },
     "execution_count": 5,
     "metadata": {},
     "output_type": "execute_result"
    }
   ],
   "source": [
    "# Get GEO IDs from file names\n",
    "geo_ids = [re.search(\"^(.+_.+)_\", x).group(1) for x in file_base]\n",
    "geo_ids"
   ]
  },
  {
   "cell_type": "code",
   "execution_count": 6,
   "id": "ideal-shoot",
   "metadata": {},
   "outputs": [],
   "source": [
    "# Reads and parses matrix and annotations. Returns AnnData object.\n",
    "def parseCountMatrix(geo_id, data_path):\n",
    "    print(geo_id)\n",
    "    # Load CellRanger sparse gene count matrix\n",
    "    mat = scipy.io.mmread(data_path + geo_id + \"_matrix.mtx.gz\")\n",
    "    \n",
    "    # Load gene information\n",
    "    genes = pd.read_table(data_path + geo_id + \"_genes.tsv.gz\", header=None)\n",
    "    genes.columns = ['gene_ids', 'gene_symbol']\n",
    "    genes.index = genes.gene_ids\n",
    "\n",
    "    # Load barcodes\n",
    "    cells = pd.read_table(data_path + geo_id + \"_barcodes.tsv.gz\", header=None)\n",
    "    cells.columns = ['barcode']\n",
    "    cells['sample_id'] = geo_id.split('_')[1]\n",
    "    \n",
    "    # Convert to AnnData object\n",
    "    adata = sc.AnnData(X=mat.transpose(), obs=cells, var=genes, dtype=np.float32)\n",
    "    \n",
    "    # cell index\n",
    "    adata.obs.index = adata.obs.barcode.astype(str) + '-' + adata.obs.sample_id.astype(str)\n",
    "    \n",
    "    return(adata)"
   ]
  },
  {
   "cell_type": "code",
   "execution_count": 7,
   "id": "worthy-ecuador",
   "metadata": {},
   "outputs": [
    {
     "name": "stdout",
     "output_type": "stream",
     "text": [
      "GSM3972009_69\n"
     ]
    },
    {
     "name": "stderr",
     "output_type": "stream",
     "text": [
      "/home/jovyan/my-conda-envs/ni_env2/lib/python3.10/site-packages/anndata/_core/anndata.py:121: ImplicitModificationWarning: Transforming to str index.\n",
      "  warnings.warn(\"Transforming to str index.\", ImplicitModificationWarning)\n"
     ]
    },
    {
     "name": "stdout",
     "output_type": "stream",
     "text": [
      "GSM3972021_186\n",
      "GSM3972020_181\n",
      "GSM3972025_192\n",
      "GSM3972017_158\n",
      "GSM3972019_180\n",
      "GSM3972011_122\n",
      "GSM3972029_208\n",
      "GSM4761139_134\n",
      "GSM4761144_194\n",
      "GSM3972018_159\n",
      "GSM4761140_157\n",
      "GSM3972022_187\n",
      "GSM4761137_126\n",
      "GSM3972026_193\n",
      "GSM3972016_138\n",
      "GSM4761141_179\n",
      "GSM3972027_195\n",
      "GSM4761138_127\n",
      "GSM4761142_185\n",
      "GSM3972014_129\n",
      "GSM3972012_123\n",
      "GSM4761143_191\n",
      "GSM3972013_128\n",
      "GSM3972030_209\n",
      "GSM3972015_135\n",
      "GSM3972023_189\n",
      "GSM3972028_196\n",
      "GSM3972024_190\n",
      "GSM4761136_67\n",
      "GSM3972010_68\n"
     ]
    }
   ],
   "source": [
    "# Load and parse files per patient sample\n",
    "data_path = \"../data/external/martin19_raw/\"\n",
    "adatas = [parseCountMatrix(geo_id=x, data_path=data_path) for x in geo_ids]"
   ]
  },
  {
   "cell_type": "code",
   "execution_count": 8,
   "id": "amended-timing",
   "metadata": {},
   "outputs": [
    {
     "data": {
      "text/plain": [
       "[(737280, 33694),\n",
       " (737280, 33694),\n",
       " (737280, 33694),\n",
       " (737280, 33694),\n",
       " (737280, 33694),\n",
       " (737280, 33694),\n",
       " (737280, 33694),\n",
       " (737280, 33694),\n",
       " (737280, 33694),\n",
       " (737280, 33694),\n",
       " (737280, 33694),\n",
       " (737280, 33694),\n",
       " (737280, 33694),\n",
       " (737280, 33694),\n",
       " (737280, 33694),\n",
       " (737280, 33694),\n",
       " (737280, 33694),\n",
       " (737280, 33694),\n",
       " (737280, 33694),\n",
       " (737280, 33694),\n",
       " (737280, 33694),\n",
       " (737280, 33694),\n",
       " (737280, 33694),\n",
       " (737280, 33694),\n",
       " (737280, 33694),\n",
       " (737280, 33694),\n",
       " (737280, 33694),\n",
       " (737280, 33694),\n",
       " (737280, 33694),\n",
       " (737280, 33694),\n",
       " (737280, 33694)]"
      ]
     },
     "execution_count": 8,
     "metadata": {},
     "output_type": "execute_result"
    }
   ],
   "source": [
    "# Print data dimensions\n",
    "[x.shape for x in adatas]"
   ]
  },
  {
   "cell_type": "code",
   "execution_count": 9,
   "id": "alien-trinidad",
   "metadata": {},
   "outputs": [],
   "source": [
    "# Merge data across samples\n",
    "adata = sc.concat(adatas)\n",
    "\n",
    "# left join gene data, assumes identical transcripts\n",
    "adata.var = adata.var.join(adatas[0].var)"
   ]
  },
  {
   "cell_type": "code",
   "execution_count": 10,
   "id": "dependent-calculation",
   "metadata": {},
   "outputs": [],
   "source": [
    "# remove empty cells in place\n",
    "sc.pp.filter_cells(adata, min_counts=1)"
   ]
  },
  {
   "cell_type": "code",
   "execution_count": 11,
   "id": "adopted-zealand",
   "metadata": {},
   "outputs": [
    {
     "data": {
      "text/plain": [
       "AnnData object with n_obs × n_vars = 5982179 × 33694\n",
       "    obs: 'barcode', 'sample_id', 'n_counts'\n",
       "    var: 'gene_ids', 'gene_symbol'"
      ]
     },
     "execution_count": 11,
     "metadata": {},
     "output_type": "execute_result"
    }
   ],
   "source": [
    "adata"
   ]
  },
  {
   "cell_type": "code",
   "execution_count": 12,
   "id": "ordered-proceeding",
   "metadata": {},
   "outputs": [
    {
     "data": {
      "text/html": [
       "<div>\n",
       "<style scoped>\n",
       "    .dataframe tbody tr th:only-of-type {\n",
       "        vertical-align: middle;\n",
       "    }\n",
       "\n",
       "    .dataframe tbody tr th {\n",
       "        vertical-align: top;\n",
       "    }\n",
       "\n",
       "    .dataframe thead th {\n",
       "        text-align: right;\n",
       "    }\n",
       "</style>\n",
       "<table border=\"1\" class=\"dataframe\">\n",
       "  <thead>\n",
       "    <tr style=\"text-align: right;\">\n",
       "      <th></th>\n",
       "      <th>barcode</th>\n",
       "      <th>sample_id</th>\n",
       "      <th>n_counts</th>\n",
       "    </tr>\n",
       "  </thead>\n",
       "  <tbody>\n",
       "    <tr>\n",
       "      <th>AAACATACAAAACG-1-69</th>\n",
       "      <td>AAACATACAAAACG-1</td>\n",
       "      <td>69</td>\n",
       "      <td>10.0</td>\n",
       "    </tr>\n",
       "    <tr>\n",
       "      <th>AAACATACAAAAGC-1-69</th>\n",
       "      <td>AAACATACAAAAGC-1</td>\n",
       "      <td>69</td>\n",
       "      <td>3.0</td>\n",
       "    </tr>\n",
       "    <tr>\n",
       "      <th>AAACATACAACAGA-1-69</th>\n",
       "      <td>AAACATACAACAGA-1</td>\n",
       "      <td>69</td>\n",
       "      <td>2.0</td>\n",
       "    </tr>\n",
       "    <tr>\n",
       "      <th>AAACATACAACCAC-1-69</th>\n",
       "      <td>AAACATACAACCAC-1</td>\n",
       "      <td>69</td>\n",
       "      <td>10.0</td>\n",
       "    </tr>\n",
       "    <tr>\n",
       "      <th>AAACATACAACCTG-1-69</th>\n",
       "      <td>AAACATACAACCTG-1</td>\n",
       "      <td>69</td>\n",
       "      <td>549.0</td>\n",
       "    </tr>\n",
       "    <tr>\n",
       "      <th>...</th>\n",
       "      <td>...</td>\n",
       "      <td>...</td>\n",
       "      <td>...</td>\n",
       "    </tr>\n",
       "    <tr>\n",
       "      <th>TTTGCATGTTTCGT-1-68</th>\n",
       "      <td>TTTGCATGTTTCGT-1</td>\n",
       "      <td>68</td>\n",
       "      <td>972.0</td>\n",
       "    </tr>\n",
       "    <tr>\n",
       "      <th>TTTGCATGTTTCTG-1-68</th>\n",
       "      <td>TTTGCATGTTTCTG-1</td>\n",
       "      <td>68</td>\n",
       "      <td>1.0</td>\n",
       "    </tr>\n",
       "    <tr>\n",
       "      <th>TTTGCATGTTTGCT-1-68</th>\n",
       "      <td>TTTGCATGTTTGCT-1</td>\n",
       "      <td>68</td>\n",
       "      <td>1585.0</td>\n",
       "    </tr>\n",
       "    <tr>\n",
       "      <th>TTTGCATGTTTGGG-1-68</th>\n",
       "      <td>TTTGCATGTTTGGG-1</td>\n",
       "      <td>68</td>\n",
       "      <td>7.0</td>\n",
       "    </tr>\n",
       "    <tr>\n",
       "      <th>TTTGCATGTTTGTC-1-68</th>\n",
       "      <td>TTTGCATGTTTGTC-1</td>\n",
       "      <td>68</td>\n",
       "      <td>2.0</td>\n",
       "    </tr>\n",
       "  </tbody>\n",
       "</table>\n",
       "<p>5982179 rows × 3 columns</p>\n",
       "</div>"
      ],
      "text/plain": [
       "                              barcode sample_id  n_counts\n",
       "AAACATACAAAACG-1-69  AAACATACAAAACG-1        69      10.0\n",
       "AAACATACAAAAGC-1-69  AAACATACAAAAGC-1        69       3.0\n",
       "AAACATACAACAGA-1-69  AAACATACAACAGA-1        69       2.0\n",
       "AAACATACAACCAC-1-69  AAACATACAACCAC-1        69      10.0\n",
       "AAACATACAACCTG-1-69  AAACATACAACCTG-1        69     549.0\n",
       "...                               ...       ...       ...\n",
       "TTTGCATGTTTCGT-1-68  TTTGCATGTTTCGT-1        68     972.0\n",
       "TTTGCATGTTTCTG-1-68  TTTGCATGTTTCTG-1        68       1.0\n",
       "TTTGCATGTTTGCT-1-68  TTTGCATGTTTGCT-1        68    1585.0\n",
       "TTTGCATGTTTGGG-1-68  TTTGCATGTTTGGG-1        68       7.0\n",
       "TTTGCATGTTTGTC-1-68  TTTGCATGTTTGTC-1        68       2.0\n",
       "\n",
       "[5982179 rows x 3 columns]"
      ]
     },
     "execution_count": 12,
     "metadata": {},
     "output_type": "execute_result"
    }
   ],
   "source": [
    "adata.obs"
   ]
  },
  {
   "cell_type": "code",
   "execution_count": 13,
   "id": "compound-belize",
   "metadata": {},
   "outputs": [
    {
     "data": {
      "text/plain": [
       "191    338172\n",
       "192    271937\n",
       "193    267531\n",
       "181    265969\n",
       "190    249350\n",
       "158    245123\n",
       "189    235850\n",
       "180    231410\n",
       "179    231164\n",
       "68     227537\n",
       "159    225606\n",
       "185    223498\n",
       "195    213634\n",
       "196    209719\n",
       "194    194746\n",
       "186    194421\n",
       "209    186538\n",
       "208    184478\n",
       "135    176571\n",
       "138    175368\n",
       "128    166092\n",
       "69     163408\n",
       "157    153210\n",
       "123    152556\n",
       "129    136464\n",
       "134    124524\n",
       "187    121561\n",
       "122    113837\n",
       "126    105562\n",
       "127    103499\n",
       "67      92844\n",
       "Name: sample_id, dtype: int64"
      ]
     },
     "execution_count": 13,
     "metadata": {},
     "output_type": "execute_result"
    }
   ],
   "source": [
    "# Print counts per sample ID\n",
    "adata.obs.sample_id.value_counts()"
   ]
  },
  {
   "cell_type": "markdown",
   "id": "suited-advice",
   "metadata": {},
   "source": [
    "# Merge cell annotations from Rasa"
   ]
  },
  {
   "cell_type": "code",
   "execution_count": 14,
   "id": "starting-artist",
   "metadata": {},
   "outputs": [],
   "source": [
    "# Load annotations from Rasa, merge into raw count AnnData object\n",
    "adata_annot = sc.read_h5ad(\"/nfs/team205/re5/data/martin19_all.processed.cellxgene_for_rasa.h5ad\")"
   ]
  },
  {
   "cell_type": "code",
   "execution_count": 15,
   "id": "precise-timeline",
   "metadata": {},
   "outputs": [
    {
     "data": {
      "text/plain": [
       "AnnData object with n_obs × n_vars = 57905 × 33694\n",
       "    obs: 'sample_id', 'lesion', 'n_counts', 'log1p_n_counts', 'n_genes', 'log1p_n_genes', 'percent_mito', 'n_counts_mito', 'percent_ribo', 'n_counts_ribo', 'percent_hb', 'n_counts_hb', 'percent_top50', 'annot', 'joint_annot', 'broad_annot', 'pedgut_annot', 'pedgut_annot_prob', 'fetalgut_annot', 'fetalgut_annot_prob'\n",
       "    var: 'gene_ids', 'mito', 'ribo', 'hb'\n",
       "    obsm: 'X_umap'"
      ]
     },
     "execution_count": 15,
     "metadata": {},
     "output_type": "execute_result"
    }
   ],
   "source": [
    "adata_annot"
   ]
  },
  {
   "cell_type": "code",
   "execution_count": 16,
   "id": "demographic-world",
   "metadata": {},
   "outputs": [],
   "source": [
    "# Strip last '-nonL' and '-L' from cell barcodes\n",
    "new_index = [re.search(\"^(.+)-.+$\", x).group(1) for x in adata_annot.obs.index]\n",
    "adata_annot.obs.index = new_index"
   ]
  },
  {
   "cell_type": "code",
   "execution_count": 17,
   "id": "orange-qatar",
   "metadata": {},
   "outputs": [],
   "source": [
    "# Append cell annotations\n",
    "adata.obs = adata.obs.join(adata_annot.obs, rsuffix='_annot')"
   ]
  },
  {
   "cell_type": "code",
   "execution_count": 18,
   "id": "satisfactory-geometry",
   "metadata": {},
   "outputs": [
    {
     "data": {
      "text/plain": [
       "AnnData object with n_obs × n_vars = 5982179 × 33694\n",
       "    obs: 'barcode', 'sample_id', 'n_counts', 'sample_id_annot', 'lesion', 'n_counts_annot', 'log1p_n_counts', 'n_genes', 'log1p_n_genes', 'percent_mito', 'n_counts_mito', 'percent_ribo', 'n_counts_ribo', 'percent_hb', 'n_counts_hb', 'percent_top50', 'annot', 'joint_annot', 'broad_annot', 'pedgut_annot', 'pedgut_annot_prob', 'fetalgut_annot', 'fetalgut_annot_prob'\n",
       "    var: 'gene_ids', 'gene_symbol'"
      ]
     },
     "execution_count": 18,
     "metadata": {},
     "output_type": "execute_result"
    }
   ],
   "source": [
    "adata"
   ]
  },
  {
   "cell_type": "code",
   "execution_count": 19,
   "id": "periodic-competition",
   "metadata": {},
   "outputs": [
    {
     "data": {
      "text/plain": [
       "T CD4               11777\n",
       "Plasma IgM          10208\n",
       "T CD8 mem            6044\n",
       "T CD4 naive          5450\n",
       "B mem                3431\n",
       "B naive              3351\n",
       "Plasma IgG           2412\n",
       "T CD8 exhausted      1683\n",
       "T reg                1531\n",
       "ILC                  1341\n",
       "EC                   1232\n",
       "LC                    907\n",
       "NK                    730\n",
       "S1                    724\n",
       "nrMac                 664\n",
       "rMac                  649\n",
       "EC progenitor         450\n",
       "rMac activated 1      430\n",
       "T CD8 naive           396\n",
       "T cycling             347\n",
       "Goblet                336\n",
       "VE tip                329\n",
       "aDC                   317\n",
       "S3                    221\n",
       "Glial                 221\n",
       "VE art                199\n",
       "rMac activated 2      199\n",
       "VE cap                193\n",
       "LE                    187\n",
       "VE ven                186\n",
       "DC1                   175\n",
       "S5x                   173\n",
       "Pericyte              171\n",
       "Mono                  149\n",
       "S5                    136\n",
       "Plasmablast           135\n",
       "Epi cycling           124\n",
       "Mast                  119\n",
       "pDC                   103\n",
       "MF                     79\n",
       "S2                     79\n",
       "MNP cycling            64\n",
       "B cycling              56\n",
       "SM                     55\n",
       "NK cycling             45\n",
       "Paneth                 44\n",
       "Enteroendocrine        27\n",
       "Epi MUC6+              26\n",
       "Name: joint_annot, dtype: int64"
      ]
     },
     "execution_count": 19,
     "metadata": {},
     "output_type": "execute_result"
    }
   ],
   "source": [
    "adata.obs.joint_annot.value_counts()"
   ]
  },
  {
   "cell_type": "code",
   "execution_count": 20,
   "id": "relevant-local",
   "metadata": {},
   "outputs": [],
   "source": [
    "# Filter out cells without annotations. Includes QC from previous analysis.\n",
    "adata = adata[~adata.obs.joint_annot.isna()]\n",
    "\n",
    "# Check if dimensions match indicating whether all barcodes have been found\n",
    "assert(adata_annot.shape[0] == adata.shape[0])"
   ]
  },
  {
   "cell_type": "code",
   "execution_count": 21,
   "id": "provincial-phone",
   "metadata": {},
   "outputs": [
    {
     "data": {
      "text/plain": [
       "<AxesSubplot: xlabel='n_counts', ylabel='n_counts_annot'>"
      ]
     },
     "execution_count": 21,
     "metadata": {},
     "output_type": "execute_result"
    },
    {
     "data": {
      "image/png": "[encoded data removed]",
      "text/plain": [
       "<Figure size 640x480 with 1 Axes>"
      ]
     },
     "metadata": {},
     "output_type": "display_data"
    }
   ],
   "source": [
    "# Plot exact matches of gene counts per cell. Expects diagonal line y=x.\n",
    "seaborn.scatterplot(data=adata.obs, x='n_counts', y='n_counts_annot', s=1)"
   ]
  },
  {
   "cell_type": "code",
   "execution_count": 22,
   "id": "sharp-lawrence",
   "metadata": {},
   "outputs": [],
   "source": [
    "# Set gene index as gene symbols -- does not work for some reason\n",
    "#adata.var_index = adata.var.gene_symbol\n",
    "#adata.var_index = adata.var.gene_symbol.astype(str)\n",
    "#adata.var_names_make_unique()"
   ]
  },
  {
   "cell_type": "code",
   "execution_count": 23,
   "id": "attempted-electricity",
   "metadata": {},
   "outputs": [
    {
     "name": "stderr",
     "output_type": "stream",
     "text": [
      "/home/jovyan/my-conda-envs/ni_env2/lib/python3.10/site-packages/anndata/_core/anndata.py:1235: ImplicitModificationWarning: Trying to modify attribute `.obs` of view, initializing view as actual.\n",
      "  df[key] = c\n",
      "/home/jovyan/my-conda-envs/ni_env2/lib/python3.10/site-packages/anndata/_core/anndata.py:1235: ImplicitModificationWarning: Trying to modify attribute `.obs` of view, initializing view as actual.\n",
      "  df[key] = c\n",
      "/home/jovyan/my-conda-envs/ni_env2/lib/python3.10/site-packages/anndata/_core/anndata.py:1235: ImplicitModificationWarning: Trying to modify attribute `.var` of view, initializing view as actual.\n",
      "  df[key] = c\n"
     ]
    }
   ],
   "source": [
    "# Write raw data with annotations\n",
    "adata.write_h5ad(\"../data/external/martin19_raw/martin19_all.raw.annot.h5ad\")"
   ]
  },
  {
   "cell_type": "code",
   "execution_count": 24,
   "id": "imported-teacher",
   "metadata": {},
   "outputs": [],
   "source": [
    "# clean up intermediate files from GEO repository download\n",
    "# cd /lustre/scratch126/cellgen/team205/sk29/matthias_fb/data/external/martin19_raw\n",
    "# rm *.tsv.gz *.mtx.gz"
   ]
  }
 ],
 "metadata": {
  "kernelspec": {
   "display_name": "ni_env2",
   "language": "python",
   "name": "ni_env2"
  },
  "language_info": {
   "codemirror_mode": {
    "name": "ipython",
    "version": 3
   },
   "file_extension": ".py",
   "mimetype": "text/x-python",
   "name": "python",
   "nbconvert_exporter": "python",
   "pygments_lexer": "ipython3",
   "version": "3.10.9"
  },
  "widgets": {
   "application/vnd.jupyter.widget-state+json": {
    "state": {},
    "version_major": 2,
    "version_minor": 0
   }
  }
 },
 "nbformat": 4,
 "nbformat_minor": 5
}
