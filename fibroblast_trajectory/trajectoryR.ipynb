{
 "cells": [
  {
   "cell_type": "code",
   "execution_count": 2,
   "id": "resident-zealand",
   "metadata": {},
   "outputs": [
    {
     "ename": "ERROR",
     "evalue": "Error in library(ArchR): there is no package called ‘ArchR’\n",
     "output_type": "error",
     "traceback": [
      "Error in library(ArchR): there is no package called ‘ArchR’\nTraceback:\n",
      "1. library(ArchR)"
     ]
    }
   ],
   "source": [
    "library(ArchR)"
   ]
  },
  {
   "cell_type": "code",
   "execution_count": null,
   "id": "loaded-paradise",
   "metadata": {},
   "outputs": [],
   "source": []
  }
 ],
 "metadata": {
  "kernelspec": {
   "display_name": "R 4.2",
   "language": "R",
   "name": "ir42"
  },
  "language_info": {
   "codemirror_mode": "r",
   "file_extension": ".r",
   "mimetype": "text/x-r-source",
   "name": "R",
   "pygments_lexer": "r",
   "version": "4.2.2"
  },
  "widgets": {
   "application/vnd.jupyter.widget-state+json": {
    "state": {},
    "version_major": 2,
    "version_minor": 0
   }
  }
 },
 "nbformat": 4,
 "nbformat_minor": 5
}
