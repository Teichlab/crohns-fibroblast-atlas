{
 "cells": [
  {
   "cell_type": "code",
   "execution_count": 1,
   "id": "focused-phase",
   "metadata": {},
   "outputs": [],
   "source": [
    "# Analysis of cytokine perturbation scores"
   ]
  },
  {
   "cell_type": "code",
   "execution_count": 3,
   "id": "broad-homework",
   "metadata": {},
   "outputs": [
    {
     "ename": "ModuleNotFoundError",
     "evalue": "No module named 'squidpy'",
     "output_type": "error",
     "traceback": [
      "\u001b[0;31m---------------------------------------------------------------------------\u001b[0m",
      "\u001b[0;31mModuleNotFoundError\u001b[0m                       Traceback (most recent call last)",
      "Cell \u001b[0;32mIn[3], line 5\u001b[0m\n\u001b[1;32m      2\u001b[0m \u001b[38;5;28;01mimport\u001b[39;00m\u001b[38;5;250m \u001b[39m\u001b[38;5;21;01mpandas\u001b[39;00m\u001b[38;5;250m \u001b[39m\u001b[38;5;28;01mas\u001b[39;00m\u001b[38;5;250m \u001b[39m\u001b[38;5;21;01mpd\u001b[39;00m\n\u001b[1;32m      3\u001b[0m \u001b[38;5;28;01mimport\u001b[39;00m\u001b[38;5;250m \u001b[39m\u001b[38;5;21;01mnumpy\u001b[39;00m\u001b[38;5;250m \u001b[39m\u001b[38;5;28;01mas\u001b[39;00m\u001b[38;5;250m \u001b[39m\u001b[38;5;21;01mnp\u001b[39;00m\n\u001b[0;32m----> 5\u001b[0m \u001b[38;5;28;01mimport\u001b[39;00m\u001b[38;5;250m \u001b[39m\u001b[38;5;21;01msquidpy\u001b[39;00m\u001b[38;5;250m \u001b[39m\u001b[38;5;28;01mas\u001b[39;00m\u001b[38;5;250m \u001b[39m\u001b[38;5;21;01msq\u001b[39;00m\n\u001b[1;32m      6\u001b[0m \u001b[38;5;28;01mimport\u001b[39;00m\u001b[38;5;250m \u001b[39m\u001b[38;5;21;01mmatplotlib\u001b[39;00m\u001b[38;5;21;01m.\u001b[39;00m\u001b[38;5;21;01mpyplot\u001b[39;00m\u001b[38;5;250m \u001b[39m\u001b[38;5;28;01mas\u001b[39;00m\u001b[38;5;250m \u001b[39m\u001b[38;5;21;01mplt\u001b[39;00m\n\u001b[1;32m      7\u001b[0m \u001b[38;5;28;01mfrom\u001b[39;00m\u001b[38;5;250m \u001b[39m\u001b[38;5;21;01mmatplotlib\u001b[39;00m\u001b[38;5;250m \u001b[39m\u001b[38;5;28;01mimport\u001b[39;00m rcParams\n",
      "\u001b[0;31mModuleNotFoundError\u001b[0m: No module named 'squidpy'"
     ]
    }
   ],
   "source": [
    "import scanpy as sc\n",
    "import pandas as pd\n",
    "import numpy as np\n",
    "\n",
    "import squidpy as sq\n",
    "import matplotlib.pyplot as plt\n",
    "from matplotlib import rcParams"
   ]
  },
  {
   "cell_type": "code",
   "execution_count": null,
   "id": "lesser-bunch",
   "metadata": {},
   "outputs": [],
   "source": [
    "sc.settings.figdir = \"./figures_cytokines/\"\n",
    "\n",
    "!mkdir figures_cytokines"
   ]
  },
  {
   "cell_type": "code",
   "execution_count": null,
   "id": "occupational-alberta",
   "metadata": {},
   "outputs": [],
   "source": [
    "#adata = sc.read_h5ad(\"h5ad/scvi/xenium5k_scVI_CellCharter.h5ad\")\n",
    "adata = sc.read_h5ad(\"h5ad/scvi/xenium5k_scVI_CellCharter_clustImmune_postQC.h5ad\")"
   ]
  },
  {
   "cell_type": "code",
   "execution_count": null,
   "id": "future-manor",
   "metadata": {},
   "outputs": [],
   "source": [
    "adata"
   ]
  },
  {
   "cell_type": "code",
   "execution_count": null,
   "id": "distinguished-laugh",
   "metadata": {},
   "outputs": [],
   "source": [
    "np.sum(adata.obs.annot == 'nan')"
   ]
  },
  {
   "cell_type": "code",
   "execution_count": null,
   "id": "governmental-tract",
   "metadata": {},
   "outputs": [],
   "source": [
    "adata.obs.annot[adata.obs.annot == 'nan'] = pd.NA"
   ]
  },
  {
   "cell_type": "code",
   "execution_count": null,
   "id": "abstract-dividend",
   "metadata": {},
   "outputs": [],
   "source": [
    "np.sum(adata.obs.annot == 'nan')"
   ]
  },
  {
   "cell_type": "code",
   "execution_count": null,
   "id": "cellular-botswana",
   "metadata": {},
   "outputs": [],
   "source": []
  },
  {
   "cell_type": "code",
   "execution_count": null,
   "id": "alternate-intent",
   "metadata": {},
   "outputs": [],
   "source": [
    "# Mesenchymal subset\n",
    "adata = adata[adata.obs.megagut_lvl1_majority_voting == 'Mesenchymal']"
   ]
  },
  {
   "cell_type": "code",
   "execution_count": null,
   "id": "caroline-panel",
   "metadata": {},
   "outputs": [],
   "source": [
    "adata"
   ]
  },
  {
   "cell_type": "code",
   "execution_count": null,
   "id": "exact-sterling",
   "metadata": {},
   "outputs": [],
   "source": [
    "# Exclude cells that are not consistent with mesenchymal compartment according to level 3 CellTypist predictions\n",
    "exclude_cells = [\"Enterocyte\", \"Tnaive/cm_CD4\", \"B_memory\", \"Glial/Enteric_neural_crest\", \"Trm_CD8\", \"Treg_IL10\", \"EC_capillary\", \"EC_lymphatic\", \"Trm_CD4\", \"Mesoderm_2\"]\n",
    "\n",
    "adata = adata[~adata.obs.megagut_lvl3_majority_voting.isin(exclude_cells)]"
   ]
  },
  {
   "cell_type": "code",
   "execution_count": null,
   "id": "finnish-married",
   "metadata": {},
   "outputs": [],
   "source": [
    "adata"
   ]
  },
  {
   "cell_type": "code",
   "execution_count": null,
   "id": "lasting-interval",
   "metadata": {},
   "outputs": [],
   "source": [
    "adata.obs.annot.value_counts()"
   ]
  },
  {
   "cell_type": "code",
   "execution_count": null,
   "id": "coupled-former",
   "metadata": {},
   "outputs": [],
   "source": [
    "# Recompute UMAPs for mesenchymal cells"
   ]
  },
  {
   "cell_type": "code",
   "execution_count": null,
   "id": "capable-moore",
   "metadata": {},
   "outputs": [],
   "source": [
    "sc.pp.neighbors(adata, use_rep=\"X_scVI\")"
   ]
  },
  {
   "cell_type": "code",
   "execution_count": null,
   "id": "polish-trader",
   "metadata": {},
   "outputs": [],
   "source": [
    "# UMAP\n",
    "sc.tl.umap(adata)"
   ]
  },
  {
   "cell_type": "markdown",
   "id": "eight-sigma",
   "metadata": {},
   "source": [
    "# Load bulk RNA-seq signatures"
   ]
  },
  {
   "cell_type": "code",
   "execution_count": null,
   "id": "clear-baghdad",
   "metadata": {},
   "outputs": [],
   "source": [
    "# Parses DESeq differential expression table returning rows with significant genes\n",
    "def load_de_genes(fn, sep=',', max_p=0.01, min_lfc=2, max_n=1000):\n",
    "    de_df = pd.read_csv(fn, sep=sep, index_col=0)\n",
    "    de_df = de_df.where(lambda x: (x.padj < max_p) & (x.log2FoldChange > min_lfc)).dropna().sort_values(['padj', 'log2FoldChange'], ascending=[True, False])\n",
    "    return de_df.iloc[0:max_n, :]\n",
    "\n",
    "def load_de_genes_down(fn, sep=',', max_p=0.01, max_lfc=-2, max_n=1000):\n",
    "    de_df = pd.read_csv(fn, sep=sep, index_col=0)\n",
    "    de_df = de_df.where(lambda x: (x.padj < max_p) & (x.log2FoldChange < max_lfc)).dropna().sort_values(['padj', 'log2FoldChange'], ascending=[True, False])\n",
    "    return de_df.iloc[0:max_n, :]"
   ]
  },
  {
   "cell_type": "code",
   "execution_count": null,
   "id": "bibliographic-accreditation",
   "metadata": {},
   "outputs": [],
   "source": [
    "#!ls ../fibroblast_reanalysis_bulk_DE_signature/bulkRNA_DE_v2/csv/*.csv"
   ]
  },
  {
   "cell_type": "code",
   "execution_count": null,
   "id": "breathing-break",
   "metadata": {},
   "outputs": [],
   "source": [
    "# # Load DESeq2 differential expression statistics\n",
    "conditions = [\n",
    "#    '17uT_over_unstim',\n",
    "#    'Belinostat_over_DMSO',\n",
    "    'Belinostat_over_unstim',\n",
    "    'Combo_over_unstim',\n",
    "    'GSKJ4_over_unstim',\n",
    "    'Belinostat_over_DMSO',\n",
    "    'GSKJ4_over_DMSO',\n",
    "    '[inverse]_unstim_over_DMSO'\n",
    "\n",
    "]"
   ]
  },
  {
   "cell_type": "code",
   "execution_count": null,
   "id": "communist-india",
   "metadata": {},
   "outputs": [],
   "source": [
    "# # Read tables, store in dictionary\n",
    "# de_tabs_all = {\n",
    "#     key: pd.read_csv(\"../fibroblast_reanalysis_bulk_DE_signature/bulkRNA_DE_batch2_v2/DESeq2_\" + key + \".csv\", index_col=0) for key in conditions\n",
    "# }"
   ]
  },
  {
   "cell_type": "code",
   "execution_count": null,
   "id": "organized-trout",
   "metadata": {},
   "outputs": [],
   "source": [
    "#de_tabs_all"
   ]
  },
  {
   "cell_type": "code",
   "execution_count": null,
   "id": "simplified-extra",
   "metadata": {},
   "outputs": [],
   "source": [
    "# Load gene tables of differentially up-regulated genes\n",
    "de_tabs_sig = {\n",
    "    key: load_de_genes(\"../fibroblast_reanalysis_bulk_DE_signature/bulkRNA_DE_batch2_v2/DESeq2_\" + key + \".csv\", min_lfc=0.0) for key in conditions\n",
    "}"
   ]
  },
  {
   "cell_type": "code",
   "execution_count": null,
   "id": "useful-music",
   "metadata": {},
   "outputs": [],
   "source": [
    "de_tabs_sig_down = {\n",
    "    key: load_de_genes_down(\"../fibroblast_reanalysis_bulk_DE_signature/bulkRNA_DE_batch2_v2/DESeq2_\" + key + \".csv\", max_lfc=0.0) for key in conditions\n",
    "}"
   ]
  },
  {
   "cell_type": "code",
   "execution_count": null,
   "id": "prospective-marsh",
   "metadata": {},
   "outputs": [],
   "source": [
    "# Count number of significant genes\n",
    "[de_tabs_sig[key].shape[0] for key in de_tabs_sig]"
   ]
  },
  {
   "cell_type": "code",
   "execution_count": null,
   "id": "alive-placement",
   "metadata": {},
   "outputs": [],
   "source": [
    "de_tabs_sig_down['Belinostat_over_unstim'].head(10)"
   ]
  },
  {
   "cell_type": "code",
   "execution_count": null,
   "id": "progressive-regression",
   "metadata": {},
   "outputs": [],
   "source": [
    "#de_tabs_sig"
   ]
  },
  {
   "cell_type": "code",
   "execution_count": null,
   "id": "sought-sailing",
   "metadata": {},
   "outputs": [],
   "source": [
    "# Score signatures\n",
    "for rstim, rup in de_tabs_sig.items():\n",
    "    g = rup.index.to_list()\n",
    "    \n",
    "    # Subset to overlap only\n",
    "    g = set(g).intersection(adata.var.index)\n",
    "    \n",
    "    print(rstim, \": \", len(g))\n",
    "    sc.tl.score_genes(adata, g, ctrl_size=len(g), score_name=f'{rstim}_upreg')\n",
    "\n",
    "# Scale\n",
    "for rstim in de_tabs_sig.keys():\n",
    "    x = adata.obs[f'{rstim}_upreg'].values\n",
    "    adata.obs[f'{rstim}_upreg_scaled'] = (x-x.mean()) / np.std(x)"
   ]
  },
  {
   "cell_type": "code",
   "execution_count": null,
   "id": "lucky-boating",
   "metadata": {},
   "outputs": [],
   "source": [
    "# Score signatures\n",
    "for rstim, rup in de_tabs_sig_down.items():\n",
    "    g = rup.index.to_list()\n",
    "    \n",
    "    # Subset to overlap only\n",
    "    g = set(g).intersection(adata.var.index)\n",
    "    \n",
    "    print(rstim, \": \", len(g))\n",
    "    sc.tl.score_genes(adata, g, ctrl_size=len(g), score_name=f'{rstim}_downreg')\n",
    "\n",
    "# Scale\n",
    "for rstim in de_tabs_sig.keys():\n",
    "    x = adata.obs[f'{rstim}_downreg'].values\n",
    "    adata.obs[f'{rstim}_downreg_scaled'] = (x-x.mean()) / np.std(x)"
   ]
  },
  {
   "cell_type": "code",
   "execution_count": null,
   "id": "hawaiian-exhibition",
   "metadata": {},
   "outputs": [],
   "source": [
    "# for rstim in rna_up_genes.keys():\n",
    "#     x = adata.obs[f'{rstim}_upreg'].values\n",
    "#     adata.obs[f'{rstim}_upreg_scaled'] = (x-x.mean()) / np.std(x)"
   ]
  },
  {
   "cell_type": "code",
   "execution_count": null,
   "id": "infectious-character",
   "metadata": {},
   "outputs": [],
   "source": [
    "adata"
   ]
  },
  {
   "cell_type": "code",
   "execution_count": null,
   "id": "cloudy-vinyl",
   "metadata": {},
   "outputs": [],
   "source": [
    "# Plot standardized scores\n",
    "#rna_up_genes_show = rna_up_genes.copy()\n",
    "#del rna_up_genes_show['IL6']\n",
    "#del rna_up_genes_show['IL22']\n",
    "\n",
    "sc.set_figure_params(dpi_save=300)\n",
    "\n",
    "#sk.set_figsize((3, 3))\n",
    "sc.pl.embedding(\n",
    "    adata,\n",
    "    basis='X_umap',\n",
    "    color=[f'{rstim}_upreg_scaled' for rstim in de_tabs_sig.keys()] + ['annot'],\n",
    "    ncols=5,\n",
    "    #cmap='viridis',\n",
    "    palette=sc.pl.palettes.default_102,\n",
    "    cmap='RdBu_r',\n",
    "#    hspace=1.0,\n",
    "    title=[f'{rstim}_upreg, n={de_tabs_sig[rstim].shape[0]}' for rstim in de_tabs_sig.keys()] + ['Cell type'],\n",
    "    vmin=-4, vmax=4,\n",
    "    #vcenter=0,\n",
    "    save=\"_xenium5k_bulkDE_treatment_projection_scaled_stromal.pdf\"\n",
    ")"
   ]
  },
  {
   "cell_type": "code",
   "execution_count": null,
   "id": "antique-surfing",
   "metadata": {},
   "outputs": [],
   "source": [
    "sc.pl.matrixplot(\n",
    "    adata, [f'{rstim}_upreg_scaled' for rstim in de_tabs_sig.keys()], groupby='annot', figsize=(7, 2.0), swap_axes=True,\n",
    "    colorbar_title=\"Mean cytokine score\",\n",
    "    cmap='RdBu_r', vmin=-2, vmax=2,\n",
    " #   save=\"cytokines_cell_type.pdf\"\n",
    ")"
   ]
  },
  {
   "cell_type": "code",
   "execution_count": null,
   "id": "afraid-shopping",
   "metadata": {},
   "outputs": [],
   "source": [
    "de_tabs_sig.keys()"
   ]
  },
  {
   "cell_type": "code",
   "execution_count": null,
   "id": "facial-swing",
   "metadata": {},
   "outputs": [],
   "source": [
    "sc.pl.matrixplot(\n",
    "    adata,\n",
    "    [\n",
    "        'GSKJ4_over_DMSO_upreg_scaled',\n",
    "        'Belinostat_over_DMSO_upreg_scaled',\n",
    "        'GSKJ4_over_DMSO_downreg_scaled',\n",
    "        'Belinostat_over_DMSO_downreg_scaled',\n",
    "        '[inverse]_unstim_over_DMSO_upreg_scaled',\n",
    "        '[inverse]_unstim_over_DMSO_downreg_scaled'\n",
    "    ], groupby='annot', figsize=(7, 2.0), swap_axes=True,\n",
    "    colorbar_title=\"Mean pert. score\",\n",
    "    cmap='RdBu_r', vmin=-2, vmax=2,\n",
    "    save=\"treatment_pertubation_cell_type_stromal.pdf\"\n",
    ")"
   ]
  },
  {
   "cell_type": "code",
   "execution_count": null,
   "id": "literary-spanish",
   "metadata": {},
   "outputs": [],
   "source": [
    "import matplotlib.pyplot as plt\n",
    "\n",
    "import warnings\n",
    "warnings.simplefilter(action='ignore', category=FutureWarning)"
   ]
  },
  {
   "cell_type": "code",
   "execution_count": null,
   "id": "small-philadelphia",
   "metadata": {},
   "outputs": [],
   "source": [
    "# plt.rcParams[\"figure.figsize\"] = (12, 5)\n",
    "\n",
    "# sc.pl.violin(\n",
    "#     adata,\n",
    "#     [\n",
    "#         'GSKJ4_over_DMSO_upreg_scaled',\n",
    "#         'Belinostat_over_DMSO_upreg_scaled',\n",
    "#         'GSKJ4_over_DMSO_downreg_scaled',\n",
    "#         'Belinostat_over_DMSO_downreg_scaled',\n",
    "#         '[inverse]_unstim_over_DMSO_upreg_scaled',\n",
    "#         '[inverse]_unstim_over_DMSO_downreg_scaled'\n",
    "#     ],\n",
    "#     groupby='annot',\n",
    "#     stripplot=False,\n",
    "#     figsize=(60, 6.0),\n",
    "#     #swap_axes=True,\n",
    "#     colorbar_title=\"Mean pert. score\",\n",
    "#     rotation=90,\n",
    "# #    cmap='RdBu_r', vmin=-2, vmax=2,\n",
    "#     save=\"_treatment_pertubation_cell_type.pdf\"\n",
    "# )"
   ]
  },
  {
   "cell_type": "code",
   "execution_count": null,
   "id": "further-standing",
   "metadata": {},
   "outputs": [],
   "source": [
    "# plt.rcParams[\"figure.figsize\"] = (5, 5)\n",
    "\n",
    "# select_cells = [\"Myofibroblast-SMC\", \"Myofibroblast_1\", \"Myofibroblast_2\", \"Myofibroblast_3\", \"Pericyte_1\", \"Pericyte_2\", \"S1_1\", \"S1_2\", \"S2\", \"S3_EGR3\", \"S3_crypt\", \"S3_intermediate\", \"S3_lamina propria\", \"S3_oral_mucosa-like\", \"S3x_1\", \"S3x_2\", \"S4\", \"S5\", \"SMC_ANO1\", \"SMC_CAPN3\", \"SMC_PPLP2\", \"vSMC\"]\n",
    "\n",
    "# adata_sub = adata[adata.obs.annot.isin(select_cells)]\n",
    "# sc.pl.violin(\n",
    "#     adata_sub,\n",
    "#     [\n",
    "#         'GSKJ4_over_DMSO_upreg_scaled',\n",
    "#         'Belinostat_over_DMSO_upreg_scaled',\n",
    "#         'GSKJ4_over_DMSO_downreg_scaled',\n",
    "#         'Belinostat_over_DMSO_downreg_scaled',\n",
    "#         '[inverse]_unstim_over_DMSO_upreg_scaled',\n",
    "#         '[inverse]_unstim_over_DMSO_downreg_scaled'\n",
    "#     ],\n",
    "#     groupby='annot',\n",
    "#     stripplot=False,\n",
    "#     #swap_axes=True,\n",
    "#     colorbar_title=\"Mean pert. score\",\n",
    "#     rotation=90,\n",
    "# #    cmap='RdBu_r', vmin=-2, vmax=2,\n",
    "#     save=\"_treatment_pertubation_cell_type_select.pdf\"\n",
    "# )"
   ]
  },
  {
   "cell_type": "code",
   "execution_count": null,
   "id": "ethical-charter",
   "metadata": {},
   "outputs": [],
   "source": [
    "sc.pl.matrixplot(\n",
    "    adata, [f'{rstim}_upreg_scaled' for rstim in de_tabs_sig.keys()], groupby='spatial_cluster18', figsize=(5, 2.0), swap_axes=True,\n",
    "    colorbar_title=\"Mean cytokine score\",\n",
    "    cmap='PRGn', vmin=-2, vmax=2,\n",
    "#    save=\"cytokines_CellCharter_niches.pdf\"\n",
    ")"
   ]
  },
  {
   "cell_type": "code",
   "execution_count": null,
   "id": "certain-nightmare",
   "metadata": {},
   "outputs": [],
   "source": []
  },
  {
   "cell_type": "code",
   "execution_count": null,
   "id": "emerging-recognition",
   "metadata": {},
   "outputs": [],
   "source": [
    "sc.pl.matrixplot(\n",
    "    adata, [\n",
    "        'GSKJ4_over_DMSO_upreg_scaled',\n",
    "        'Belinostat_over_DMSO_upreg_scaled',\n",
    "        'GSKJ4_over_DMSO_downreg_scaled',\n",
    "        'Belinostat_over_DMSO_downreg_scaled',\n",
    "        '[inverse]_unstim_over_DMSO_upreg_scaled',\n",
    "        '[inverse]_unstim_over_DMSO_downreg_scaled'\n",
    "    ], groupby='spatial_cluster18', figsize=(5, 2.0), swap_axes=True,\n",
    "    colorbar_title=\"Mean cytokine score\",\n",
    "    cmap='PRGn', vmin=-2, vmax=2,\n",
    "#    save=\"cytokines_CellCharter_niches.pdf\"\n",
    ")"
   ]
  },
  {
   "cell_type": "code",
   "execution_count": null,
   "id": "present-intellectual",
   "metadata": {},
   "outputs": [],
   "source": [
    "# rcParams[\"figure.figsize\"] = (8, 4)\n",
    "# sc.pl.violin(adata, [f'{rstim}_upreg_scaled' for rstim in rna_up_genes_show.keys()], groupby='spatial_cluster18', )"
   ]
  },
  {
   "cell_type": "code",
   "execution_count": null,
   "id": "environmental-calibration",
   "metadata": {},
   "outputs": [],
   "source": [
    "adata"
   ]
  },
  {
   "cell_type": "code",
   "execution_count": null,
   "id": "timely-technology",
   "metadata": {},
   "outputs": [],
   "source": [
    "# Formating\n",
    "adata.obs.sample = adata.obs['sample']"
   ]
  },
  {
   "cell_type": "code",
   "execution_count": null,
   "id": "tender-olympus",
   "metadata": {},
   "outputs": [],
   "source": [
    "for column in [f'{rstim}_upreg_scaled' for rstim in de_tabs_sig.keys()]:\n",
    "    print(column)"
   ]
  },
  {
   "cell_type": "code",
   "execution_count": null,
   "id": "spatial-accused",
   "metadata": {},
   "outputs": [],
   "source": [
    "rcParams[\"figure.figsize\"] = (6, 6)\n",
    "sc.set_figure_params(dpi_save=300)\n",
    "\n",
    "sq.pl.spatial_scatter(\n",
    "    adata, \n",
    "    color='Belinostat_over_DMSO_upreg_scaled', \n",
    "    library_key='sample', \n",
    "    img=None, \n",
    "    title=adata.obs.sample.cat.categories,\n",
    "    size=8,  # point size\n",
    "    ncols=4,\n",
    "    cmap='RdBu_r', vmin=-4, vmax=4, \n",
    "    library_id=adata.obs.sample.cat.categories,\n",
    "    save=\"spatial/Belinostat_over_DMSO_upreg_scaled_stromal.pdf\", dpi=300\n",
    ")"
   ]
  },
  {
   "cell_type": "code",
   "execution_count": null,
   "id": "thick-ministry",
   "metadata": {},
   "outputs": [],
   "source": [
    "rcParams[\"figure.figsize\"] = (6, 6)\n",
    "sc.set_figure_params(dpi_save=300)\n",
    "\n",
    "sq.pl.spatial_scatter(\n",
    "    adata, \n",
    "    color='GSKJ4_over_DMSO_upreg_scaled', \n",
    "    library_key='sample', \n",
    "    img=None, \n",
    "    title=adata.obs.sample.cat.categories,\n",
    "    size=8,  # point size\n",
    "    ncols=4,\n",
    "    cmap='RdBu_r', vmin=-4, vmax=4, \n",
    "    library_id=adata.obs.sample.cat.categories,\n",
    "    save=\"spatial/GSKJ4_over_DMSO_upreg_scaled_stromal.pdf\", dpi=300\n",
    ")"
   ]
  },
  {
   "cell_type": "code",
   "execution_count": null,
   "id": "upset-wheat",
   "metadata": {},
   "outputs": [],
   "source": [
    "#adata"
   ]
  },
  {
   "cell_type": "code",
   "execution_count": null,
   "id": "maritime-denial",
   "metadata": {},
   "outputs": [],
   "source": [
    "rcParams[\"figure.figsize\"] = (6, 6)\n",
    "sc.set_figure_params(dpi_save=300)\n",
    "\n",
    "sq.pl.spatial_scatter(\n",
    "    adata, \n",
    "    color='[inverse]_unstim_over_DMSO_downreg_scaled', \n",
    "    library_key='sample', \n",
    "    img=None, \n",
    "    title=adata.obs.sample.cat.categories,\n",
    "    size=8,  # point size\n",
    "    ncols=4,\n",
    "    cmap='RdBu_r', vmin=-4, vmax=4, \n",
    "    library_id=adata.obs.sample.cat.categories,\n",
    "    save=\"spatial/[inverse]_unstim_over_DMSO_downreg_scaled_stromal.pdf\", dpi=300\n",
    ")"
   ]
  },
  {
   "cell_type": "code",
   "execution_count": null,
   "id": "federal-iceland",
   "metadata": {},
   "outputs": [],
   "source": [
    "# Spatial plots of all perturbation signature scores\n",
    "rcParams[\"figure.figsize\"] = (6, 6)\n",
    "sc.set_figure_params(dpi_save=300)\n",
    "\n",
    "for column in [f'{rstim}_upreg_scaled' for rstim in de_tabs_sig.keys()]:\n",
    "    print(column)\n",
    "    sq.pl.spatial_scatter(\n",
    "        adata, \n",
    "        color=column, \n",
    "        library_key='sample', \n",
    "        img=None, \n",
    "        title=adata.obs.sample.cat.categories,\n",
    "        size=8,  # point size\n",
    "        ncols=4,\n",
    "        cmap='RdBu_r', vmin=-4, vmax=4, \n",
    "        library_id=adata.obs.sample.cat.categories,\n",
    "#        save=\"spatial/spatial_ \" + column + \".pdf\",\n",
    "        dpi=300\n",
    "    )"
   ]
  },
  {
   "cell_type": "code",
   "execution_count": null,
   "id": "varied-token",
   "metadata": {},
   "outputs": [],
   "source": [
    "#adata.obs.sample"
   ]
  },
  {
   "cell_type": "code",
   "execution_count": null,
   "id": "brave-shelter",
   "metadata": {},
   "outputs": [],
   "source": [
    "# # Encode specific cell types as yes/no\n",
    "# adata.obs['S5'] = pd.NA\n",
    "# adata.obs.S5[adata.obs.annot == \"S5\"] = 'Yes'"
   ]
  },
  {
   "cell_type": "code",
   "execution_count": null,
   "id": "manufactured-montana",
   "metadata": {},
   "outputs": [],
   "source": [
    "# adata.obs['S3_oral_mucosa-like'] = pd.NA\n",
    "# adata.obs['S3_oral_mucosa-like'][adata.obs.annot == \"S3_oral_mucosa-like\"] = 'Yes'"
   ]
  },
  {
   "cell_type": "code",
   "execution_count": null,
   "id": "fatty-dairy",
   "metadata": {},
   "outputs": [],
   "source": [
    "#del adata.uns['S5_colors']"
   ]
  },
  {
   "cell_type": "code",
   "execution_count": null,
   "id": "raising-hanging",
   "metadata": {},
   "outputs": [],
   "source": [
    "# rcParams[\"figure.figsize\"] = (6, 6)\n",
    "# sc.set_figure_params(dpi_save=450)\n",
    "\n",
    "# sq.pl.spatial_scatter(\n",
    "#     adata, \n",
    "#     color=[\n",
    "#         'IL1B_upreg_scaled', 'IFNA_upreg_scaled', 'IL17A_upreg_scaled', 'OSM_upreg_scaled', 'IL13_upreg_scaled', 'TNF_upreg_scaled', 'TGFB1_upreg_scaled',\n",
    "#         'spatial_cluster18', 'S5', 'S3_oral_mucosa-like', 'annot'],\n",
    "#     crop_coord=(2500, 5500, 4200, 10000),   # x0, y0, x1, y1\n",
    "#     library_key='sample', \n",
    "#     img=None, \n",
    "# #    title=adata.obs.sample.cat.categories,\n",
    "#     size=6,  # point size\n",
    "#     ncols=4,\n",
    "#     cmap='RdBu_r', vmin=-4, vmax=4, \n",
    "#     library_id=\"0033516_affected\",\n",
    "#     na_color='lightgrey',\n",
    "#     save=\"spatial/cytokines_view1_0033516_affected.pdf\",\n",
    "#     dpi=450\n",
    "# )"
   ]
  },
  {
   "cell_type": "code",
   "execution_count": null,
   "id": "arabic-natural",
   "metadata": {},
   "outputs": [],
   "source": [
    "# rcParams[\"figure.figsize\"] = (6, 6)\n",
    "\n",
    "# sq.pl.spatial_scatter(\n",
    "#     adata, \n",
    "#     color='annot',\n",
    "#     groups=['S5', 'S3_oral_mucosa-like', 'EC_venous',\n",
    "#             #'Pericyte_1',\n",
    "#             #'EC_capillary',\n",
    "#  #           'B_naive',\n",
    "#  #           'Enterocyte'\n",
    "#             'Tnaive/cm_CD4',\n",
    "#             'B_plasma_IgA1',\n",
    "#             'B_memory',\n",
    "#             'Treg_IL10'\n",
    "#            ],\n",
    "#     crop_coord=(2500, 5500, 4200, 10000),   # x0, y0, x1, y1\n",
    "#     library_key='sample', \n",
    "#     img=None, \n",
    "#     size=6,  # point size\n",
    "#     ncols=4,\n",
    "#     palette=\"tab10\",\n",
    "#     library_id=\"0033516_affected\",\n",
    "#     na_color='lightgrey',\n",
    "#     save=\"spatial/cytokines_view1_0033516_affected_selectedCells.pdf\",\n",
    "#     dpi=450\n",
    "# )"
   ]
  },
  {
   "cell_type": "code",
   "execution_count": null,
   "id": "willing-financing",
   "metadata": {},
   "outputs": [],
   "source": [
    "# adata.obs.sample.value_counts()"
   ]
  },
  {
   "cell_type": "code",
   "execution_count": null,
   "id": "three-binary",
   "metadata": {},
   "outputs": [],
   "source": [
    "# adata"
   ]
  },
  {
   "cell_type": "code",
   "execution_count": null,
   "id": "initial-machinery",
   "metadata": {},
   "outputs": [],
   "source": [
    "# rcParams[\"figure.figsize\"] = (6, 6)\n",
    "# sc.set_figure_params(dpi_save=300)\n",
    "\n",
    "# sq.pl.spatial_scatter(\n",
    "#     adata, \n",
    "#     color=[\n",
    "#         'IL1B_upreg_scaled', 'IFNA_upreg_scaled', 'IL17A_upreg_scaled', 'OSM_upreg_scaled', 'IL13_upreg_scaled', 'TNF_upreg_scaled', 'TGFB1_upreg_scaled',\n",
    "#         'spatial_cluster18', 'S5', 'S3_oral_mucosa-like', 'annot'],\n",
    "#     crop_coord=(4500, 3500, 8000, 5000),   # x0, y0, x1, y1\n",
    "#     library_key='sample', \n",
    "#     img=None, \n",
    "# #    title=adata.obs.sample.cat.categories,\n",
    "#     size=6,  # point size\n",
    "#     ncols=4,\n",
    "#     cmap='RdBu_r', vmin=-4, vmax=4, \n",
    "#     library_id=\"0043587_affected\",\n",
    "#     na_color='lightgrey',\n",
    "#     save=\"spatial/cytokines_view1_0043587_affected.pdf\",\n",
    "#     dpi=300\n",
    "# )"
   ]
  },
  {
   "cell_type": "code",
   "execution_count": null,
   "id": "neither-picture",
   "metadata": {},
   "outputs": [],
   "source": [
    "# rcParams[\"figure.figsize\"] = (6, 6)\n",
    "\n",
    "# sq.pl.spatial_scatter(\n",
    "#     adata, \n",
    "#     color='annot',\n",
    "#     groups=['S5',\n",
    "#             'S3_oral_mucosa-like',\n",
    "#             'EC_venous',\n",
    "#   #          'Pericyte_1',\n",
    "# #             'EC_capillary',\n",
    "# #             'B_naive',\n",
    "# #  #           'Enterocyte'\n",
    "#              'Tnaive/cm_CD4',\n",
    "#              'B_plasma_IgA1',\n",
    "#              'B_memory',\n",
    "#              'Treg_IL10',\n",
    "#  #           'Tfh', 'S4', 'DC_pDC'\n",
    "#             'Trm_Th17', 'DC_migratory', 'DC_cDC2'\n",
    "#            ],\n",
    "#     crop_coord=(4500, 3500, 8000, 5000),   # x0, y0, x1, y1\n",
    "#     library_key='sample', \n",
    "#     img=None, \n",
    "#     size=6,  # point size\n",
    "#     ncols=4,\n",
    "#     palette=\"tab10\",\n",
    "#     library_id=\"0043587_affected\",\n",
    "#     na_color='lightgrey',\n",
    "#     save=\"spatial/cytokines_view1_0043587_affected_selectedCells.pdf\",\n",
    "#     dpi=450\n",
    "# )"
   ]
  },
  {
   "cell_type": "code",
   "execution_count": null,
   "id": "curious-seventh",
   "metadata": {},
   "outputs": [],
   "source": []
  },
  {
   "cell_type": "code",
   "execution_count": null,
   "id": "immune-trunk",
   "metadata": {},
   "outputs": [],
   "source": []
  }
 ],
 "metadata": {
  "kernelspec": {
   "display_name": "scanpy",
   "language": "python",
   "name": "scanpy"
  },
  "language_info": {
   "codemirror_mode": {
    "name": "ipython",
    "version": 3
   },
   "file_extension": ".py",
   "mimetype": "text/x-python",
   "name": "python",
   "nbconvert_exporter": "python",
   "pygments_lexer": "ipython3",
   "version": "3.10.14"
  },
  "widgets": {
   "application/vnd.jupyter.widget-state+json": {
    "state": {},
    "version_major": 2,
    "version_minor": 0
   }
  }
 },
 "nbformat": 4,
 "nbformat_minor": 5
}
