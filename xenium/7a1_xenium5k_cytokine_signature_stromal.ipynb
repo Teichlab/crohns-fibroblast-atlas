{
 "cells": [
  {
   "cell_type": "code",
   "execution_count": 1,
   "id": "better-compact",
   "metadata": {},
   "outputs": [],
   "source": [
    "# Analysis of cytokine perturbation scores, only includes mesenchymal cells"
   ]
  },
  {
   "cell_type": "code",
   "execution_count": null,
   "id": "vertical-today",
   "metadata": {},
   "outputs": [],
   "source": [
    "import scanpy as sc\n",
    "import pandas as pd\n",
    "import numpy as np\n",
    "\n",
    "import squidpy as sq\n",
    "import matplotlib.pyplot as plt\n",
    "from matplotlib import rcParams"
   ]
  },
  {
   "cell_type": "code",
   "execution_count": null,
   "id": "drawn-guyana",
   "metadata": {},
   "outputs": [],
   "source": [
    "sc.settings.figdir = \"./figures_cytokines/\"\n",
    "\n",
    "!mkdir figures_cytokines"
   ]
  },
  {
   "cell_type": "code",
   "execution_count": null,
   "id": "coated-eclipse",
   "metadata": {},
   "outputs": [],
   "source": [
    "#adata = sc.read_h5ad(\"h5ad/scvi/xenium5k_scVI_CellCharter.h5ad\")\n",
    "adata = sc.read_h5ad(\"h5ad/scvi/xenium5k_scVI_CellCharter_clustImmune_postQC.h5ad\")"
   ]
  },
  {
   "cell_type": "code",
   "execution_count": null,
   "id": "historic-accuracy",
   "metadata": {},
   "outputs": [],
   "source": [
    "adata"
   ]
  },
  {
   "cell_type": "code",
   "execution_count": null,
   "id": "sustained-direction",
   "metadata": {},
   "outputs": [],
   "source": [
    "adata.obs.annot2.value_counts()"
   ]
  },
  {
   "cell_type": "code",
   "execution_count": null,
   "id": "chicken-personality",
   "metadata": {},
   "outputs": [],
   "source": [
    "#print(adata.X[1:10, 1:10])"
   ]
  },
  {
   "cell_type": "code",
   "execution_count": null,
   "id": "affiliated-capture",
   "metadata": {},
   "outputs": [],
   "source": [
    "# Mesenchymal subset\n",
    "adata = adata[adata.obs.megagut_lvl1_majority_voting == 'Mesenchymal']"
   ]
  },
  {
   "cell_type": "code",
   "execution_count": null,
   "id": "modular-firewall",
   "metadata": {},
   "outputs": [],
   "source": [
    "adata"
   ]
  },
  {
   "cell_type": "code",
   "execution_count": null,
   "id": "under-allen",
   "metadata": {},
   "outputs": [],
   "source": [
    "# Exclude cells that are not consistent with mesenchymal compartment according to level 3 CellTypist predictions\n",
    "exclude_cells = [\"Enterocyte\", \"Tnaive/cm_CD4\", \"B_memory\", \"Glial/Enteric_neural_crest\", \"Trm_CD8\", \"Treg_IL10\", \"EC_capillary\", \"EC_lymphatic\", \"Trm_CD4\", \"Mesoderm_2\"]\n",
    "\n",
    "adata = adata[~adata.obs.megagut_lvl3_majority_voting.isin(exclude_cells)]"
   ]
  },
  {
   "cell_type": "code",
   "execution_count": null,
   "id": "personal-diana",
   "metadata": {},
   "outputs": [],
   "source": [
    "adata"
   ]
  },
  {
   "cell_type": "code",
   "execution_count": null,
   "id": "completed-contemporary",
   "metadata": {},
   "outputs": [],
   "source": [
    "adata.obs.annot.value_counts()"
   ]
  },
  {
   "cell_type": "code",
   "execution_count": null,
   "id": "constitutional-orange",
   "metadata": {},
   "outputs": [],
   "source": [
    "# Recompute UMAPs for mesenchymal cells"
   ]
  },
  {
   "cell_type": "code",
   "execution_count": null,
   "id": "developed-berlin",
   "metadata": {},
   "outputs": [],
   "source": [
    "sc.pp.neighbors(adata, use_rep=\"X_scVI\")"
   ]
  },
  {
   "cell_type": "code",
   "execution_count": null,
   "id": "brief-explosion",
   "metadata": {},
   "outputs": [],
   "source": [
    "# UMAP\n",
    "sc.tl.umap(adata)"
   ]
  },
  {
   "cell_type": "markdown",
   "id": "hourly-cooking",
   "metadata": {},
   "source": [
    "# Load bulk RNA-seq signatures"
   ]
  },
  {
   "cell_type": "code",
   "execution_count": null,
   "id": "determined-madrid",
   "metadata": {},
   "outputs": [],
   "source": [
    "def load_de_genes(fn, sep=',', max_p=0.01, min_lfc=2, max_n=1000):\n",
    "    de_df = pd.read_csv(fn, sep=sep, index_col=0)\n",
    "    de_df = de_df.where(lambda x: (x.padj < max_p) & (x.log2FoldChange > np.log2(min_lfc))).dropna().sort_values(['padj', 'log2FoldChange'], ascending=[True, False])\n",
    "    return de_df.iloc[0:max_n, :]"
   ]
  },
  {
   "cell_type": "code",
   "execution_count": null,
   "id": "circular-recovery",
   "metadata": {},
   "outputs": [],
   "source": [
    "!ls ../fibroblast_reanalysis_bulk_DE_signature/bulkRNA_DE_v2/csv/*.csv"
   ]
  },
  {
   "cell_type": "code",
   "execution_count": null,
   "id": "further-consideration",
   "metadata": {},
   "outputs": [],
   "source": [
    "rna_stimulations = !ls ../fibroblast_reanalysis_bulk_DE_signature/bulkRNA_DE_v2/csv/ | cut -f2 -d '_'\n",
    "rna_stimulations = [f.strip(\".csv\") for f in rna_stimulations]"
   ]
  },
  {
   "cell_type": "code",
   "execution_count": null,
   "id": "enormous-russell",
   "metadata": {},
   "outputs": [],
   "source": [
    "rna_stimulations"
   ]
  },
  {
   "cell_type": "code",
   "execution_count": null,
   "id": "framed-share",
   "metadata": {},
   "outputs": [],
   "source": [
    "rna_up_genes = {rstim: load_de_genes(f'../fibroblast_reanalysis_bulk_DE_signature/bulkRNA_DE_v2/csv/DESeq2_{rstim}.csv', sep=',', max_p=0.05, min_lfc=1.5) for rstim in rna_stimulations}"
   ]
  },
  {
   "cell_type": "code",
   "execution_count": null,
   "id": "tired-restriction",
   "metadata": {},
   "outputs": [],
   "source": [
    "# Count number of genes\n",
    "{k: len(v) for k,v in rna_up_genes.items()}"
   ]
  },
  {
   "cell_type": "code",
   "execution_count": null,
   "id": "artistic-domain",
   "metadata": {},
   "outputs": [],
   "source": [
    "#adata.var.index"
   ]
  },
  {
   "cell_type": "code",
   "execution_count": null,
   "id": "responsible-diary",
   "metadata": {},
   "outputs": [],
   "source": [
    "# Score signatures\n",
    "for rstim, rup in rna_up_genes.items():\n",
    "    g = rup.index.to_list()  # gene set\n",
    "    \n",
    "    # Subset to overlap only\n",
    "    g = set(g).intersection(adata.var.index)\n",
    "    \n",
    "    print(rstim, \": \", len(g))\n",
    "    sc.tl.score_genes(adata, g, ctrl_size=len(g), score_name=f'{rstim}_upreg')"
   ]
  },
  {
   "cell_type": "code",
   "execution_count": null,
   "id": "faced-belle",
   "metadata": {},
   "outputs": [],
   "source": [
    "for rstim in rna_up_genes.keys():\n",
    "    x = adata.obs[f'{rstim}_upreg'].values\n",
    "    adata.obs[f'{rstim}_upreg_scaled'] = (x-x.mean()) / np.std(x)"
   ]
  },
  {
   "cell_type": "code",
   "execution_count": null,
   "id": "comparative-martin",
   "metadata": {},
   "outputs": [],
   "source": [
    "adata"
   ]
  },
  {
   "cell_type": "code",
   "execution_count": null,
   "id": "random-dressing",
   "metadata": {},
   "outputs": [],
   "source": [
    "# Plot standardized scores\n",
    "rna_up_genes_show = rna_up_genes.copy()\n",
    "del rna_up_genes_show['IL6']\n",
    "#del rna_up_genes_show['IL22']\n",
    "\n",
    "sc.set_figure_params(dpi_save=300)\n",
    "\n",
    "#sk.set_figsize((3, 3))\n",
    "sc.pl.embedding(\n",
    "    adata,\n",
    "    basis='X_umap',\n",
    "    color=[f'{rstim}_upreg_scaled' for rstim in rna_up_genes_show.keys()] + ['annot'],\n",
    "    ncols=5,\n",
    "    #cmap='viridis',\n",
    "    palette=sc.pl.palettes.default_102,\n",
    "    cmap='RdBu_r',\n",
    "    title=[f'{rstim}_upreg, n={rna_up_genes[rstim].shape[0]}' for rstim in rna_up_genes_show.keys()] + ['Cell type'],\n",
    "    vmin=-4, vmax=4,\n",
    "    #vcenter=0,\n",
    "    save=\"_xenium5k_bulkDE_signature_projection_scaled_stromal.pdf\"\n",
    ")"
   ]
  },
  {
   "cell_type": "code",
   "execution_count": null,
   "id": "friendly-regular",
   "metadata": {},
   "outputs": [],
   "source": [
    "sc.pl.matrixplot(\n",
    "    adata, [f'{rstim}_upreg_scaled' for rstim in rna_up_genes_show.keys()], groupby='annot', figsize=(7, 2.0), swap_axes=True,\n",
    "    colorbar_title=\"Mean cytokine score\",\n",
    "    cmap='RdBu_r', vmin=-2, vmax=2,\n",
    "    save=\"cytokines_cell_type_stromal.pdf\"\n",
    ")"
   ]
  },
  {
   "cell_type": "code",
   "execution_count": null,
   "id": "nutritional-wagon",
   "metadata": {},
   "outputs": [],
   "source": [
    "sc.pl.matrixplot(\n",
    "    adata, [f'{rstim}_upreg_scaled' for rstim in rna_up_genes_show.keys()], groupby='spatial_cluster18', figsize=(5, 2.0), swap_axes=True,\n",
    "    colorbar_title=\"Mean cytokine score\",\n",
    "    cmap='PRGn', vmin=-2, vmax=2,\n",
    "    save=\"cytokines_CellCharter_niches_stromal.pdf\"\n",
    ")"
   ]
  },
  {
   "cell_type": "code",
   "execution_count": null,
   "id": "colonial-consolidation",
   "metadata": {},
   "outputs": [],
   "source": [
    "# rcParams[\"figure.figsize\"] = (8, 4)\n",
    "# sc.pl.violin(adata, [f'{rstim}_upreg_scaled' for rstim in rna_up_genes_show.keys()], groupby='spatial_cluster18', )"
   ]
  },
  {
   "cell_type": "code",
   "execution_count": null,
   "id": "dependent-likelihood",
   "metadata": {},
   "outputs": [],
   "source": [
    "adata"
   ]
  },
  {
   "cell_type": "code",
   "execution_count": null,
   "id": "confident-domain",
   "metadata": {},
   "outputs": [],
   "source": [
    "# Formating\n",
    "adata.obs.sample = adata.obs['sample']"
   ]
  },
  {
   "cell_type": "code",
   "execution_count": null,
   "id": "identified-pound",
   "metadata": {},
   "outputs": [],
   "source": [
    "for column in [f'{rstim}_upreg_scaled' for rstim in rna_up_genes_show.keys()]:\n",
    "    print(column)"
   ]
  },
  {
   "cell_type": "code",
   "execution_count": null,
   "id": "caring-surgeon",
   "metadata": {},
   "outputs": [],
   "source": [
    "rcParams[\"figure.figsize\"] = (6, 6)\n",
    "sc.set_figure_params(dpi_save=450)\n",
    "\n",
    "sq.pl.spatial_scatter(\n",
    "    adata, \n",
    "    color='IFNA_upreg_scaled', \n",
    "    library_key='sample', \n",
    "    img=None, \n",
    "    title=adata.obs.sample.cat.categories,\n",
    "    size=8,  # point size\n",
    "    ncols=4,\n",
    "    cmap='RdBu_r', vmin=-4, vmax=4, \n",
    "    library_id=adata.obs.sample.cat.categories,\n",
    "#    save=\"figures_niches/CellCharter_niches18.pdf\", dpi=450\n",
    ")"
   ]
  },
  {
   "cell_type": "code",
   "execution_count": null,
   "id": "positive-shareware",
   "metadata": {},
   "outputs": [],
   "source": [
    "# rcParams[\"figure.figsize\"] = (6, 6)\n",
    "# sc.set_figure_params(dpi_save=450)\n",
    "\n",
    "# sq.pl.spatial_scatter(\n",
    "#     adata, \n",
    "#     color='IFNG_upreg_scaled', \n",
    "#     library_key='sample', \n",
    "#     img=None, \n",
    "#     title=adata.obs.sample.cat.categories,\n",
    "#     size=8,  # point size\n",
    "#     ncols=4,\n",
    "#     cmap='RdBu_r', vmin=-4, vmax=4, \n",
    "#     library_id=adata.obs.sample.cat.categories,\n",
    "# #    save=\"figures_niches/CellCharter_niches18.pdf\", dpi=450\n",
    "# )"
   ]
  },
  {
   "cell_type": "code",
   "execution_count": null,
   "id": "tired-uganda",
   "metadata": {},
   "outputs": [],
   "source": [
    "rcParams[\"figure.figsize\"] = (6, 6)\n",
    "sc.set_figure_params(dpi_save=450)\n",
    "\n",
    "sq.pl.spatial_scatter(\n",
    "    adata, \n",
    "    color='IL13_upreg_scaled', \n",
    "    library_key='sample', \n",
    "    img=None, \n",
    "    title=adata.obs.sample.cat.categories,\n",
    "    size=8,  # point size\n",
    "    ncols=4,\n",
    "    cmap='RdBu_r', vmin=-4, vmax=4, \n",
    "    library_id=adata.obs.sample.cat.categories,\n",
    "#    save=\"figures_niches/CellCharter_niches18.pdf\", dpi=450\n",
    ")"
   ]
  },
  {
   "cell_type": "code",
   "execution_count": null,
   "id": "dominant-offense",
   "metadata": {},
   "outputs": [],
   "source": [
    "rcParams[\"figure.figsize\"] = (6, 6)\n",
    "sc.set_figure_params(dpi_save=450)\n",
    "\n",
    "sq.pl.spatial_scatter(\n",
    "    adata, \n",
    "    color='OSM_upreg_scaled', \n",
    "    library_key='sample', \n",
    "    img=None, \n",
    "    title=adata.obs.sample.cat.categories,\n",
    "    size=8,  # point size\n",
    "    ncols=4,\n",
    "    cmap='RdBu_r', vmin=-4, vmax=4, \n",
    "    library_id=adata.obs.sample.cat.categories,\n",
    "#    save=\"figures_niches/CellCharter_niches18.pdf\", dpi=450\n",
    ")"
   ]
  },
  {
   "cell_type": "code",
   "execution_count": null,
   "id": "quiet-condition",
   "metadata": {},
   "outputs": [],
   "source": [
    "rcParams[\"figure.figsize\"] = (6, 6)\n",
    "sc.set_figure_params(dpi_save=450)\n",
    "\n",
    "sq.pl.spatial_scatter(\n",
    "    adata, \n",
    "    color='IL1B_upreg_scaled', \n",
    "    library_key='sample', \n",
    "    img=None, \n",
    "    title=adata.obs.sample.cat.categories,\n",
    "    size=8,  # point size\n",
    "    ncols=4,\n",
    "    cmap='RdBu_r', vmin=-4, vmax=4, \n",
    "    library_id=adata.obs.sample.cat.categories,\n",
    "#    save=\"figures_niches/CellCharter_niches18.pdf\", dpi=450\n",
    ")"
   ]
  },
  {
   "cell_type": "code",
   "execution_count": null,
   "id": "necessary-milan",
   "metadata": {
    "scrolled": false
   },
   "outputs": [],
   "source": [
    "# Spatial plots of all cytokine signature scores\n",
    "rcParams[\"figure.figsize\"] = (6, 6)\n",
    "sc.set_figure_params(dpi_save=300)\n",
    "\n",
    "for column in [f'{rstim}_upreg_scaled' for rstim in rna_up_genes_show.keys()]:\n",
    "    print(column)\n",
    "    sq.pl.spatial_scatter(\n",
    "        adata, \n",
    "        color=column, \n",
    "        library_key='sample', \n",
    "        img=None, \n",
    "        title=adata.obs.sample.cat.categories,\n",
    "        size=8,  # point size\n",
    "        ncols=4,\n",
    "        cmap='RdBu_r', vmin=-4, vmax=4, \n",
    "        library_id=adata.obs.sample.cat.categories,\n",
    "        save=\"spatial/spatial_cytokine_ \" + column + \"_stromal.pdf\",\n",
    "        dpi=300\n",
    "    )"
   ]
  },
  {
   "cell_type": "code",
   "execution_count": null,
   "id": "handled-merit",
   "metadata": {},
   "outputs": [],
   "source": [
    "#adata.obs.sample"
   ]
  },
  {
   "cell_type": "code",
   "execution_count": null,
   "id": "searching-charity",
   "metadata": {},
   "outputs": [],
   "source": [
    "# Encode specific cell types as yes/no\n",
    "adata.obs['S5'] = pd.NA\n",
    "adata.obs.S5[adata.obs.annot == \"S5\"] = 'Yes'"
   ]
  },
  {
   "cell_type": "code",
   "execution_count": null,
   "id": "medium-billion",
   "metadata": {},
   "outputs": [],
   "source": [
    "adata.obs['S3_oral_mucosa-like'] = pd.NA\n",
    "adata.obs['S3_oral_mucosa-like'][adata.obs.annot == \"S3_oral_mucosa-like\"] = 'Yes'"
   ]
  },
  {
   "cell_type": "code",
   "execution_count": null,
   "id": "miniature-traffic",
   "metadata": {},
   "outputs": [],
   "source": [
    "#del adata.uns['S5_colors']"
   ]
  },
  {
   "cell_type": "code",
   "execution_count": null,
   "id": "elder-price",
   "metadata": {},
   "outputs": [],
   "source": [
    "rcParams[\"figure.figsize\"] = (6, 6)\n",
    "sc.set_figure_params(dpi_save=450)\n",
    "\n",
    "sq.pl.spatial_scatter(\n",
    "    adata, \n",
    "    color=[\n",
    "        'IL1B_upreg_scaled', 'IFNA_upreg_scaled', 'IL17A_upreg_scaled', 'OSM_upreg_scaled', 'IL13_upreg_scaled', 'TNF_upreg_scaled', 'TGFB1_upreg_scaled', 'IFNG_upreg_scaled',\n",
    "        'spatial_cluster18', 'S5', 'S3_oral_mucosa-like', 'annot'],\n",
    "    crop_coord=(2500, 5500, 4200, 10000),   # x0, y0, x1, y1\n",
    "    library_key='sample', \n",
    "    img=None, \n",
    "#    title=adata.obs.sample.cat.categories,\n",
    "    size=6,  # point size\n",
    "    ncols=4,\n",
    "    cmap='RdBu_r', vmin=-4, vmax=4, \n",
    "    library_id=\"0033516_affected\",\n",
    "    na_color='lightgrey',\n",
    "    save=\"spatial/cytokines_view1_0033516_affected_stromal.pdf\",\n",
    "    dpi=450\n",
    ")"
   ]
  },
  {
   "cell_type": "code",
   "execution_count": null,
   "id": "after-recycling",
   "metadata": {},
   "outputs": [],
   "source": [
    "# rcParams[\"figure.figsize\"] = (6, 6)\n",
    "\n",
    "# sq.pl.spatial_scatter(\n",
    "#     adata, \n",
    "#     color='annot',\n",
    "#     groups=['S5', 'S3_oral_mucosa-like', 'EC_venous',\n",
    "#             #'Pericyte_1',\n",
    "#             #'EC_capillary',\n",
    "#  #           'B_naive',\n",
    "#  #           'Enterocyte'\n",
    "#             'Tnaive/cm_CD4',\n",
    "#             'B_plasma_IgA1',\n",
    "#             'B_memory',\n",
    "#             'Treg_IL10'\n",
    "#            ],\n",
    "#     crop_coord=(2500, 5500, 4200, 10000),   # x0, y0, x1, y1\n",
    "#     library_key='sample', \n",
    "#     img=None, \n",
    "#     size=6,  # point sizea\n",
    "#     ncols=4,\n",
    "#     palette=\"tab10\",\n",
    "#     library_id=\"0033516_affected\",\n",
    "#     na_color='lightgrey',\n",
    "#     save=\"spatial/cytokines_view1_0033516_affected_selectedCells.pdf\",\n",
    "#     dpi=450\n",
    "# )"
   ]
  },
  {
   "cell_type": "code",
   "execution_count": null,
   "id": "considerable-phenomenon",
   "metadata": {},
   "outputs": [],
   "source": [
    "# adata.obs.sample.value_counts()"
   ]
  },
  {
   "cell_type": "code",
   "execution_count": null,
   "id": "violent-twist",
   "metadata": {},
   "outputs": [],
   "source": [
    "# adata"
   ]
  },
  {
   "cell_type": "code",
   "execution_count": null,
   "id": "lucky-maker",
   "metadata": {},
   "outputs": [],
   "source": [
    "# rcParams[\"figure.figsize\"] = (6, 6)\n",
    "# sc.set_figure_params(dpi_save=300)\n",
    "\n",
    "# sq.pl.spatial_scatter(\n",
    "#     adata, \n",
    "#     color=[\n",
    "#         'IL1B_upreg_scaled', 'IFNA_upreg_scaled', 'IL17A_upreg_scaled', 'OSM_upreg_scaled', 'IL13_upreg_scaled', 'TNF_upreg_scaled', 'TGFB1_upreg_scaled',\n",
    "#         'spatial_cluster18', 'S5', 'S3_oral_mucosa-like', 'annot'],\n",
    "#     crop_coord=(4500, 3500, 8000, 5000),   # x0, y0, x1, y1\n",
    "#     library_key='sample', \n",
    "#     img=None, \n",
    "# #    title=adata.obs.sample.cat.categories,\n",
    "#     size=6,  # point size\n",
    "#     ncols=4,\n",
    "#     cmap='RdBu_r', vmin=-4, vmax=4, \n",
    "#     library_id=\"0043587_affected\",\n",
    "#     na_color='lightgrey',\n",
    "#     save=\"spatial/cytokines_view1_0043587_affected.pdf\",\n",
    "#     dpi=300\n",
    "# )"
   ]
  },
  {
   "cell_type": "code",
   "execution_count": null,
   "id": "universal-franchise",
   "metadata": {},
   "outputs": [],
   "source": [
    "# rcParams[\"figure.figsize\"] = (6, 6)\n",
    "\n",
    "# sq.pl.spatial_scatter(\n",
    "#     adata, \n",
    "#     color='annot',\n",
    "#     groups=['S5',\n",
    "#             'S3_oral_mucosa-like',\n",
    "#             'EC_venous',\n",
    "#   #          'Pericyte_1',\n",
    "# #             'EC_capillary',\n",
    "# #             'B_naive',\n",
    "# #  #           'Enterocyte'\n",
    "#              'Tnaive/cm_CD4',\n",
    "#              'B_plasma_IgA1',\n",
    "#              'B_memory',\n",
    "#              'Treg_IL10',\n",
    "#  #           'Tfh', 'S4', 'DC_pDC'\n",
    "#             'Trm_Th17', 'DC_migratory', 'DC_cDC2'\n",
    "#            ],\n",
    "#     crop_coord=(4500, 3500, 8000, 5000),   # x0, y0, x1, y1\n",
    "#     library_key='sample', \n",
    "#     img=None, \n",
    "#     size=6,  # point size\n",
    "#     ncols=4,\n",
    "#     palette=\"tab10\",\n",
    "#     library_id=\"0043587_affected\",\n",
    "#     na_color='lightgrey',\n",
    "#     save=\"spatial/cytokines_view1_0043587_affected_selectedCells.pdf\",\n",
    "#     dpi=450\n",
    "# )"
   ]
  },
  {
   "cell_type": "code",
   "execution_count": null,
   "id": "visible-chamber",
   "metadata": {},
   "outputs": [],
   "source": []
  },
  {
   "cell_type": "code",
   "execution_count": null,
   "id": "dense-capability",
   "metadata": {},
   "outputs": [],
   "source": []
  }
 ],
 "metadata": {
  "kernelspec": {
   "display_name": "scanpy",
   "language": "python",
   "name": "scanpy"
  },
  "language_info": {
   "codemirror_mode": {
    "name": "ipython",
    "version": 3
   },
   "file_extension": ".py",
   "mimetype": "text/x-python",
   "name": "python",
   "nbconvert_exporter": "python",
   "pygments_lexer": "ipython3",
   "version": "3.10.14"
  },
  "widgets": {
   "application/vnd.jupyter.widget-state+json": {
    "state": {},
    "version_major": 2,
    "version_minor": 0
   }
  }
 },
 "nbformat": 4,
 "nbformat_minor": 5
}
