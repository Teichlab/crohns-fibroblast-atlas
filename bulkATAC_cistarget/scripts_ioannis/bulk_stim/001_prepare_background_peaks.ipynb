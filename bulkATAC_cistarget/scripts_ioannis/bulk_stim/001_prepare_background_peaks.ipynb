{
 "cells": [
  {
   "cell_type": "code",
   "execution_count": 1,
   "id": "2bf6ced2-a710-4048-88a0-67913741e3c0",
   "metadata": {},
   "outputs": [],
   "source": [
    "import pandas as pd\n",
    "import os"
   ]
  },
  {
   "cell_type": "code",
   "execution_count": 2,
   "id": "b1397997-357e-4d06-a399-8d92aad5ff49",
   "metadata": {},
   "outputs": [],
   "source": [
    "## Set up parameters\n",
    "\n",
    "## Genome assembly\n",
    "genome='/nfs/team205/is10/resources/ucsc_genomes/hg38.fa'\n",
    "\n",
    "## Output directory\n",
    "outdir = '/lustre/scratch126/cellgen/team205/is10/fibroblasts/bulk_stim/cistarget/'\n",
    "os.makedirs(outdir, exist_ok=True)"
   ]
  },
  {
   "cell_type": "code",
   "execution_count": 3,
   "id": "ac1a1eb3-6dce-4a32-ab98-64937b711c99",
   "metadata": {},
   "outputs": [],
   "source": [
    "## Read peaks to be used as background for analysis:\n",
    "peaks = pd.read_csv('/nfs/team205/nh3/projects/matthias_fibro/20210418_matthias_bulk_atac/bulk_atac_bedcov_matrix.tsv', sep='\\t')"
   ]
  },
  {
   "cell_type": "code",
   "execution_count": 4,
   "id": "3de55672-2e58-46aa-8737-2f67cd597e94",
   "metadata": {},
   "outputs": [],
   "source": [
    "## Extracting peak name (in UCSC format)\n",
    "peak_name = peaks['peak_name'].str.split(',', expand=True)[0]"
   ]
  },
  {
   "cell_type": "code",
   "execution_count": 5,
   "id": "32408eab-a610-4dc2-9bd5-d0eb9a946de5",
   "metadata": {},
   "outputs": [],
   "source": [
    "## Expanding coordinates\n",
    "peak_coord = peak_name.str.split(':|-', expand=True)\n",
    "peak_coord.columns = ['chr', 'start', 'end']"
   ]
  },
  {
   "cell_type": "code",
   "execution_count": 6,
   "id": "599c6467-2fa5-444d-9adb-826934aa39fc",
   "metadata": {},
   "outputs": [],
   "source": [
    "## Adding the peak's name\n",
    "peak_coord['name'] = peak_name"
   ]
  },
  {
   "cell_type": "code",
   "execution_count": 7,
   "id": "a80dc68a-1dc4-447c-b9de-b80544a4ca49",
   "metadata": {},
   "outputs": [
    {
     "data": {
      "text/html": [
       "<div>\n",
       "<style scoped>\n",
       "    .dataframe tbody tr th:only-of-type {\n",
       "        vertical-align: middle;\n",
       "    }\n",
       "\n",
       "    .dataframe tbody tr th {\n",
       "        vertical-align: top;\n",
       "    }\n",
       "\n",
       "    .dataframe thead th {\n",
       "        text-align: right;\n",
       "    }\n",
       "</style>\n",
       "<table border=\"1\" class=\"dataframe\">\n",
       "  <thead>\n",
       "    <tr style=\"text-align: right;\">\n",
       "      <th></th>\n",
       "      <th>chr</th>\n",
       "      <th>start</th>\n",
       "      <th>end</th>\n",
       "      <th>name</th>\n",
       "    </tr>\n",
       "  </thead>\n",
       "  <tbody>\n",
       "    <tr>\n",
       "      <th>0</th>\n",
       "      <td>chr1</td>\n",
       "      <td>794840</td>\n",
       "      <td>795340</td>\n",
       "      <td>chr1:794840-795340</td>\n",
       "    </tr>\n",
       "    <tr>\n",
       "      <th>1</th>\n",
       "      <td>chr1</td>\n",
       "      <td>807550</td>\n",
       "      <td>808050</td>\n",
       "      <td>chr1:807550-808050</td>\n",
       "    </tr>\n",
       "    <tr>\n",
       "      <th>2</th>\n",
       "      <td>chr1</td>\n",
       "      <td>811011</td>\n",
       "      <td>811511</td>\n",
       "      <td>chr1:811011-811511</td>\n",
       "    </tr>\n",
       "    <tr>\n",
       "      <th>3</th>\n",
       "      <td>chr1</td>\n",
       "      <td>817090</td>\n",
       "      <td>817590</td>\n",
       "      <td>chr1:817090-817590</td>\n",
       "    </tr>\n",
       "    <tr>\n",
       "      <th>4</th>\n",
       "      <td>chr1</td>\n",
       "      <td>817824</td>\n",
       "      <td>818324</td>\n",
       "      <td>chr1:817824-818324</td>\n",
       "    </tr>\n",
       "    <tr>\n",
       "      <th>...</th>\n",
       "      <td>...</td>\n",
       "      <td>...</td>\n",
       "      <td>...</td>\n",
       "      <td>...</td>\n",
       "    </tr>\n",
       "    <tr>\n",
       "      <th>407378</th>\n",
       "      <td>chrX</td>\n",
       "      <td>155880997</td>\n",
       "      <td>155881497</td>\n",
       "      <td>chrX:155880997-155881497</td>\n",
       "    </tr>\n",
       "    <tr>\n",
       "      <th>407379</th>\n",
       "      <td>chrX</td>\n",
       "      <td>155881594</td>\n",
       "      <td>155882094</td>\n",
       "      <td>chrX:155881594-155882094</td>\n",
       "    </tr>\n",
       "    <tr>\n",
       "      <th>407380</th>\n",
       "      <td>chrX</td>\n",
       "      <td>155888133</td>\n",
       "      <td>155888633</td>\n",
       "      <td>chrX:155888133-155888633</td>\n",
       "    </tr>\n",
       "    <tr>\n",
       "      <th>407381</th>\n",
       "      <td>chrX</td>\n",
       "      <td>155957678</td>\n",
       "      <td>155958178</td>\n",
       "      <td>chrX:155957678-155958178</td>\n",
       "    </tr>\n",
       "    <tr>\n",
       "      <th>407382</th>\n",
       "      <td>chrX</td>\n",
       "      <td>155966811</td>\n",
       "      <td>155967311</td>\n",
       "      <td>chrX:155966811-155967311</td>\n",
       "    </tr>\n",
       "  </tbody>\n",
       "</table>\n",
       "<p>407383 rows × 4 columns</p>\n",
       "</div>"
      ],
      "text/plain": [
       "         chr      start        end                      name\n",
       "0       chr1     794840     795340        chr1:794840-795340\n",
       "1       chr1     807550     808050        chr1:807550-808050\n",
       "2       chr1     811011     811511        chr1:811011-811511\n",
       "3       chr1     817090     817590        chr1:817090-817590\n",
       "4       chr1     817824     818324        chr1:817824-818324\n",
       "...      ...        ...        ...                       ...\n",
       "407378  chrX  155880997  155881497  chrX:155880997-155881497\n",
       "407379  chrX  155881594  155882094  chrX:155881594-155882094\n",
       "407380  chrX  155888133  155888633  chrX:155888133-155888633\n",
       "407381  chrX  155957678  155958178  chrX:155957678-155958178\n",
       "407382  chrX  155966811  155967311  chrX:155966811-155967311\n",
       "\n",
       "[407383 rows x 4 columns]"
      ]
     },
     "execution_count": 7,
     "metadata": {},
     "output_type": "execute_result"
    }
   ],
   "source": [
    "peak_coord"
   ]
  },
  {
   "cell_type": "code",
   "execution_count": 8,
   "id": "0e29fde6-7d5b-41a5-b2eb-aee9aec6bff0",
   "metadata": {},
   "outputs": [],
   "source": [
    "## Export into bed format\n",
    "peak_coord.to_csv((outdir + 'all_peaks.bed'), sep='\\t', index=False, header=False)"
   ]
  },
  {
   "cell_type": "code",
   "execution_count": 9,
   "id": "b1bfa3ed-a09d-44cd-b9a8-cdf83370a5e6",
   "metadata": {},
   "outputs": [
    {
     "data": {
      "text/plain": [
       "0"
      ]
     },
     "execution_count": 9,
     "metadata": {},
     "output_type": "execute_result"
    }
   ],
   "source": [
    "## And convert to fasta\n",
    "os.system(('bedtools getfasta -fi ' + genome + ' -bed ' + outdir + 'all_peaks.bed > ' + outdir + 'all_peaks.fa'))"
   ]
  }
 ],
 "metadata": {
  "kernelspec": {
   "display_name": "multiome",
   "language": "python",
   "name": "multiome"
  },
  "language_info": {
   "codemirror_mode": {
    "name": "ipython",
    "version": 3
   },
   "file_extension": ".py",
   "mimetype": "text/x-python",
   "name": "python",
   "nbconvert_exporter": "python",
   "pygments_lexer": "ipython3",
   "version": "3.9.18"
  }
 },
 "nbformat": 4,
 "nbformat_minor": 5
}
